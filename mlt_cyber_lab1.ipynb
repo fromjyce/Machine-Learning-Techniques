{
  "nbformat": 4,
  "nbformat_minor": 0,
  "metadata": {
    "colab": {
      "private_outputs": true,
      "provenance": []
    },
    "kernelspec": {
      "name": "python3",
      "display_name": "Python 3"
    },
    "language_info": {
      "name": "python"
    }
  },
  "cells": [
    {
      "cell_type": "code",
      "source": [
        "# Import all the packages in a new code block before its use\n",
        "## Type your registration number and Name\n",
        "Registration_Number = \"\"\n",
        "Name = \"\""
      ],
      "metadata": {
        "id": "hMrVROy78xZT"
      },
      "execution_count": null,
      "outputs": []
    },
    {
      "cell_type": "markdown",
      "source": [
        "# LAB 1 (26-12-2023)\n",
        "\n",
        "The following topics will be tested/reviewed in this notebook.\n",
        "- Basic I/O in python\n",
        "- Functions and Classes in Python\n",
        "- Descision statements and Loops\n",
        "- Numpy and Matplotlib\n",
        "- pandas\n",
        "- scikit-learn\n"
      ],
      "metadata": {
        "id": "qtzFnRyxyiFg"
      }
    },
    {
      "cell_type": "markdown",
      "source": [
        "## Basic I/O in python\n",
        "Write python program for the following:\n",
        "- print the result of $\\sqrt{b^2-4ac}$\n",
        "- accept a string and print the reverse of the string"
      ],
      "metadata": {
        "id": "Q5qa8qYa0JnN"
      }
    },
    {
      "cell_type": "code",
      "source": [
        "## Your code goes here\n",
        "\n",
        "\n",
        "##"
      ],
      "metadata": {
        "id": "6TXgRv65HPPd"
      },
      "execution_count": null,
      "outputs": []
    },
    {
      "cell_type": "markdown",
      "source": [
        "## Decision statements and Loops\n",
        "Write python program for the following:\n",
        "- Given a list, check how many times an element is present in the list\n",
        "- Given two numbers a, b and b>a, find how many even numbers, odd numbers and prime numbers are there."
      ],
      "metadata": {
        "id": "caXS1_7O4LwU"
      }
    },
    {
      "cell_type": "code",
      "source": [
        "## Your code goes here\n",
        "\n",
        "##"
      ],
      "metadata": {
        "id": "ahtYg_-QHJbh"
      },
      "execution_count": null,
      "outputs": []
    },
    {
      "cell_type": "markdown",
      "source": [
        "## Functions and Classes\n",
        "\n",
        "Write python functions for the following:\n",
        "- accept a string (a row of comma separated values) and returns a list whose elemetns are the values from the string\n",
        "- given a list of names return the total characters in that list\n",
        "\n",
        "Write class for the following:\n",
        "- Complex number arithmetic (+,*) Try operator overloading\n"
      ],
      "metadata": {
        "id": "6tg59s2f4Gd9"
      }
    },
    {
      "cell_type": "code",
      "source": [
        "## Your code goes here (Function)\n",
        "\n",
        "##"
      ],
      "metadata": {
        "id": "Sx3dZOLCDIi0"
      },
      "execution_count": null,
      "outputs": []
    },
    {
      "cell_type": "code",
      "source": [
        "## Your code goes here (classes)\n",
        "\n",
        "##"
      ],
      "metadata": {
        "id": "leBaN3i4DI2h"
      },
      "execution_count": null,
      "outputs": []
    },
    {
      "cell_type": "markdown",
      "source": [
        "## Numpy and Matplotlib\n",
        "\n",
        "### TODO\n",
        "**Numpy** is a python package that has well-optimised numerical algorithms like matrices, arrays etc.,\n",
        "- Create a list of numbers and convert it into numpy array\n",
        "- Create a 10x10 matrix (D) where each element of the matrix is given by the formula\n",
        "$$D_{ij}=i+j+1-ij$$\n",
        "- Compute the maximum value of the element in the matrix\n",
        "- go through a [short tutorial on numpy](https://numpy.org/devdocs/user/quickstart.html)\n",
        "\n",
        "**Matplotlib** is package that specialises in producing scientific grade plots.\n",
        "### TODO\n",
        "- Create two random arrays y,z using numpy\n",
        "- create an array x equal to the size of y the elements of the array x goes from 1 to size(y)\n",
        "- Plot (x,y) and (x,z)\n",
        "- Try different features"
      ],
      "metadata": {
        "id": "P9mUS1c_4Woz"
      }
    },
    {
      "cell_type": "code",
      "source": [
        "## Your code goes here (NUMPY)\n",
        "\n",
        "##"
      ],
      "metadata": {
        "id": "G-mwLmlMBsxI"
      },
      "execution_count": null,
      "outputs": []
    },
    {
      "cell_type": "code",
      "source": [
        "## Your code goes here (Matplotlib)\n",
        "\n",
        "##"
      ],
      "metadata": {
        "id": "RhQ6aMt9_7gt"
      },
      "execution_count": null,
      "outputs": []
    },
    {
      "cell_type": "markdown",
      "source": [
        "## pandas\n",
        "\n",
        "pandas is a python package that is useful for processing tabular data. Usually, if the format of the data is in a .csv, .xls, etc., then pandas is handy in processing.\n",
        "\n",
        "### TODO\n",
        "- Own a unique dataset to workwith from [Free Dataset](https://data.world/datasets/free). You may also choose any dataset from [INDIAN DATASETS](https://indiaai.gov.in/datasets), [US Govt data](https://data.gov/)\n",
        "- Download it in CSV file\n",
        "- Clean the dataset i.e., check for any N/A values or empty values and take appropriate action on the column. (Check how to clean dataset using pandas)\n",
        "- Process the data using padas library (use describe() routine to check the statistical significance of each feature in your dataset)\n",
        "- Use scatterplot (of pandas) to study how a pair of features are related\n",
        "- Create a new column from three existing columns. For example if x1,x2,x3 denote three already existing columns then create a new column x4 = 0.56* (x3)*2 + 0.3* (x2)**2 + 0.2 * (x1)"
      ],
      "metadata": {
        "id": "xEyJqTQe4lc4"
      }
    },
    {
      "cell_type": "code",
      "execution_count": null,
      "metadata": {
        "id": "la82164-yb7f"
      },
      "outputs": [],
      "source": [
        "### Your code goes here\n",
        "## Required Libraries\n",
        "\n",
        "##"
      ]
    },
    {
      "cell_type": "markdown",
      "source": [
        "## SCIKIT-LEARN\n",
        "\n",
        "### TODO\n",
        "- In the above dataset that you have taken, If one of your columns has non-numerical value but it is categorical (Gender, birthplace, etc,.) Use scikit-learn to encode using numerical values.\n",
        "- Explore various scaling techniques available in scikit-learn, Atleast try two of the scalers with your dataset\n",
        "- Check what is \"Polynomial features\" in scikit-learn and try it with your dataset."
      ],
      "metadata": {
        "id": "PsCUbseo4pfF"
      }
    },
    {
      "cell_type": "code",
      "source": [
        "### Your code goes here\n",
        "## Required Libraries\n",
        "\n",
        "##\n",
        "# 1) Encoding\n",
        "\n",
        "\n",
        "# 2) Scaling of dataset\n",
        "\n",
        "\n",
        "# 3) Polynomial features\n",
        "\n",
        "\n",
        "\n",
        "\n",
        "###"
      ],
      "metadata": {
        "id": "EqfSKITg4skp"
      },
      "execution_count": null,
      "outputs": []
    }
  ]
}