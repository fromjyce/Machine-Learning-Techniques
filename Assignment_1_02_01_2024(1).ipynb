{
  "nbformat": 4,
  "nbformat_minor": 0,
  "metadata": {
    "colab": {
      "provenance": []
    },
    "kernelspec": {
      "name": "python3",
      "display_name": "Python 3"
    },
    "language_info": {
      "name": "python"
    }
  },
  "cells": [
    {
      "cell_type": "markdown",
      "source": [
        "Assignment: Import, Head, Drop, Count, CountSum, Unique, NUnique, Delimiter, LabelEncoder, OnehotEncoder"
      ],
      "metadata": {
        "id": "eRzDKo0VfQmi"
      }
    },
    {
      "cell_type": "markdown",
      "source": [
        "Dataset Link:"
      ],
      "metadata": {
        "id": "t5ICRGw6fMNo"
      }
    },
    {
      "cell_type": "code",
      "source": [
        "import pandas as pd\n",
        "from sklearn.preprocessing import LabelEncoder, OneHotEncoder"
      ],
      "metadata": {
        "id": "AqDpzsxUTVQE"
      },
      "execution_count": 6,
      "outputs": []
    },
    {
      "cell_type": "code",
      "source": [
        "#importing the csv file\n",
        "df = pd.read_csv('school-dataset.csv')"
      ],
      "metadata": {
        "id": "tXDvGqNpTWSt"
      },
      "execution_count": 7,
      "outputs": []
    },
    {
      "cell_type": "code",
      "source": [
        "#print head of the file\n",
        "print(df.head())\n",
        "\n",
        "print(\"------------------------------------\")\n",
        "#print first 10 records\n",
        "print(df.head(10))"
      ],
      "metadata": {
        "colab": {
          "base_uri": "https://localhost:8080/"
        },
        "id": "se7TVmHFUK10",
        "outputId": "2d123dde-cced-4bfb-f415-8b845dbeae10"
      },
      "execution_count": 8,
      "outputs": [
        {
          "output_type": "stream",
          "name": "stdout",
          "text": [
            "      DBN                                School Name Grade  Year  \\\n",
            "0  84K037  BEGINNING WITH CHILDREN CHARTER SCHOOL II     3  2015   \n",
            "1  84K037  BEGINNING WITH CHILDREN CHARTER SCHOOL II     3  2016   \n",
            "2  84K037  BEGINNING WITH CHILDREN CHARTER SCHOOL II     3  2017   \n",
            "3  84K037  BEGINNING WITH CHILDREN CHARTER SCHOOL II     4  2016   \n",
            "4  84K037  BEGINNING WITH CHILDREN CHARTER SCHOOL II     4  2017   \n",
            "\n",
            "       Category  Number Tested Mean Scale Score Level1_N Level1_% Level2_N  \\\n",
            "0  All Students             43              306        9     20.9       20   \n",
            "1  All Students             52              319        4      7.7       20   \n",
            "2  All Students             50              323        2      4.0       16   \n",
            "3  All Students             40              315        4     10.0       18   \n",
            "4  All Students             52              320        4      7.7       18   \n",
            "\n",
            "  Level2_% Level3_N Level3_% Level4_N Level4_% Level3+4_N Level3+4_%  \n",
            "0     46.5       13     30.2        1      2.3         14       32.6  \n",
            "1     38.5       25     48.1        3      5.8         28       53.8  \n",
            "2     32.0       29     58.0        3      6.0         32       64.0  \n",
            "3     45.0       14     35.0        4     10.0         18       45.0  \n",
            "4     34.6       21     40.4        9     17.3         30       57.7  \n",
            "------------------------------------\n",
            "      DBN                                 School Name       Grade  Year  \\\n",
            "0  84K037   BEGINNING WITH CHILDREN CHARTER SCHOOL II           3  2015   \n",
            "1  84K037   BEGINNING WITH CHILDREN CHARTER SCHOOL II           3  2016   \n",
            "2  84K037   BEGINNING WITH CHILDREN CHARTER SCHOOL II           3  2017   \n",
            "3  84K037   BEGINNING WITH CHILDREN CHARTER SCHOOL II           4  2016   \n",
            "4  84K037   BEGINNING WITH CHILDREN CHARTER SCHOOL II           4  2017   \n",
            "5  84K037   BEGINNING WITH CHILDREN CHARTER SCHOOL II           5  2017   \n",
            "6  84K037   BEGINNING WITH CHILDREN CHARTER SCHOOL II  All Grades  2015   \n",
            "7  84K037   BEGINNING WITH CHILDREN CHARTER SCHOOL II  All Grades  2016   \n",
            "8  84K037   BEGINNING WITH CHILDREN CHARTER SCHOOL II  All Grades  2017   \n",
            "9  84K125  SUCCESS ACADEMY CHARTER SCHOOL  BED STUY 2           3  2015   \n",
            "\n",
            "       Category  Number Tested Mean Scale Score Level1_N Level1_% Level2_N  \\\n",
            "0  All Students             43              306        9     20.9       20   \n",
            "1  All Students             52              319        4      7.7       20   \n",
            "2  All Students             50              323        2      4.0       16   \n",
            "3  All Students             40              315        4     10.0       18   \n",
            "4  All Students             52              320        4      7.7       18   \n",
            "5  All Students             39              316        3      7.7       17   \n",
            "6  All Students             43              306        9     20.9       20   \n",
            "7  All Students             92              317        8      8.7       38   \n",
            "8  All Students            141              320        9      6.4       51   \n",
            "9  All Students             56              322        8     14.3       15   \n",
            "\n",
            "  Level2_% Level3_N Level3_% Level4_N Level4_% Level3+4_N Level3+4_%  \n",
            "0     46.5       13     30.2        1      2.3         14       32.6  \n",
            "1     38.5       25     48.1        3      5.8         28       53.8  \n",
            "2     32.0       29     58.0        3      6.0         32       64.0  \n",
            "3     45.0       14     35.0        4     10.0         18       45.0  \n",
            "4     34.6       21     40.4        9     17.3         30       57.7  \n",
            "5     43.6       17     43.6        2      5.1         19       48.7  \n",
            "6     46.5       13     30.2        1      2.3         14       32.6  \n",
            "7     41.3       39     42.4        7      7.6         46       50.0  \n",
            "8     36.2       67     47.5       14      9.9         81       57.4  \n",
            "9     26.8       27     48.2        6     10.7         33       58.9  \n"
          ]
        }
      ]
    },
    {
      "cell_type": "code",
      "source": [
        "#print the tail of the dataset\n",
        "print(df.tail())\n",
        "\n",
        "\n",
        "print(\"---------------------------\")\n",
        "\n",
        "#printing last 8 records of the dataset\n",
        "\n",
        "print(df.tail(8))"
      ],
      "metadata": {
        "colab": {
          "base_uri": "https://localhost:8080/"
        },
        "id": "UaGqBhyLUiyy",
        "outputId": "0b94faee-5f08-46c8-f52e-c6a04a5ef6a3"
      },
      "execution_count": 9,
      "outputs": [
        {
          "output_type": "stream",
          "name": "stdout",
          "text": [
            "         DBN                        School Name       Grade  Year  \\\n",
            "3586  84X730  BRONX CHARTER SCHOOL FOR THE ARTS  All Grades  2013   \n",
            "3587  84X730  BRONX CHARTER SCHOOL FOR THE ARTS  All Grades  2014   \n",
            "3588  84X730  BRONX CHARTER SCHOOL FOR THE ARTS  All Grades  2015   \n",
            "3589  84X730  BRONX CHARTER SCHOOL FOR THE ARTS  All Grades  2016   \n",
            "3590  84X730  BRONX CHARTER SCHOOL FOR THE ARTS  All Grades  2017   \n",
            "\n",
            "          Category  Number Tested Mean Scale Score Level1_N Level1_% Level2_N  \\\n",
            "3586  All Students            148              298       43     29.1       75   \n",
            "3587  All Students            148              303       35     23.6       69   \n",
            "3588  All Students            143              309       30     21.0       59   \n",
            "3589  All Students            143              318       12      8.4       49   \n",
            "3590  All Students            141              322        8      5.7       46   \n",
            "\n",
            "     Level2_% Level3_N Level3_% Level4_N Level4_% Level3+4_N Level3+4_%  \n",
            "3586     50.7       26     17.6        4      2.7         30       20.3  \n",
            "3587     46.6       33     22.3       11      7.4         44       29.7  \n",
            "3588     41.3       44     30.8       10      7.0         54       37.8  \n",
            "3589     34.3       66     46.2       16     11.2         82       57.3  \n",
            "3590     32.6       67     47.5       20     14.2         87       61.7  \n",
            "---------------------------\n",
            "         DBN                        School Name       Grade  Year  \\\n",
            "3583  84X730  BRONX CHARTER SCHOOL FOR THE ARTS           5  2015   \n",
            "3584  84X730  BRONX CHARTER SCHOOL FOR THE ARTS           5  2016   \n",
            "3585  84X730  BRONX CHARTER SCHOOL FOR THE ARTS           5  2017   \n",
            "3586  84X730  BRONX CHARTER SCHOOL FOR THE ARTS  All Grades  2013   \n",
            "3587  84X730  BRONX CHARTER SCHOOL FOR THE ARTS  All Grades  2014   \n",
            "3588  84X730  BRONX CHARTER SCHOOL FOR THE ARTS  All Grades  2015   \n",
            "3589  84X730  BRONX CHARTER SCHOOL FOR THE ARTS  All Grades  2016   \n",
            "3590  84X730  BRONX CHARTER SCHOOL FOR THE ARTS  All Grades  2017   \n",
            "\n",
            "          Category  Number Tested Mean Scale Score Level1_N Level1_% Level2_N  \\\n",
            "3583  All Students             50              310       10     20.0       21   \n",
            "3584  All Students             44              309        7     15.9       16   \n",
            "3585  All Students             42              318        3      7.1       15   \n",
            "3586  All Students            148              298       43     29.1       75   \n",
            "3587  All Students            148              303       35     23.6       69   \n",
            "3588  All Students            143              309       30     21.0       59   \n",
            "3589  All Students            143              318       12      8.4       49   \n",
            "3590  All Students            141              322        8      5.7       46   \n",
            "\n",
            "     Level2_% Level3_N Level3_% Level4_N Level4_% Level3+4_N Level3+4_%  \n",
            "3583     42.0       14     28.0        5     10.0         19       38.0  \n",
            "3584     36.4       18     40.9        3      6.8         21       47.7  \n",
            "3585     35.7       18     42.9        6     14.3         24       57.1  \n",
            "3586     50.7       26     17.6        4      2.7         30       20.3  \n",
            "3587     46.6       33     22.3       11      7.4         44       29.7  \n",
            "3588     41.3       44     30.8       10      7.0         54       37.8  \n",
            "3589     34.3       66     46.2       16     11.2         82       57.3  \n",
            "3590     32.6       67     47.5       20     14.2         87       61.7  \n"
          ]
        }
      ]
    },
    {
      "cell_type": "code",
      "source": [
        "#all the columns of the dataset\n",
        "\n",
        "print(df.columns)"
      ],
      "metadata": {
        "colab": {
          "base_uri": "https://localhost:8080/"
        },
        "id": "6ONHKfK0UyUx",
        "outputId": "95bb573a-2cc0-441d-bffc-becb9b9791dd"
      },
      "execution_count": 10,
      "outputs": [
        {
          "output_type": "stream",
          "name": "stdout",
          "text": [
            "Index(['DBN', 'School Name', 'Grade', 'Year', 'Category', 'Number Tested',\n",
            "       'Mean Scale Score', 'Level1_N', 'Level1_%', 'Level2_N', 'Level2_%',\n",
            "       'Level3_N', 'Level3_%', 'Level4_N', 'Level4_%', 'Level3+4_N',\n",
            "       'Level3+4_%'],\n",
            "      dtype='object')\n"
          ]
        }
      ]
    },
    {
      "cell_type": "code",
      "source": [
        "#copying the dataset to avoid modification in original dataset\n",
        "\n",
        "df_copy = df.copy()\n",
        "\n",
        "#printing the columns of the duplicate dataset\n",
        "\n",
        "print(df_copy.columns)"
      ],
      "metadata": {
        "colab": {
          "base_uri": "https://localhost:8080/"
        },
        "id": "xCqjMU5YVDc_",
        "outputId": "8ca3191c-94b2-4353-fb76-f1e998360e9e"
      },
      "execution_count": 11,
      "outputs": [
        {
          "output_type": "stream",
          "name": "stdout",
          "text": [
            "Index(['DBN', 'School Name', 'Grade', 'Year', 'Category', 'Number Tested',\n",
            "       'Mean Scale Score', 'Level1_N', 'Level1_%', 'Level2_N', 'Level2_%',\n",
            "       'Level3_N', 'Level3_%', 'Level4_N', 'Level4_%', 'Level3+4_N',\n",
            "       'Level3+4_%'],\n",
            "      dtype='object')\n"
          ]
        }
      ]
    },
    {
      "cell_type": "code",
      "source": [
        "#dropping the columns in the duplicate dataset\n",
        "\n",
        "columns_to_drop = ['School Name', 'Grade']\n",
        "\n",
        "df_copy = df_copy.drop(columns=columns_to_drop)\n",
        "\n",
        "#checking\n",
        "print(df_copy.head())\n",
        "\n",
        "print(\"--------------------------------------\")\n",
        "\n",
        "print(df_copy.columns)\n",
        "\n"
      ],
      "metadata": {
        "colab": {
          "base_uri": "https://localhost:8080/"
        },
        "id": "SfkDA4lhVTFe",
        "outputId": "66b204c5-3f0a-422e-f691-3ce4c0b8b240"
      },
      "execution_count": 12,
      "outputs": [
        {
          "output_type": "stream",
          "name": "stdout",
          "text": [
            "      DBN  Year      Category  Number Tested Mean Scale Score Level1_N  \\\n",
            "0  84K037  2015  All Students             43              306        9   \n",
            "1  84K037  2016  All Students             52              319        4   \n",
            "2  84K037  2017  All Students             50              323        2   \n",
            "3  84K037  2016  All Students             40              315        4   \n",
            "4  84K037  2017  All Students             52              320        4   \n",
            "\n",
            "  Level1_% Level2_N Level2_% Level3_N Level3_% Level4_N Level4_% Level3+4_N  \\\n",
            "0     20.9       20     46.5       13     30.2        1      2.3         14   \n",
            "1      7.7       20     38.5       25     48.1        3      5.8         28   \n",
            "2      4.0       16     32.0       29     58.0        3      6.0         32   \n",
            "3     10.0       18     45.0       14     35.0        4     10.0         18   \n",
            "4      7.7       18     34.6       21     40.4        9     17.3         30   \n",
            "\n",
            "  Level3+4_%  \n",
            "0       32.6  \n",
            "1       53.8  \n",
            "2       64.0  \n",
            "3       45.0  \n",
            "4       57.7  \n",
            "--------------------------------------\n",
            "Index(['DBN', 'Year', 'Category', 'Number Tested', 'Mean Scale Score',\n",
            "       'Level1_N', 'Level1_%', 'Level2_N', 'Level2_%', 'Level3_N', 'Level3_%',\n",
            "       'Level4_N', 'Level4_%', 'Level3+4_N', 'Level3+4_%'],\n",
            "      dtype='object')\n"
          ]
        }
      ]
    },
    {
      "cell_type": "code",
      "source": [
        "#counting\n",
        "\n",
        "print(df.count())"
      ],
      "metadata": {
        "colab": {
          "base_uri": "https://localhost:8080/"
        },
        "id": "9Gjfy9XXVyda",
        "outputId": "71be5c36-d5d4-4702-a9f1-b510a165a086"
      },
      "execution_count": 13,
      "outputs": [
        {
          "output_type": "stream",
          "name": "stdout",
          "text": [
            "DBN                 3591\n",
            "School Name         3591\n",
            "Grade               3591\n",
            "Year                3591\n",
            "Category            3591\n",
            "Number Tested       3591\n",
            "Mean Scale Score    3591\n",
            "Level1_N            3591\n",
            "Level1_%            3591\n",
            "Level2_N            3591\n",
            "Level2_%            3591\n",
            "Level3_N            3591\n",
            "Level3_%            3591\n",
            "Level4_N            3591\n",
            "Level4_%            3591\n",
            "Level3+4_N          3591\n",
            "Level3+4_%          3591\n",
            "dtype: int64\n"
          ]
        }
      ]
    },
    {
      "cell_type": "code",
      "source": [
        "#sum of the whole count\n",
        "\n",
        "print(df.count().sum())"
      ],
      "metadata": {
        "colab": {
          "base_uri": "https://localhost:8080/"
        },
        "id": "gc1YekXPV6z4",
        "outputId": "437f6365-d122-48bf-c371-f345b3612dc8"
      },
      "execution_count": 14,
      "outputs": [
        {
          "output_type": "stream",
          "name": "stdout",
          "text": [
            "61047\n"
          ]
        }
      ]
    },
    {
      "cell_type": "code",
      "source": [
        "import random\n",
        "\n",
        "columns = list(df.columns)\n",
        "\n",
        "column_unq = random.choice(columns)\n",
        "\n",
        "print(\"Chosen Column: \" + column_unq)\n",
        "\n",
        "unique_values = df[column_unq].unique()\n",
        "\n",
        "print(unique_values)"
      ],
      "metadata": {
        "colab": {
          "base_uri": "https://localhost:8080/"
        },
        "id": "U09ARhzSW69F",
        "outputId": "f6dc9fe3-8d8a-4ce0-e2e1-e785af280bbe"
      },
      "execution_count": 15,
      "outputs": [
        {
          "output_type": "stream",
          "name": "stdout",
          "text": [
            "Chosen Column: Number Tested\n",
            "[ 43  52  50  40  39  92 141  56  78  81  47  72 125 153  73 102  74  54\n",
            "  90 156 216  76  99  98  69  91  63 168 252  57  61  64  59  62  60  66\n",
            " 120 190 247 294  80  83  82  87  77  68 310 316 313 329 326  89  70  84\n",
            "  93  79  97 106 107  86  75 468 494 519 533 553  94  88  85  55 320 345\n",
            " 348 338 407  67  58  65 450 466 442 420  48  49  96 534 428 404 105 104\n",
            " 204 297 269 296  51  46  53  44  25  45 273 307 309 315 311  71 149 203\n",
            " 304 186 245 353  28  24  95 171 239 301 286 264  36 181 214 101 328 424\n",
            " 520 532  34  26  18  19 266 343 408 465 497  31 201 250 295 284 299 100\n",
            " 507 531 558 567  41  33  23  35 350 419 481 287 282 325 342 160 240 430\n",
            " 523 527 272 280 319 332 151 178 169  30 129 238 114 115 134 144 147 113\n",
            " 143 131 109 121 103 108 347 461 565 660 689 111 117  37  38  27 110  32\n",
            " 271 267 289 260  42 253 255 336 333 335 308 377 277 217 391 500 118 321\n",
            " 415 512 145 397 372 351 185 167 132 491 483 459 425 426 119 126 112 183\n",
            " 437 555 645 388 441 140 177 231 288 340 339 418 221 207 279 122 176 224\n",
            " 285 209 192 191 130 386 460 327 505 200 258 206 318 138 360 402  22 116\n",
            " 179 257 403 195 398 467 148 208 175 152 184 124 232 416 218 303 199 536\n",
            " 142 197 157 187 223 522 529 548 137 346 401 259 312 355 446 545 544 551\n",
            " 361 445 463 479 337 123 127 443 526 562 755 593 383 393 392 382 385 139\n",
            " 193 246 400 395 493 352 473 480 472 470 128 475 469   1 330 291 394 165\n",
            "  20  29 150 241 170 244 164  21 163 174 188 198 379 482 275 251 380 305\n",
            " 274 254 249 213 146 227 364 369 162 243 341 511 334 486 236 262 453 447\n",
            " 136 263 229 322 323 389 539 135 367 161 452 462 435 212 226 270 196 268\n",
            " 210 237 370 194 159 234 230 381 331 222 490 154 290 387 412 172 358 436\n",
            " 344 432 485 498 413 411]\n"
          ]
        }
      ]
    },
    {
      "cell_type": "code",
      "source": [
        "num_unique_values = df[column_unq].nunique()\n",
        "\n",
        "print(num_unique_values)"
      ],
      "metadata": {
        "colab": {
          "base_uri": "https://localhost:8080/"
        },
        "id": "E2kG0ohRXboZ",
        "outputId": "d7ea53d3-5f30-4046-b5b8-80d45154b7bd"
      },
      "execution_count": 16,
      "outputs": [
        {
          "output_type": "stream",
          "name": "stdout",
          "text": [
            "420\n"
          ]
        }
      ]
    },
    {
      "cell_type": "code",
      "source": [
        "missing_values = df.isnull().sum()\n",
        "\n",
        "print(missing_values)"
      ],
      "metadata": {
        "colab": {
          "base_uri": "https://localhost:8080/"
        },
        "id": "XU0T5GgFXsUQ",
        "outputId": "b712acdd-de73-4765-af28-a1accf334d15"
      },
      "execution_count": 17,
      "outputs": [
        {
          "output_type": "stream",
          "name": "stdout",
          "text": [
            "DBN                 0\n",
            "School Name         0\n",
            "Grade               0\n",
            "Year                0\n",
            "Category            0\n",
            "Number Tested       0\n",
            "Mean Scale Score    0\n",
            "Level1_N            0\n",
            "Level1_%            0\n",
            "Level2_N            0\n",
            "Level2_%            0\n",
            "Level3_N            0\n",
            "Level3_%            0\n",
            "Level4_N            0\n",
            "Level4_%            0\n",
            "Level3+4_N          0\n",
            "Level3+4_%          0\n",
            "dtype: int64\n"
          ]
        }
      ]
    },
    {
      "cell_type": "code",
      "source": [
        "#usage of delimiter\n",
        "\n",
        "df_delimited = pd.read_csv(\"school-dataset.csv\", sep=\",\")\n",
        "\n",
        "print(df_delimited)"
      ],
      "metadata": {
        "id": "BoBPoU5hXx1V",
        "colab": {
          "base_uri": "https://localhost:8080/"
        },
        "outputId": "9ee03a9e-0f19-45ad-9626-29d74b7c8b15"
      },
      "execution_count": 22,
      "outputs": [
        {
          "output_type": "stream",
          "name": "stdout",
          "text": [
            "         DBN                                School Name       Grade  Year  \\\n",
            "0     84K037  BEGINNING WITH CHILDREN CHARTER SCHOOL II           3  2015   \n",
            "1     84K037  BEGINNING WITH CHILDREN CHARTER SCHOOL II           3  2016   \n",
            "2     84K037  BEGINNING WITH CHILDREN CHARTER SCHOOL II           3  2017   \n",
            "3     84K037  BEGINNING WITH CHILDREN CHARTER SCHOOL II           4  2016   \n",
            "4     84K037  BEGINNING WITH CHILDREN CHARTER SCHOOL II           4  2017   \n",
            "...      ...                                        ...         ...   ...   \n",
            "3586  84X730          BRONX CHARTER SCHOOL FOR THE ARTS  All Grades  2013   \n",
            "3587  84X730          BRONX CHARTER SCHOOL FOR THE ARTS  All Grades  2014   \n",
            "3588  84X730          BRONX CHARTER SCHOOL FOR THE ARTS  All Grades  2015   \n",
            "3589  84X730          BRONX CHARTER SCHOOL FOR THE ARTS  All Grades  2016   \n",
            "3590  84X730          BRONX CHARTER SCHOOL FOR THE ARTS  All Grades  2017   \n",
            "\n",
            "          Category  Number Tested Mean Scale Score Level1_N Level1_% Level2_N  \\\n",
            "0     All Students             43              306        9     20.9       20   \n",
            "1     All Students             52              319        4      7.7       20   \n",
            "2     All Students             50              323        2      4.0       16   \n",
            "3     All Students             40              315        4     10.0       18   \n",
            "4     All Students             52              320        4      7.7       18   \n",
            "...            ...            ...              ...      ...      ...      ...   \n",
            "3586  All Students            148              298       43     29.1       75   \n",
            "3587  All Students            148              303       35     23.6       69   \n",
            "3588  All Students            143              309       30     21.0       59   \n",
            "3589  All Students            143              318       12      8.4       49   \n",
            "3590  All Students            141              322        8      5.7       46   \n",
            "\n",
            "     Level2_% Level3_N Level3_% Level4_N Level4_% Level3+4_N Level3+4_%  \n",
            "0        46.5       13     30.2        1      2.3         14       32.6  \n",
            "1        38.5       25     48.1        3      5.8         28       53.8  \n",
            "2        32.0       29     58.0        3      6.0         32       64.0  \n",
            "3        45.0       14     35.0        4     10.0         18       45.0  \n",
            "4        34.6       21     40.4        9     17.3         30       57.7  \n",
            "...       ...      ...      ...      ...      ...        ...        ...  \n",
            "3586     50.7       26     17.6        4      2.7         30       20.3  \n",
            "3587     46.6       33     22.3       11      7.4         44       29.7  \n",
            "3588     41.3       44     30.8       10      7.0         54       37.8  \n",
            "3589     34.3       66     46.2       16     11.2         82       57.3  \n",
            "3590     32.6       67     47.5       20     14.2         87       61.7  \n",
            "\n",
            "[3591 rows x 17 columns]\n"
          ]
        }
      ]
    },
    {
      "cell_type": "code",
      "source": [
        "#categorical columns\n",
        "\n",
        "categorical_columns = df.select_dtypes(include=['object']).columns\n",
        "\n",
        "print(categorical_columns)"
      ],
      "metadata": {
        "colab": {
          "base_uri": "https://localhost:8080/"
        },
        "id": "pbqE8n8ieJs-",
        "outputId": "e2b927a0-2c89-4a32-b535-109a568cfd94"
      },
      "execution_count": 24,
      "outputs": [
        {
          "output_type": "stream",
          "name": "stdout",
          "text": [
            "Index(['DBN', 'School Name', 'Grade', 'Category', 'Mean Scale Score',\n",
            "       'Level1_N', 'Level1_%', 'Level2_N', 'Level2_%', 'Level3_N', 'Level3_%',\n",
            "       'Level4_N', 'Level4_%', 'Level3+4_N', 'Level3+4_%'],\n",
            "      dtype='object')\n"
          ]
        }
      ]
    },
    {
      "cell_type": "code",
      "source": [
        "#using label encoder\n",
        "\n",
        "le = LabelEncoder()\n",
        "\n",
        "\n",
        "df['School_Name_Categorical'] = le.fit_transform(df['School Name'])\n",
        "\n",
        "#verifyinh\n",
        "print(df.head())\n",
        "\n",
        "print(\"------------\")\n",
        "#new column data\n",
        "print(df['School_Name_Categorical'])\n",
        "print(\"------------\")\n",
        "\n",
        "#info\n",
        "print(df['School_Name_Categorical'].unique())"
      ],
      "metadata": {
        "colab": {
          "base_uri": "https://localhost:8080/"
        },
        "id": "TjJ9dWlpd5hM",
        "outputId": "8394da39-000a-4f5a-b432-5108d3fe1a73"
      },
      "execution_count": 27,
      "outputs": [
        {
          "output_type": "stream",
          "name": "stdout",
          "text": [
            "      DBN                                School Name Grade  Year  \\\n",
            "0  84K037  BEGINNING WITH CHILDREN CHARTER SCHOOL II     3  2015   \n",
            "1  84K037  BEGINNING WITH CHILDREN CHARTER SCHOOL II     3  2016   \n",
            "2  84K037  BEGINNING WITH CHILDREN CHARTER SCHOOL II     3  2017   \n",
            "3  84K037  BEGINNING WITH CHILDREN CHARTER SCHOOL II     4  2016   \n",
            "4  84K037  BEGINNING WITH CHILDREN CHARTER SCHOOL II     4  2017   \n",
            "\n",
            "       Category  Number Tested Mean Scale Score Level1_N Level1_% Level2_N  \\\n",
            "0  All Students             43              306        9     20.9       20   \n",
            "1  All Students             52              319        4      7.7       20   \n",
            "2  All Students             50              323        2      4.0       16   \n",
            "3  All Students             40              315        4     10.0       18   \n",
            "4  All Students             52              320        4      7.7       18   \n",
            "\n",
            "  Level2_% Level3_N Level3_% Level4_N Level4_% Level3+4_N Level3+4_%  \\\n",
            "0     46.5       13     30.2        1      2.3         14       32.6   \n",
            "1     38.5       25     48.1        3      5.8         28       53.8   \n",
            "2     32.0       29     58.0        3      6.0         32       64.0   \n",
            "3     45.0       14     35.0        4     10.0         18       45.0   \n",
            "4     34.6       21     40.4        9     17.3         30       57.7   \n",
            "\n",
            "   School_Name_Categorical  \n",
            "0                       18  \n",
            "1                       18  \n",
            "2                       18  \n",
            "3                       18  \n",
            "4                       18  \n",
            "------------\n",
            "0       18\n",
            "1       18\n",
            "2       18\n",
            "3       18\n",
            "4       18\n",
            "        ..\n",
            "3586    25\n",
            "3587    25\n",
            "3588    25\n",
            "3589    25\n",
            "3590    25\n",
            "Name: School_Name_Categorical, Length: 3591, dtype: int64\n",
            "------------\n",
            "[ 18 150 157 167  67 184   6 108   7 181 113  91 149  68 103 174   8 114\n",
            "  53   5  63 106   4 112  15 136  30   3  49  50  31  52  17  65  36  41\n",
            " 116  64 115  69 173  34 179 127  40  38 168  66  55  89 169 171 182  39\n",
            "  43  93 151   2 117 134  33 152  16  10 101   9  54  45  32 176  42 118\n",
            " 129  35  51  11  37  57 111 120  76 126  62 170 172  83  78  44 131 166\n",
            " 180  81 141 119  84  74  87 109  82  56 158 128  60 159 160 161 147 178\n",
            " 104  58 162 142 133  61 165 102  80  12  85  86 110  73  46 137 123 183\n",
            "  79 163 164  47 139 140   1 121 138 135 105 148 130  48  99  77 124  28\n",
            "  71  24  90 175 143  92 144 100 145  95 155  20  27 125  26  23  21  96\n",
            "  14 122 156  19  13  72  59 177  75   0 146 153 154  97  98 132  29 107\n",
            "  70  88  94  22  25]\n"
          ]
        }
      ]
    },
    {
      "cell_type": "code",
      "source": [
        "# One-hot encoding\n",
        "onehot_encoder = OneHotEncoder(sparse=False, drop='first') # drop='first' to avoid multicollinearity\n",
        "\n",
        "\n",
        "category_encoded = onehot_encoder.fit_transform(df[['Category']])\n",
        "\n",
        "\n",
        "unique_categories = df['Category'].unique()\n",
        "\n",
        "\n",
        "feature_names = [f'{col}_{cat}' for cat in unique_categories[1:]]\n",
        "\n",
        "\n",
        "df_encoded = pd.concat([df, pd.DataFrame(category_encoded, columns=feature_names)], axis=1)\n",
        "\n",
        "\n",
        "df_encoded = df_encoded.drop(['Category'], axis=1)\n",
        "\n",
        "print(df_encoded.head())"
      ],
      "metadata": {
        "colab": {
          "base_uri": "https://localhost:8080/"
        },
        "id": "BB-3W-PDfaZq",
        "outputId": "9acce062-70ad-4a75-b7ff-ec7df82e8a03"
      },
      "execution_count": 33,
      "outputs": [
        {
          "output_type": "stream",
          "name": "stdout",
          "text": [
            "      DBN                                School Name Grade  Year  \\\n",
            "0  84K037  BEGINNING WITH CHILDREN CHARTER SCHOOL II     3  2015   \n",
            "1  84K037  BEGINNING WITH CHILDREN CHARTER SCHOOL II     3  2016   \n",
            "2  84K037  BEGINNING WITH CHILDREN CHARTER SCHOOL II     3  2017   \n",
            "3  84K037  BEGINNING WITH CHILDREN CHARTER SCHOOL II     4  2016   \n",
            "4  84K037  BEGINNING WITH CHILDREN CHARTER SCHOOL II     4  2017   \n",
            "\n",
            "   Number Tested Mean Scale Score Level1_N Level1_% Level2_N Level2_%  \\\n",
            "0             43              306        9     20.9       20     46.5   \n",
            "1             52              319        4      7.7       20     38.5   \n",
            "2             50              323        2      4.0       16     32.0   \n",
            "3             40              315        4     10.0       18     45.0   \n",
            "4             52              320        4      7.7       18     34.6   \n",
            "\n",
            "  Level3_N Level3_% Level4_N Level4_% Level3+4_N Level3+4_%  \\\n",
            "0       13     30.2        1      2.3         14       32.6   \n",
            "1       25     48.1        3      5.8         28       53.8   \n",
            "2       29     58.0        3      6.0         32       64.0   \n",
            "3       14     35.0        4     10.0         18       45.0   \n",
            "4       21     40.4        9     17.3         30       57.7   \n",
            "\n",
            "   School_Name_Categorical  \n",
            "0                       18  \n",
            "1                       18  \n",
            "2                       18  \n",
            "3                       18  \n",
            "4                       18  \n"
          ]
        },
        {
          "output_type": "stream",
          "name": "stderr",
          "text": [
            "/usr/local/lib/python3.10/dist-packages/sklearn/preprocessing/_encoders.py:868: FutureWarning: `sparse` was renamed to `sparse_output` in version 1.2 and will be removed in 1.4. `sparse_output` is ignored unless you leave `sparse` to its default value.\n",
            "  warnings.warn(\n"
          ]
        }
      ]
    }
  ]
}