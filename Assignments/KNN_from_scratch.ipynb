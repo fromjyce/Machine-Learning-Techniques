{
  "nbformat": 4,
  "nbformat_minor": 0,
  "metadata": {
    "colab": {
      "provenance": []
    },
    "kernelspec": {
      "name": "python3",
      "display_name": "Python 3"
    },
    "language_info": {
      "name": "python"
    }
  },
  "cells": [
    {
      "cell_type": "code",
      "source": [
        "Registration_Number = \"22011103020\"\n",
        "Name = \"Jayashre\"\n",
        "\n",
        "# Python Program to Get IP Address\n",
        "import socket\n",
        "hostname = socket.gethostname()\n",
        "IPAddr = socket.gethostbyname(hostname)\n",
        "\n",
        "print(\"My name is \" + Name + \" and my roll no : \" + Registration_Number)\n",
        "print(\"Computer IP Address is: \" + IPAddr)"
      ],
      "metadata": {
        "colab": {
          "base_uri": "https://localhost:8080/"
        },
        "id": "pT2lXs1lNo3Q",
        "outputId": "85b3acd8-0797-4825-918d-dc2a49372565"
      },
      "execution_count": null,
      "outputs": [
        {
          "output_type": "stream",
          "name": "stdout",
          "text": [
            "My name is Jayashre and my roll no : 22011103020\n",
            "Computer IP Address is: 172.28.0.12\n"
          ]
        }
      ]
    },
    {
      "cell_type": "code",
      "execution_count": 1,
      "metadata": {
        "id": "mWX-XKF8M9_F"
      },
      "outputs": [],
      "source": [
        "import numpy as np\n",
        "\n",
        "class KNN:\n",
        "\n",
        "    def __init__(self, num_neighbors: int = 5):\n",
        "        self.num_neighbors = num_neighbors\n",
        "\n",
        "    def fit(self, X: np.array, y: np.array):\n",
        "        \"\"\"\n",
        "        Memorize training data\n",
        "        \"\"\"\n",
        "        self.X = X\n",
        "        self.y = y\n",
        "\n",
        "    def get_distance(self, a: np.array,  b: np.array):\n",
        "        \"\"\"\n",
        "        Calculate Euclidean distance between two examples\n",
        "        \"\"\"\n",
        "        return np.linalg.norm(a - b)\n",
        "\n",
        "    def get_neighbors(self, example: np.array):\n",
        "        \"\"\"\n",
        "        Find and rank nearest neighbors of example\n",
        "        \"\"\"\n",
        "        # placeholder\n",
        "        distances = []\n",
        "        # calculate distances as tuples (id, distance)\n",
        "        for i in range(len(self.X)):\n",
        "            distances.append((i, self.get_distance(self.X[i], example)))\n",
        "        # sort by distance\n",
        "        distances.sort(key = lambda x: x[1])\n",
        "        # return IDs and distances top neighbors\n",
        "        return distances[:self.num_neighbors]\n",
        "\n",
        "    def predict(self, X: np.array):\n",
        "        \"\"\"\n",
        "        Predict labels\n",
        "        \"\"\"\n",
        "        # placeholder\n",
        "        predictions = []\n",
        "        # go through examples\n",
        "        for idx in range(len(X)):\n",
        "            example     = X[idx]\n",
        "            k_neighbors = self.get_neighbors(example)\n",
        "            k_y_values  = [self.y[item[0]] for item in k_neighbors]\n",
        "            # For regression\n",
        "            # prediction  = sum(k_y_values) / self.num_neighbors\n",
        "            # For classification (majority vote)\n",
        "            prediction = max(set(k_y_values), key=k_y_values.count)\n",
        "            predictions.append(prediction)\n",
        "        # return predictions\n",
        "        return np.array(predictions)"
      ]
    },
    {
      "cell_type": "code",
      "source": [
        "import numpy as np\n",
        "from sklearn.datasets import load_iris\n",
        "from sklearn.model_selection import train_test_split\n",
        "from sklearn.metrics import accuracy_score\n",
        "\n",
        "\n",
        "iris = load_iris()\n",
        "X = iris.data\n",
        "Y = iris.target\n",
        "\n",
        "\n",
        "X_train, X_test, Y_train, Y_test = train_test_split(X, Y, test_size=0.2, random_state=42)\n",
        "\n",
        "\n",
        "knn = KNN(num_neighbors=5)\n",
        "\n",
        "knn.fit(X_train, Y_train)\n",
        "\n",
        "\n",
        "y_pred = knn.predict(X_test)\n",
        "\n",
        "accuracy = accuracy_score(Y_test, y_pred)\n",
        "print(\"Accuracy:\", accuracy)"
      ],
      "metadata": {
        "colab": {
          "base_uri": "https://localhost:8080/"
        },
        "id": "J2nRFnx3WxAR",
        "outputId": "b1ed80af-39d6-4966-d114-91606278462d"
      },
      "execution_count": 3,
      "outputs": [
        {
          "output_type": "stream",
          "name": "stdout",
          "text": [
            "Accuracy: 1.0\n"
          ]
        }
      ]
    }
  ]
}