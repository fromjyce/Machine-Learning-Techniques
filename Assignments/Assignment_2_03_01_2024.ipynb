{
  "nbformat": 4,
  "nbformat_minor": 0,
  "metadata": {
    "colab": {
      "provenance": []
    },
    "kernelspec": {
      "name": "python3",
      "display_name": "Python 3"
    },
    "language_info": {
      "name": "python"
    }
  },
  "cells": [
    {
      "cell_type": "markdown",
      "source": [
        "Assignment: Import, Head, Drop, Count, CountSum, Unique, NUnique, Delimiter, LabelEncoder, OnehotEncoder\n",
        "\n",
        "Perform Standardisation and Normalization"
      ],
      "metadata": {
        "id": "eRzDKo0VfQmi"
      }
    },
    {
      "cell_type": "markdown",
      "source": [
        "Dataset Link: https://data.world/fivethirtyeight/drug-use-by-age"
      ],
      "metadata": {
        "id": "t5ICRGw6fMNo"
      }
    },
    {
      "cell_type": "code",
      "source": [
        "import pandas as pd\n",
        "from sklearn.preprocessing import LabelEncoder, OneHotEncoder"
      ],
      "metadata": {
        "id": "AqDpzsxUTVQE"
      },
      "execution_count": 34,
      "outputs": []
    },
    {
      "cell_type": "code",
      "source": [
        "#importing the csv file\n",
        "df = pd.read_csv('drug-dataset.csv')"
      ],
      "metadata": {
        "id": "tXDvGqNpTWSt"
      },
      "execution_count": 36,
      "outputs": []
    },
    {
      "cell_type": "code",
      "source": [
        "#print head of the file\n",
        "print(df.head())\n",
        "\n",
        "print(\"------------------------------------\")\n",
        "#print first 10 records\n",
        "print(df.head(10))"
      ],
      "metadata": {
        "colab": {
          "base_uri": "https://localhost:8080/"
        },
        "id": "se7TVmHFUK10",
        "outputId": "bf1fde6b-af2b-4e33-aa11-ff01f443e5bb"
      },
      "execution_count": 37,
      "outputs": [
        {
          "output_type": "stream",
          "name": "stdout",
          "text": [
            "  age     n  alcohol-use  alcohol-frequency  marijuana-use  \\\n",
            "0  12  2798          3.9                3.0            1.1   \n",
            "1  13  2757          8.5                6.0            3.4   \n",
            "2  14  2792         18.1                5.0            8.7   \n",
            "3  15  2956         29.2                6.0           14.5   \n",
            "4  16  3058         40.1               10.0           22.5   \n",
            "\n",
            "   marijuana-frequency  cocaine-use cocaine-frequency  crack-use  \\\n",
            "0                  4.0          0.1               5.0        0.0   \n",
            "1                 15.0          0.1               1.0        0.0   \n",
            "2                 24.0          0.1               5.5        0.0   \n",
            "3                 25.0          0.5               4.0        0.1   \n",
            "4                 30.0          1.0               7.0        0.0   \n",
            "\n",
            "  crack-frequency  ...  oxycontin-use oxycontin-frequency  tranquilizer-use  \\\n",
            "0               -  ...            0.1                24.5               0.2   \n",
            "1             3.0  ...            0.1                41.0               0.3   \n",
            "2               -  ...            0.4                 4.5               0.9   \n",
            "3             9.5  ...            0.8                 3.0               2.0   \n",
            "4             1.0  ...            1.1                 4.0               2.4   \n",
            "\n",
            "   tranquilizer-frequency  stimulant-use stimulant-frequency  meth-use  \\\n",
            "0                    52.0            0.2                 2.0       0.0   \n",
            "1                    25.5            0.3                 4.0       0.1   \n",
            "2                     5.0            0.8                12.0       0.1   \n",
            "3                     4.5            1.5                 6.0       0.3   \n",
            "4                    11.0            1.8                 9.5       0.3   \n",
            "\n",
            "   meth-frequency  sedative-use sedative-frequency  \n",
            "0               -           0.2               13.0  \n",
            "1             5.0           0.1               19.0  \n",
            "2            24.0           0.2               16.5  \n",
            "3            10.5           0.4               30.0  \n",
            "4            36.0           0.2                3.0  \n",
            "\n",
            "[5 rows x 28 columns]\n",
            "------------------------------------\n",
            "  age     n  alcohol-use  alcohol-frequency  marijuana-use  \\\n",
            "0  12  2798          3.9                3.0            1.1   \n",
            "1  13  2757          8.5                6.0            3.4   \n",
            "2  14  2792         18.1                5.0            8.7   \n",
            "3  15  2956         29.2                6.0           14.5   \n",
            "4  16  3058         40.1               10.0           22.5   \n",
            "5  17  3038         49.3               13.0           28.0   \n",
            "6  18  2469         58.7               24.0           33.7   \n",
            "7  19  2223         64.6               36.0           33.4   \n",
            "8  20  2271         69.7               48.0           34.0   \n",
            "9  21  2354         83.2               52.0           33.0   \n",
            "\n",
            "   marijuana-frequency  cocaine-use cocaine-frequency  crack-use  \\\n",
            "0                  4.0          0.1               5.0        0.0   \n",
            "1                 15.0          0.1               1.0        0.0   \n",
            "2                 24.0          0.1               5.5        0.0   \n",
            "3                 25.0          0.5               4.0        0.1   \n",
            "4                 30.0          1.0               7.0        0.0   \n",
            "5                 36.0          2.0               5.0        0.1   \n",
            "6                 52.0          3.2               5.0        0.4   \n",
            "7                 60.0          4.1               5.5        0.5   \n",
            "8                 60.0          4.9               8.0        0.6   \n",
            "9                 52.0          4.8               5.0        0.5   \n",
            "\n",
            "  crack-frequency  ...  oxycontin-use oxycontin-frequency  tranquilizer-use  \\\n",
            "0               -  ...            0.1                24.5               0.2   \n",
            "1             3.0  ...            0.1                41.0               0.3   \n",
            "2               -  ...            0.4                 4.5               0.9   \n",
            "3             9.5  ...            0.8                 3.0               2.0   \n",
            "4             1.0  ...            1.1                 4.0               2.4   \n",
            "5            21.0  ...            1.4                 6.0               3.5   \n",
            "6            10.0  ...            1.7                 7.0               4.9   \n",
            "7             2.0  ...            1.5                 7.5               4.2   \n",
            "8             5.0  ...            1.7                12.0               5.4   \n",
            "9            17.0  ...            1.3                13.5               3.9   \n",
            "\n",
            "   tranquilizer-frequency  stimulant-use stimulant-frequency  meth-use  \\\n",
            "0                    52.0            0.2                 2.0       0.0   \n",
            "1                    25.5            0.3                 4.0       0.1   \n",
            "2                     5.0            0.8                12.0       0.1   \n",
            "3                     4.5            1.5                 6.0       0.3   \n",
            "4                    11.0            1.8                 9.5       0.3   \n",
            "5                     7.0            2.8                 9.0       0.6   \n",
            "6                    12.0            3.0                 8.0       0.5   \n",
            "7                     4.5            3.3                 6.0       0.4   \n",
            "8                    10.0            4.0                12.0       0.9   \n",
            "9                     7.0            4.1                10.0       0.6   \n",
            "\n",
            "   meth-frequency  sedative-use sedative-frequency  \n",
            "0               -           0.2               13.0  \n",
            "1             5.0           0.1               19.0  \n",
            "2            24.0           0.2               16.5  \n",
            "3            10.5           0.4               30.0  \n",
            "4            36.0           0.2                3.0  \n",
            "5            48.0           0.5                6.5  \n",
            "6            12.0           0.4               10.0  \n",
            "7           105.0           0.3                6.0  \n",
            "8            12.0           0.5                4.0  \n",
            "9             2.0           0.3                9.0  \n",
            "\n",
            "[10 rows x 28 columns]\n"
          ]
        }
      ]
    },
    {
      "cell_type": "code",
      "source": [
        "#print the tail of the dataset\n",
        "print(df.tail())\n",
        "\n",
        "\n",
        "print(\"---------------------------\")\n",
        "\n",
        "#printing last 8 records of the dataset\n",
        "\n",
        "print(df.tail(8))"
      ],
      "metadata": {
        "colab": {
          "base_uri": "https://localhost:8080/"
        },
        "id": "UaGqBhyLUiyy",
        "outputId": "9d2c481b-1fa0-4d78-9565-06498971b20d"
      },
      "execution_count": 38,
      "outputs": [
        {
          "output_type": "stream",
          "name": "stdout",
          "text": [
            "      age     n  alcohol-use  alcohol-frequency  marijuana-use  \\\n",
            "12  26-29  2628         80.7               52.0           20.8   \n",
            "13  30-34  2864         77.5               52.0           16.4   \n",
            "14  35-49  7391         75.0               52.0           10.4   \n",
            "15  50-64  3923         67.2               52.0            7.3   \n",
            "16    65+  2448         49.3               52.0            1.2   \n",
            "\n",
            "    marijuana-frequency  cocaine-use cocaine-frequency  crack-use  \\\n",
            "12                 52.0          3.2               5.0        0.4   \n",
            "13                 72.0          2.1               8.0        0.5   \n",
            "14                 48.0          1.5              15.0        0.5   \n",
            "15                 52.0          0.9              36.0        0.4   \n",
            "16                 36.0          0.0                 -        0.0   \n",
            "\n",
            "   crack-frequency  ...  oxycontin-use oxycontin-frequency  tranquilizer-use  \\\n",
            "12             6.0  ...            1.2                13.5               4.2   \n",
            "13            15.0  ...            0.9                46.0               3.6   \n",
            "14            48.0  ...            0.3                12.0               1.9   \n",
            "15            62.0  ...            0.4                 5.0               1.4   \n",
            "16               -  ...            0.0                   -               0.2   \n",
            "\n",
            "    tranquilizer-frequency  stimulant-use stimulant-frequency  meth-use  \\\n",
            "12                    10.0            2.3                 7.0       0.6   \n",
            "13                     8.0            1.4                12.0       0.4   \n",
            "14                     6.0            0.6                24.0       0.2   \n",
            "15                    10.0            0.3                24.0       0.2   \n",
            "16                     5.0            0.0               364.0       0.0   \n",
            "\n",
            "    meth-frequency  sedative-use sedative-frequency  \n",
            "12            30.0           0.4                4.0  \n",
            "13            54.0           0.4               10.0  \n",
            "14           104.0           0.3               10.0  \n",
            "15            30.0           0.2              104.0  \n",
            "16               -           0.0               15.0  \n",
            "\n",
            "[5 rows x 28 columns]\n",
            "---------------------------\n",
            "      age     n  alcohol-use  alcohol-frequency  marijuana-use  \\\n",
            "9      21  2354         83.2               52.0           33.0   \n",
            "10  22-23  4707         84.2               52.0           28.4   \n",
            "11  24-25  4591         83.1               52.0           24.9   \n",
            "12  26-29  2628         80.7               52.0           20.8   \n",
            "13  30-34  2864         77.5               52.0           16.4   \n",
            "14  35-49  7391         75.0               52.0           10.4   \n",
            "15  50-64  3923         67.2               52.0            7.3   \n",
            "16    65+  2448         49.3               52.0            1.2   \n",
            "\n",
            "    marijuana-frequency  cocaine-use cocaine-frequency  crack-use  \\\n",
            "9                  52.0          4.8               5.0        0.5   \n",
            "10                 52.0          4.5               5.0        0.5   \n",
            "11                 60.0          4.0               6.0        0.5   \n",
            "12                 52.0          3.2               5.0        0.4   \n",
            "13                 72.0          2.1               8.0        0.5   \n",
            "14                 48.0          1.5              15.0        0.5   \n",
            "15                 52.0          0.9              36.0        0.4   \n",
            "16                 36.0          0.0                 -        0.0   \n",
            "\n",
            "   crack-frequency  ...  oxycontin-use oxycontin-frequency  tranquilizer-use  \\\n",
            "9             17.0  ...            1.3                13.5               3.9   \n",
            "10             5.0  ...            1.7                17.5               4.4   \n",
            "11             6.0  ...            1.3                20.0               4.3   \n",
            "12             6.0  ...            1.2                13.5               4.2   \n",
            "13            15.0  ...            0.9                46.0               3.6   \n",
            "14            48.0  ...            0.3                12.0               1.9   \n",
            "15            62.0  ...            0.4                 5.0               1.4   \n",
            "16               -  ...            0.0                   -               0.2   \n",
            "\n",
            "    tranquilizer-frequency  stimulant-use stimulant-frequency  meth-use  \\\n",
            "9                      7.0            4.1                10.0       0.6   \n",
            "10                    12.0            3.6                10.0       0.6   \n",
            "11                    10.0            2.6                10.0       0.7   \n",
            "12                    10.0            2.3                 7.0       0.6   \n",
            "13                     8.0            1.4                12.0       0.4   \n",
            "14                     6.0            0.6                24.0       0.2   \n",
            "15                    10.0            0.3                24.0       0.2   \n",
            "16                     5.0            0.0               364.0       0.0   \n",
            "\n",
            "    meth-frequency  sedative-use sedative-frequency  \n",
            "9              2.0           0.3                9.0  \n",
            "10            46.0           0.2               52.0  \n",
            "11            21.0           0.2               17.5  \n",
            "12            30.0           0.4                4.0  \n",
            "13            54.0           0.4               10.0  \n",
            "14           104.0           0.3               10.0  \n",
            "15            30.0           0.2              104.0  \n",
            "16               -           0.0               15.0  \n",
            "\n",
            "[8 rows x 28 columns]\n"
          ]
        }
      ]
    },
    {
      "cell_type": "code",
      "source": [
        "#all the columns of the dataset\n",
        "\n",
        "print(df.columns)"
      ],
      "metadata": {
        "colab": {
          "base_uri": "https://localhost:8080/"
        },
        "id": "6ONHKfK0UyUx",
        "outputId": "1d8dfa55-72ef-47e2-e4c7-a9b3684bb568"
      },
      "execution_count": 39,
      "outputs": [
        {
          "output_type": "stream",
          "name": "stdout",
          "text": [
            "Index(['age', 'n', 'alcohol-use', 'alcohol-frequency', 'marijuana-use',\n",
            "       'marijuana-frequency', 'cocaine-use', 'cocaine-frequency', 'crack-use',\n",
            "       'crack-frequency', 'heroin-use', 'heroin-frequency', 'hallucinogen-use',\n",
            "       'hallucinogen-frequency', 'inhalant-use', 'inhalant-frequency',\n",
            "       'pain-releiver-use', 'pain-releiver-frequency', 'oxycontin-use',\n",
            "       'oxycontin-frequency', 'tranquilizer-use', 'tranquilizer-frequency',\n",
            "       'stimulant-use', 'stimulant-frequency', 'meth-use', 'meth-frequency',\n",
            "       'sedative-use', 'sedative-frequency'],\n",
            "      dtype='object')\n"
          ]
        }
      ]
    },
    {
      "cell_type": "code",
      "source": [
        "#copying the dataset to avoid modification in original dataset\n",
        "\n",
        "df_copy = df.copy()\n",
        "\n",
        "#printing the columns of the duplicate dataset\n",
        "\n",
        "print(df_copy.columns)"
      ],
      "metadata": {
        "colab": {
          "base_uri": "https://localhost:8080/"
        },
        "id": "xCqjMU5YVDc_",
        "outputId": "904e4117-e9c8-4464-bd6b-e10804ad6cbd"
      },
      "execution_count": 40,
      "outputs": [
        {
          "output_type": "stream",
          "name": "stdout",
          "text": [
            "Index(['age', 'n', 'alcohol-use', 'alcohol-frequency', 'marijuana-use',\n",
            "       'marijuana-frequency', 'cocaine-use', 'cocaine-frequency', 'crack-use',\n",
            "       'crack-frequency', 'heroin-use', 'heroin-frequency', 'hallucinogen-use',\n",
            "       'hallucinogen-frequency', 'inhalant-use', 'inhalant-frequency',\n",
            "       'pain-releiver-use', 'pain-releiver-frequency', 'oxycontin-use',\n",
            "       'oxycontin-frequency', 'tranquilizer-use', 'tranquilizer-frequency',\n",
            "       'stimulant-use', 'stimulant-frequency', 'meth-use', 'meth-frequency',\n",
            "       'sedative-use', 'sedative-frequency'],\n",
            "      dtype='object')\n"
          ]
        }
      ]
    },
    {
      "cell_type": "code",
      "source": [
        "#dropping the columns in the duplicate dataset\n",
        "\n",
        "columns_to_drop = ['sedative-use', 'meth-use']\n",
        "\n",
        "df_copy = df_copy.drop(columns=columns_to_drop)\n",
        "\n",
        "#checking\n",
        "print(df_copy.head())\n",
        "\n",
        "print(\"--------------------------------------\")\n",
        "\n",
        "print(df_copy.columns)\n",
        "\n"
      ],
      "metadata": {
        "colab": {
          "base_uri": "https://localhost:8080/"
        },
        "id": "SfkDA4lhVTFe",
        "outputId": "13d46ca4-4da4-4564-e38e-a2e92d10ddcd"
      },
      "execution_count": 41,
      "outputs": [
        {
          "output_type": "stream",
          "name": "stdout",
          "text": [
            "  age     n  alcohol-use  alcohol-frequency  marijuana-use  \\\n",
            "0  12  2798          3.9                3.0            1.1   \n",
            "1  13  2757          8.5                6.0            3.4   \n",
            "2  14  2792         18.1                5.0            8.7   \n",
            "3  15  2956         29.2                6.0           14.5   \n",
            "4  16  3058         40.1               10.0           22.5   \n",
            "\n",
            "   marijuana-frequency  cocaine-use cocaine-frequency  crack-use  \\\n",
            "0                  4.0          0.1               5.0        0.0   \n",
            "1                 15.0          0.1               1.0        0.0   \n",
            "2                 24.0          0.1               5.5        0.0   \n",
            "3                 25.0          0.5               4.0        0.1   \n",
            "4                 30.0          1.0               7.0        0.0   \n",
            "\n",
            "  crack-frequency  ...  pain-releiver-use pain-releiver-frequency  \\\n",
            "0               -  ...                2.0                    36.0   \n",
            "1             3.0  ...                2.4                    14.0   \n",
            "2               -  ...                3.9                    12.0   \n",
            "3             9.5  ...                5.5                    10.0   \n",
            "4             1.0  ...                6.2                     7.0   \n",
            "\n",
            "   oxycontin-use  oxycontin-frequency  tranquilizer-use  \\\n",
            "0            0.1                 24.5               0.2   \n",
            "1            0.1                 41.0               0.3   \n",
            "2            0.4                  4.5               0.9   \n",
            "3            0.8                  3.0               2.0   \n",
            "4            1.1                  4.0               2.4   \n",
            "\n",
            "  tranquilizer-frequency  stimulant-use  stimulant-frequency  meth-frequency  \\\n",
            "0                   52.0            0.2                  2.0               -   \n",
            "1                   25.5            0.3                  4.0             5.0   \n",
            "2                    5.0            0.8                 12.0            24.0   \n",
            "3                    4.5            1.5                  6.0            10.5   \n",
            "4                   11.0            1.8                  9.5            36.0   \n",
            "\n",
            "  sedative-frequency  \n",
            "0               13.0  \n",
            "1               19.0  \n",
            "2               16.5  \n",
            "3               30.0  \n",
            "4                3.0  \n",
            "\n",
            "[5 rows x 26 columns]\n",
            "--------------------------------------\n",
            "Index(['age', 'n', 'alcohol-use', 'alcohol-frequency', 'marijuana-use',\n",
            "       'marijuana-frequency', 'cocaine-use', 'cocaine-frequency', 'crack-use',\n",
            "       'crack-frequency', 'heroin-use', 'heroin-frequency', 'hallucinogen-use',\n",
            "       'hallucinogen-frequency', 'inhalant-use', 'inhalant-frequency',\n",
            "       'pain-releiver-use', 'pain-releiver-frequency', 'oxycontin-use',\n",
            "       'oxycontin-frequency', 'tranquilizer-use', 'tranquilizer-frequency',\n",
            "       'stimulant-use', 'stimulant-frequency', 'meth-frequency',\n",
            "       'sedative-frequency'],\n",
            "      dtype='object')\n"
          ]
        }
      ]
    },
    {
      "cell_type": "code",
      "source": [
        "#counting\n",
        "\n",
        "print(df.count())"
      ],
      "metadata": {
        "colab": {
          "base_uri": "https://localhost:8080/"
        },
        "id": "9Gjfy9XXVyda",
        "outputId": "b0a0313d-8161-4f84-b7af-6fe43e650996"
      },
      "execution_count": 42,
      "outputs": [
        {
          "output_type": "stream",
          "name": "stdout",
          "text": [
            "age                        17\n",
            "n                          17\n",
            "alcohol-use                17\n",
            "alcohol-frequency          17\n",
            "marijuana-use              17\n",
            "marijuana-frequency        17\n",
            "cocaine-use                17\n",
            "cocaine-frequency          17\n",
            "crack-use                  17\n",
            "crack-frequency            17\n",
            "heroin-use                 17\n",
            "heroin-frequency           17\n",
            "hallucinogen-use           17\n",
            "hallucinogen-frequency     17\n",
            "inhalant-use               17\n",
            "inhalant-frequency         17\n",
            "pain-releiver-use          17\n",
            "pain-releiver-frequency    17\n",
            "oxycontin-use              17\n",
            "oxycontin-frequency        17\n",
            "tranquilizer-use           17\n",
            "tranquilizer-frequency     17\n",
            "stimulant-use              17\n",
            "stimulant-frequency        17\n",
            "meth-use                   17\n",
            "meth-frequency             17\n",
            "sedative-use               17\n",
            "sedative-frequency         17\n",
            "dtype: int64\n"
          ]
        }
      ]
    },
    {
      "cell_type": "code",
      "source": [
        "#sum of the whole count\n",
        "\n",
        "print(df.count().sum())"
      ],
      "metadata": {
        "colab": {
          "base_uri": "https://localhost:8080/"
        },
        "id": "gc1YekXPV6z4",
        "outputId": "09381258-fb52-4133-db08-b5d77c5ce5ec"
      },
      "execution_count": 43,
      "outputs": [
        {
          "output_type": "stream",
          "name": "stdout",
          "text": [
            "476\n"
          ]
        }
      ]
    },
    {
      "cell_type": "code",
      "source": [
        "import random\n",
        "\n",
        "columns = list(df.columns)\n",
        "\n",
        "column_unq = random.choice(columns)\n",
        "\n",
        "print(\"Chosen Column: \" + column_unq)\n",
        "\n",
        "unique_values = df[column_unq].unique()\n",
        "\n",
        "print(unique_values)"
      ],
      "metadata": {
        "colab": {
          "base_uri": "https://localhost:8080/"
        },
        "id": "U09ARhzSW69F",
        "outputId": "47775a81-c9c2-4e8f-c2ad-68b72c6fb0d5"
      },
      "execution_count": 44,
      "outputs": [
        {
          "output_type": "stream",
          "name": "stdout",
          "text": [
            "Chosen Column: inhalant-frequency\n",
            "['19.0' '12.0' '5.0' '5.5' '3.0' '4.0' '2.0' '3.5' '10.0' '13.5' '-']\n"
          ]
        }
      ]
    },
    {
      "cell_type": "code",
      "source": [
        "num_unique_values = df[column_unq].nunique()\n",
        "\n",
        "print(num_unique_values)"
      ],
      "metadata": {
        "colab": {
          "base_uri": "https://localhost:8080/"
        },
        "id": "E2kG0ohRXboZ",
        "outputId": "7e32b893-c4f0-40fa-fdfc-1ec23561bc02"
      },
      "execution_count": 45,
      "outputs": [
        {
          "output_type": "stream",
          "name": "stdout",
          "text": [
            "11\n"
          ]
        }
      ]
    },
    {
      "cell_type": "code",
      "source": [
        "missing_values = df.isnull().sum()\n",
        "\n",
        "print(missing_values)"
      ],
      "metadata": {
        "colab": {
          "base_uri": "https://localhost:8080/"
        },
        "id": "XU0T5GgFXsUQ",
        "outputId": "55761827-484a-4ef2-e4ae-66baabb9844b"
      },
      "execution_count": 46,
      "outputs": [
        {
          "output_type": "stream",
          "name": "stdout",
          "text": [
            "age                        0\n",
            "n                          0\n",
            "alcohol-use                0\n",
            "alcohol-frequency          0\n",
            "marijuana-use              0\n",
            "marijuana-frequency        0\n",
            "cocaine-use                0\n",
            "cocaine-frequency          0\n",
            "crack-use                  0\n",
            "crack-frequency            0\n",
            "heroin-use                 0\n",
            "heroin-frequency           0\n",
            "hallucinogen-use           0\n",
            "hallucinogen-frequency     0\n",
            "inhalant-use               0\n",
            "inhalant-frequency         0\n",
            "pain-releiver-use          0\n",
            "pain-releiver-frequency    0\n",
            "oxycontin-use              0\n",
            "oxycontin-frequency        0\n",
            "tranquilizer-use           0\n",
            "tranquilizer-frequency     0\n",
            "stimulant-use              0\n",
            "stimulant-frequency        0\n",
            "meth-use                   0\n",
            "meth-frequency             0\n",
            "sedative-use               0\n",
            "sedative-frequency         0\n",
            "dtype: int64\n"
          ]
        }
      ]
    },
    {
      "cell_type": "code",
      "source": [
        "#usage of delimiter\n",
        "\n",
        "df_delimited = pd.read_csv(\"drug-dataset.csv\", sep=\",\")\n",
        "\n",
        "print(df_delimited)"
      ],
      "metadata": {
        "id": "BoBPoU5hXx1V",
        "colab": {
          "base_uri": "https://localhost:8080/"
        },
        "outputId": "48e6da97-b5ea-45c5-dd81-e6a677ebbc88"
      },
      "execution_count": 47,
      "outputs": [
        {
          "output_type": "stream",
          "name": "stdout",
          "text": [
            "      age     n  alcohol-use  alcohol-frequency  marijuana-use  \\\n",
            "0      12  2798          3.9                3.0            1.1   \n",
            "1      13  2757          8.5                6.0            3.4   \n",
            "2      14  2792         18.1                5.0            8.7   \n",
            "3      15  2956         29.2                6.0           14.5   \n",
            "4      16  3058         40.1               10.0           22.5   \n",
            "5      17  3038         49.3               13.0           28.0   \n",
            "6      18  2469         58.7               24.0           33.7   \n",
            "7      19  2223         64.6               36.0           33.4   \n",
            "8      20  2271         69.7               48.0           34.0   \n",
            "9      21  2354         83.2               52.0           33.0   \n",
            "10  22-23  4707         84.2               52.0           28.4   \n",
            "11  24-25  4591         83.1               52.0           24.9   \n",
            "12  26-29  2628         80.7               52.0           20.8   \n",
            "13  30-34  2864         77.5               52.0           16.4   \n",
            "14  35-49  7391         75.0               52.0           10.4   \n",
            "15  50-64  3923         67.2               52.0            7.3   \n",
            "16    65+  2448         49.3               52.0            1.2   \n",
            "\n",
            "    marijuana-frequency  cocaine-use cocaine-frequency  crack-use  \\\n",
            "0                   4.0          0.1               5.0        0.0   \n",
            "1                  15.0          0.1               1.0        0.0   \n",
            "2                  24.0          0.1               5.5        0.0   \n",
            "3                  25.0          0.5               4.0        0.1   \n",
            "4                  30.0          1.0               7.0        0.0   \n",
            "5                  36.0          2.0               5.0        0.1   \n",
            "6                  52.0          3.2               5.0        0.4   \n",
            "7                  60.0          4.1               5.5        0.5   \n",
            "8                  60.0          4.9               8.0        0.6   \n",
            "9                  52.0          4.8               5.0        0.5   \n",
            "10                 52.0          4.5               5.0        0.5   \n",
            "11                 60.0          4.0               6.0        0.5   \n",
            "12                 52.0          3.2               5.0        0.4   \n",
            "13                 72.0          2.1               8.0        0.5   \n",
            "14                 48.0          1.5              15.0        0.5   \n",
            "15                 52.0          0.9              36.0        0.4   \n",
            "16                 36.0          0.0                 -        0.0   \n",
            "\n",
            "   crack-frequency  ...  oxycontin-use oxycontin-frequency  tranquilizer-use  \\\n",
            "0                -  ...            0.1                24.5               0.2   \n",
            "1              3.0  ...            0.1                41.0               0.3   \n",
            "2                -  ...            0.4                 4.5               0.9   \n",
            "3              9.5  ...            0.8                 3.0               2.0   \n",
            "4              1.0  ...            1.1                 4.0               2.4   \n",
            "5             21.0  ...            1.4                 6.0               3.5   \n",
            "6             10.0  ...            1.7                 7.0               4.9   \n",
            "7              2.0  ...            1.5                 7.5               4.2   \n",
            "8              5.0  ...            1.7                12.0               5.4   \n",
            "9             17.0  ...            1.3                13.5               3.9   \n",
            "10             5.0  ...            1.7                17.5               4.4   \n",
            "11             6.0  ...            1.3                20.0               4.3   \n",
            "12             6.0  ...            1.2                13.5               4.2   \n",
            "13            15.0  ...            0.9                46.0               3.6   \n",
            "14            48.0  ...            0.3                12.0               1.9   \n",
            "15            62.0  ...            0.4                 5.0               1.4   \n",
            "16               -  ...            0.0                   -               0.2   \n",
            "\n",
            "    tranquilizer-frequency  stimulant-use stimulant-frequency  meth-use  \\\n",
            "0                     52.0            0.2                 2.0       0.0   \n",
            "1                     25.5            0.3                 4.0       0.1   \n",
            "2                      5.0            0.8                12.0       0.1   \n",
            "3                      4.5            1.5                 6.0       0.3   \n",
            "4                     11.0            1.8                 9.5       0.3   \n",
            "5                      7.0            2.8                 9.0       0.6   \n",
            "6                     12.0            3.0                 8.0       0.5   \n",
            "7                      4.5            3.3                 6.0       0.4   \n",
            "8                     10.0            4.0                12.0       0.9   \n",
            "9                      7.0            4.1                10.0       0.6   \n",
            "10                    12.0            3.6                10.0       0.6   \n",
            "11                    10.0            2.6                10.0       0.7   \n",
            "12                    10.0            2.3                 7.0       0.6   \n",
            "13                     8.0            1.4                12.0       0.4   \n",
            "14                     6.0            0.6                24.0       0.2   \n",
            "15                    10.0            0.3                24.0       0.2   \n",
            "16                     5.0            0.0               364.0       0.0   \n",
            "\n",
            "    meth-frequency  sedative-use sedative-frequency  \n",
            "0                -           0.2               13.0  \n",
            "1              5.0           0.1               19.0  \n",
            "2             24.0           0.2               16.5  \n",
            "3             10.5           0.4               30.0  \n",
            "4             36.0           0.2                3.0  \n",
            "5             48.0           0.5                6.5  \n",
            "6             12.0           0.4               10.0  \n",
            "7            105.0           0.3                6.0  \n",
            "8             12.0           0.5                4.0  \n",
            "9              2.0           0.3                9.0  \n",
            "10            46.0           0.2               52.0  \n",
            "11            21.0           0.2               17.5  \n",
            "12            30.0           0.4                4.0  \n",
            "13            54.0           0.4               10.0  \n",
            "14           104.0           0.3               10.0  \n",
            "15            30.0           0.2              104.0  \n",
            "16               -           0.0               15.0  \n",
            "\n",
            "[17 rows x 28 columns]\n"
          ]
        }
      ]
    },
    {
      "cell_type": "code",
      "source": [
        "#categorical columns\n",
        "\n",
        "categorical_columns = df.select_dtypes(include=['object']).columns\n",
        "\n",
        "print(categorical_columns)"
      ],
      "metadata": {
        "colab": {
          "base_uri": "https://localhost:8080/"
        },
        "id": "pbqE8n8ieJs-",
        "outputId": "e99ea790-df28-4c34-bb90-507af2491da2"
      },
      "execution_count": 48,
      "outputs": [
        {
          "output_type": "stream",
          "name": "stdout",
          "text": [
            "Index(['age', 'cocaine-frequency', 'crack-frequency', 'heroin-frequency',\n",
            "       'inhalant-frequency', 'oxycontin-frequency', 'meth-frequency'],\n",
            "      dtype='object')\n"
          ]
        }
      ]
    },
    {
      "cell_type": "code",
      "source": [
        "#using label encoder\n",
        "\n",
        "le = LabelEncoder()\n",
        "\n",
        "\n",
        "df['meth_freq_categorical'] = le.fit_transform(df['meth-frequency'])\n",
        "\n",
        "#verifyinh\n",
        "print(df.head())\n",
        "\n",
        "print(\"------------\")\n",
        "#new column data\n",
        "print(df['meth_freq_categorical'])\n",
        "print(\"------------\")\n",
        "\n",
        "#info\n",
        "print(df['meth_freq_categorical'].unique())"
      ],
      "metadata": {
        "colab": {
          "base_uri": "https://localhost:8080/"
        },
        "id": "TjJ9dWlpd5hM",
        "outputId": "28ff4d7c-6d3a-432d-de0e-1959ac61dc83"
      },
      "execution_count": 49,
      "outputs": [
        {
          "output_type": "stream",
          "name": "stdout",
          "text": [
            "  age     n  alcohol-use  alcohol-frequency  marijuana-use  \\\n",
            "0  12  2798          3.9                3.0            1.1   \n",
            "1  13  2757          8.5                6.0            3.4   \n",
            "2  14  2792         18.1                5.0            8.7   \n",
            "3  15  2956         29.2                6.0           14.5   \n",
            "4  16  3058         40.1               10.0           22.5   \n",
            "\n",
            "   marijuana-frequency  cocaine-use cocaine-frequency  crack-use  \\\n",
            "0                  4.0          0.1               5.0        0.0   \n",
            "1                 15.0          0.1               1.0        0.0   \n",
            "2                 24.0          0.1               5.5        0.0   \n",
            "3                 25.0          0.5               4.0        0.1   \n",
            "4                 30.0          1.0               7.0        0.0   \n",
            "\n",
            "  crack-frequency  ...  oxycontin-frequency tranquilizer-use  \\\n",
            "0               -  ...                 24.5              0.2   \n",
            "1             3.0  ...                 41.0              0.3   \n",
            "2               -  ...                  4.5              0.9   \n",
            "3             9.5  ...                  3.0              2.0   \n",
            "4             1.0  ...                  4.0              2.4   \n",
            "\n",
            "   tranquilizer-frequency  stimulant-use  stimulant-frequency meth-use  \\\n",
            "0                    52.0            0.2                  2.0      0.0   \n",
            "1                    25.5            0.3                  4.0      0.1   \n",
            "2                     5.0            0.8                 12.0      0.1   \n",
            "3                     4.5            1.5                  6.0      0.3   \n",
            "4                    11.0            1.8                  9.5      0.3   \n",
            "\n",
            "   meth-frequency  sedative-use  sedative-frequency meth_freq_categorical  \n",
            "0               -           0.2                13.0                     0  \n",
            "1             5.0           0.1                19.0                    12  \n",
            "2            24.0           0.2                16.5                     7  \n",
            "3            10.5           0.4                30.0                     1  \n",
            "4            36.0           0.2                 3.0                     9  \n",
            "\n",
            "[5 rows x 29 columns]\n",
            "------------\n",
            "0      0\n",
            "1     12\n",
            "2      7\n",
            "3      1\n",
            "4      9\n",
            "5     11\n",
            "6      4\n",
            "7      3\n",
            "8      4\n",
            "9      5\n",
            "10    10\n",
            "11     6\n",
            "12     8\n",
            "13    13\n",
            "14     2\n",
            "15     8\n",
            "16     0\n",
            "Name: meth_freq_categorical, dtype: int64\n",
            "------------\n",
            "[ 0 12  7  1  9 11  4  3  5 10  6  8 13  2]\n"
          ]
        }
      ]
    },
    {
      "cell_type": "code",
      "source": [
        "# One-hot encoding\n",
        "onehot_encoder = OneHotEncoder(sparse=False, drop='first') # drop='first' to avoid multicollinearity\n",
        "\n",
        "\n",
        "category_encoded = onehot_encoder.fit_transform(df[['inhalant-frequency']])\n",
        "\n",
        "\n",
        "unique_categories = df['inhalant-frequency'].unique()\n",
        "\n",
        "\n",
        "feature_names = [f'inhalant-frequency_{cat}' for cat in unique_categories[1:]]\n",
        "\n",
        "\n",
        "df_encoded = pd.concat([df, pd.DataFrame(category_encoded, columns=feature_names)], axis=1)\n",
        "\n",
        "df_encoded = df_encoded.drop(['inhalant-frequency'], axis=1)\n",
        "\n",
        "print(df_encoded.head())"
      ],
      "metadata": {
        "colab": {
          "base_uri": "https://localhost:8080/"
        },
        "id": "BB-3W-PDfaZq",
        "outputId": "26470293-70db-4c42-b59f-9cb7ec1deba0"
      },
      "execution_count": 53,
      "outputs": [
        {
          "output_type": "stream",
          "name": "stdout",
          "text": [
            "  age     n  alcohol-use  alcohol-frequency  marijuana-use  \\\n",
            "0  12  2798          3.9                3.0            1.1   \n",
            "1  13  2757          8.5                6.0            3.4   \n",
            "2  14  2792         18.1                5.0            8.7   \n",
            "3  15  2956         29.2                6.0           14.5   \n",
            "4  16  3058         40.1               10.0           22.5   \n",
            "\n",
            "   marijuana-frequency  cocaine-use cocaine-frequency  crack-use  \\\n",
            "0                  4.0          0.1               5.0        0.0   \n",
            "1                 15.0          0.1               1.0        0.0   \n",
            "2                 24.0          0.1               5.5        0.0   \n",
            "3                 25.0          0.5               4.0        0.1   \n",
            "4                 30.0          1.0               7.0        0.0   \n",
            "\n",
            "  crack-frequency  ...  inhalant-frequency_12.0 inhalant-frequency_5.0  \\\n",
            "0               -  ...                      0.0                    0.0   \n",
            "1             3.0  ...                      0.0                    1.0   \n",
            "2               -  ...                      0.0                    0.0   \n",
            "3             9.5  ...                      0.0                    0.0   \n",
            "4             1.0  ...                      0.0                    0.0   \n",
            "\n",
            "   inhalant-frequency_5.5  inhalant-frequency_3.0  inhalant-frequency_4.0  \\\n",
            "0                     0.0                     1.0                     0.0   \n",
            "1                     0.0                     0.0                     0.0   \n",
            "2                     0.0                     0.0                     0.0   \n",
            "3                     0.0                     0.0                     0.0   \n",
            "4                     0.0                     0.0                     0.0   \n",
            "\n",
            "   inhalant-frequency_2.0  inhalant-frequency_3.5  inhalant-frequency_10.0  \\\n",
            "0                     0.0                     0.0                      0.0   \n",
            "1                     0.0                     0.0                      0.0   \n",
            "2                     0.0                     0.0                      0.0   \n",
            "3                     0.0                     0.0                      0.0   \n",
            "4                     1.0                     0.0                      0.0   \n",
            "\n",
            "  inhalant-frequency_13.5  inhalant-frequency_-  \n",
            "0                     0.0                   0.0  \n",
            "1                     0.0                   0.0  \n",
            "2                     1.0                   0.0  \n",
            "3                     0.0                   1.0  \n",
            "4                     0.0                   0.0  \n",
            "\n",
            "[5 rows x 38 columns]\n"
          ]
        },
        {
          "output_type": "stream",
          "name": "stderr",
          "text": [
            "/usr/local/lib/python3.10/dist-packages/sklearn/preprocessing/_encoders.py:868: FutureWarning: `sparse` was renamed to `sparse_output` in version 1.2 and will be removed in 1.4. `sparse_output` is ignored unless you leave `sparse` to its default value.\n",
            "  warnings.warn(\n"
          ]
        }
      ]
    },
    {
      "cell_type": "code",
      "source": [
        "from sklearn.preprocessing import StandardScaler, MinMaxScaler\n",
        "\n",
        "columns_to_scale  = df.select_dtypes(include='number').columns\n",
        "\n",
        "print(columns_to_scale)\n",
        "\n",
        "\n",
        "print(df.head())\n",
        "\n",
        "print(\"---------------------\")\n",
        "\n",
        "\n",
        "#standardization\n",
        "scaler_standard = StandardScaler()\n",
        "df_standardized = pd.DataFrame(scaler_standard.fit_transform(df[columns_to_scale]), columns=columns_to_scale)\n",
        "\n",
        "print(df_standardized.head())\n",
        "\n",
        "print(\"---------------------\")\n",
        "\n",
        "#normalization\n",
        "scaler_minmax = MinMaxScaler()\n",
        "df_normalized = pd.DataFrame(scaler_minmax.fit_transform(df[columns_to_scale]), columns=columns_to_scale)\n",
        "\n",
        "print(df_normalized.head())\n"
      ],
      "metadata": {
        "colab": {
          "base_uri": "https://localhost:8080/"
        },
        "id": "4ykGI2Czj7zJ",
        "outputId": "469fbc1f-549b-45a3-afa6-9d693fe420d0"
      },
      "execution_count": 57,
      "outputs": [
        {
          "output_type": "stream",
          "name": "stdout",
          "text": [
            "Index(['n', 'alcohol-use', 'alcohol-frequency', 'marijuana-use',\n",
            "       'marijuana-frequency', 'cocaine-use', 'crack-use', 'heroin-use',\n",
            "       'hallucinogen-use', 'hallucinogen-frequency', 'inhalant-use',\n",
            "       'pain-releiver-use', 'pain-releiver-frequency', 'oxycontin-use',\n",
            "       'tranquilizer-use', 'tranquilizer-frequency', 'stimulant-use',\n",
            "       'stimulant-frequency', 'meth-use', 'sedative-use', 'sedative-frequency',\n",
            "       'meth_freq_categorical'],\n",
            "      dtype='object')\n",
            "  age     n  alcohol-use  alcohol-frequency  marijuana-use  \\\n",
            "0  12  2798          3.9                3.0            1.1   \n",
            "1  13  2757          8.5                6.0            3.4   \n",
            "2  14  2792         18.1                5.0            8.7   \n",
            "3  15  2956         29.2                6.0           14.5   \n",
            "4  16  3058         40.1               10.0           22.5   \n",
            "\n",
            "   marijuana-frequency  cocaine-use cocaine-frequency  crack-use  \\\n",
            "0                  4.0          0.1               5.0        0.0   \n",
            "1                 15.0          0.1               1.0        0.0   \n",
            "2                 24.0          0.1               5.5        0.0   \n",
            "3                 25.0          0.5               4.0        0.1   \n",
            "4                 30.0          1.0               7.0        0.0   \n",
            "\n",
            "  crack-frequency  ...  oxycontin-frequency tranquilizer-use  \\\n",
            "0               -  ...                 24.5              0.2   \n",
            "1             3.0  ...                 41.0              0.3   \n",
            "2               -  ...                  4.5              0.9   \n",
            "3             9.5  ...                  3.0              2.0   \n",
            "4             1.0  ...                  4.0              2.4   \n",
            "\n",
            "   tranquilizer-frequency  stimulant-use  stimulant-frequency meth-use  \\\n",
            "0                    52.0            0.2                  2.0      0.0   \n",
            "1                    25.5            0.3                  4.0      0.1   \n",
            "2                     5.0            0.8                 12.0      0.1   \n",
            "3                     4.5            1.5                  6.0      0.3   \n",
            "4                    11.0            1.8                  9.5      0.3   \n",
            "\n",
            "   meth-frequency  sedative-use  sedative-frequency meth_freq_categorical  \n",
            "0               -           0.2                13.0                     0  \n",
            "1             5.0           0.1                19.0                    12  \n",
            "2            24.0           0.2                16.5                     7  \n",
            "3            10.5           0.4                30.0                     1  \n",
            "4            36.0           0.2                 3.0                     9  \n",
            "\n",
            "[5 rows x 29 columns]\n",
            "---------------------\n",
            "          n  alcohol-use  alcohol-frequency  marijuana-use  \\\n",
            "0 -0.359816    -1.976099          -1.467580      -1.536158   \n",
            "1 -0.392378    -1.799694          -1.322529      -1.337928   \n",
            "2 -0.364582    -1.431544          -1.370879      -0.881136   \n",
            "3 -0.234334    -1.005871          -1.322529      -0.381251   \n",
            "4 -0.153326    -0.587867          -1.129127       0.308246   \n",
            "\n",
            "   marijuana-frequency  cocaine-use  crack-use  heroin-use  hallucinogen-use  \\\n",
            "0            -2.185950    -1.178121  -1.285861   -0.781173         -1.179020   \n",
            "1            -1.568468    -1.178121  -1.285861   -1.090009         -1.031371   \n",
            "2            -1.063257    -1.178121  -1.285861   -0.781173         -0.662249   \n",
            "3            -1.007122    -0.951174  -0.848668   -0.472337         -0.477688   \n",
            "4            -0.726449    -0.667490  -1.285861   -0.781173          0.002171   \n",
            "\n",
            "   hallucinogen-frequency  ...  pain-releiver-frequency  oxycontin-use  \\\n",
            "0                2.995266  ...                 3.164984      -1.415618   \n",
            "1               -0.165730  ...                -0.104917      -1.415618   \n",
            "2               -0.371882  ...                -0.402180      -0.907192   \n",
            "3               -0.303165  ...                -0.699444      -0.229290   \n",
            "4               -0.371882  ...                -1.145339       0.279136   \n",
            "\n",
            "   tranquilizer-use  tranquilizer-frequency  stimulant-use  \\\n",
            "0         -1.531946                3.613685      -1.257756   \n",
            "1         -1.473158                1.235358      -1.184531   \n",
            "2         -1.120430               -0.604481      -0.818403   \n",
            "3         -0.473762               -0.649355      -0.305824   \n",
            "4         -0.238610               -0.065991      -0.086148   \n",
            "\n",
            "   stimulant-frequency  meth-use  sedative-use  sedative-frequency  \\\n",
            "0            -0.349457 -1.499911     -0.615125           -0.264915   \n",
            "1            -0.325478 -1.107627     -1.362062           -0.015870   \n",
            "2            -0.229562 -1.107627     -0.615125           -0.119639   \n",
            "3            -0.301499 -0.323058      0.878750            0.440711   \n",
            "4            -0.259536 -0.323058     -0.615125           -0.679990   \n",
            "\n",
            "   meth_freq_categorical  \n",
            "0              -1.506582  \n",
            "1               1.477328  \n",
            "2               0.234032  \n",
            "3              -1.257923  \n",
            "4               0.731351  \n",
            "\n",
            "[5 rows x 22 columns]\n",
            "---------------------\n",
            "          n  alcohol-use  alcohol-frequency  marijuana-use  \\\n",
            "0  0.111262     0.000000           0.000000       0.000000   \n",
            "1  0.103328     0.057285           0.061224       0.069909   \n",
            "2  0.110101     0.176837           0.040816       0.231003   \n",
            "3  0.141834     0.315068           0.061224       0.407295   \n",
            "4  0.161571     0.450809           0.142857       0.650456   \n",
            "\n",
            "   marijuana-frequency  cocaine-use  crack-use  heroin-use  hallucinogen-use  \\\n",
            "0             0.000000     0.020408   0.000000    0.090909          0.011765   \n",
            "1             0.161765     0.020408   0.000000    0.000000          0.058824   \n",
            "2             0.294118     0.020408   0.000000    0.090909          0.176471   \n",
            "3             0.308824     0.102041   0.166667    0.181818          0.235294   \n",
            "4             0.382353     0.204082   0.000000    0.090909          0.388235   \n",
            "\n",
            "   hallucinogen-frequency  ...  pain-releiver-frequency  oxycontin-use  \\\n",
            "0                    1.00  ...                 1.000000       0.058824   \n",
            "1                    0.08  ...                 0.241379       0.058824   \n",
            "2                    0.02  ...                 0.172414       0.235294   \n",
            "3                    0.04  ...                 0.103448       0.470588   \n",
            "4                    0.02  ...                 0.000000       0.647059   \n",
            "\n",
            "   tranquilizer-use  tranquilizer-frequency  stimulant-use  \\\n",
            "0          0.000000                1.000000       0.048780   \n",
            "1          0.019231                0.442105       0.073171   \n",
            "2          0.134615                0.010526       0.195122   \n",
            "3          0.346154                0.000000       0.365854   \n",
            "4          0.423077                0.136842       0.439024   \n",
            "\n",
            "   stimulant-frequency  meth-use  sedative-use  sedative-frequency  \\\n",
            "0             0.000000  0.000000           0.4            0.099010   \n",
            "1             0.005525  0.111111           0.2            0.158416   \n",
            "2             0.027624  0.111111           0.4            0.133663   \n",
            "3             0.011050  0.333333           0.8            0.267327   \n",
            "4             0.020718  0.333333           0.4            0.000000   \n",
            "\n",
            "   meth_freq_categorical  \n",
            "0               0.000000  \n",
            "1               0.923077  \n",
            "2               0.538462  \n",
            "3               0.076923  \n",
            "4               0.692308  \n",
            "\n",
            "[5 rows x 22 columns]\n"
          ]
        }
      ]
    }
  ]
}