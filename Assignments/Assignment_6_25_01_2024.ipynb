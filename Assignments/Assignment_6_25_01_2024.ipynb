{
  "nbformat": 4,
  "nbformat_minor": 0,
  "metadata": {
    "colab": {
      "provenance": []
    },
    "kernelspec": {
      "name": "python3",
      "display_name": "Python 3"
    },
    "language_info": {
      "name": "python"
    }
  },
  "cells": [
    {
      "cell_type": "markdown",
      "source": [
        "Assignment: Perform Logistic Regression on the Pima Indians Diabetes Database"
      ],
      "metadata": {
        "id": "uswXmiIlyS4H"
      }
    },
    {
      "cell_type": "markdown",
      "source": [
        "**Dataset Link: https://www.kaggle.com/datasets/uciml/pima-indians-diabetes-database**"
      ],
      "metadata": {
        "id": "yUShUXh7ydC_"
      }
    },
    {
      "cell_type": "code",
      "execution_count": 15,
      "metadata": {
        "id": "hoXmsNp6w7NY"
      },
      "outputs": [],
      "source": [
        "import pandas as pd"
      ]
    },
    {
      "cell_type": "code",
      "source": [
        "data = pd.read_csv(\"diabetes.csv\")"
      ],
      "metadata": {
        "id": "1DgA0rXfy9Xl"
      },
      "execution_count": 16,
      "outputs": []
    },
    {
      "cell_type": "code",
      "source": [
        "null_values = data.isnull().sum()\n",
        "\n",
        "print(null_values)"
      ],
      "metadata": {
        "colab": {
          "base_uri": "https://localhost:8080/"
        },
        "id": "q2CoUnhOzAlN",
        "outputId": "0b3567fb-97a1-4682-a80d-f1d35f5ff364"
      },
      "execution_count": 17,
      "outputs": [
        {
          "output_type": "stream",
          "name": "stdout",
          "text": [
            "Pregnancies                 0\n",
            "Glucose                     0\n",
            "BloodPressure               0\n",
            "SkinThickness               0\n",
            "Insulin                     0\n",
            "BMI                         0\n",
            "DiabetesPedigreeFunction    0\n",
            "Age                         0\n",
            "Outcome                     0\n",
            "dtype: int64\n"
          ]
        }
      ]
    },
    {
      "cell_type": "code",
      "source": [
        "print(data['Outcome'].unique())"
      ],
      "metadata": {
        "colab": {
          "base_uri": "https://localhost:8080/"
        },
        "id": "VFI2NrFGzGAU",
        "outputId": "8805ce5c-2982-465b-f3d7-09cb2b96a587"
      },
      "execution_count": 18,
      "outputs": [
        {
          "output_type": "stream",
          "name": "stdout",
          "text": [
            "[1 0]\n"
          ]
        }
      ]
    },
    {
      "cell_type": "code",
      "source": [
        "print(data.columns)"
      ],
      "metadata": {
        "colab": {
          "base_uri": "https://localhost:8080/"
        },
        "id": "qRf_T5OrMd-3",
        "outputId": "286754a0-e48a-4f74-d26c-ab62d20c706d"
      },
      "execution_count": 19,
      "outputs": [
        {
          "output_type": "stream",
          "name": "stdout",
          "text": [
            "Index(['Pregnancies', 'Glucose', 'BloodPressure', 'SkinThickness', 'Insulin',\n",
            "       'BMI', 'DiabetesPedigreeFunction', 'Age', 'Outcome'],\n",
            "      dtype='object')\n"
          ]
        }
      ]
    },
    {
      "cell_type": "code",
      "source": [
        "from sklearn.model_selection import train_test_split\n",
        "\n",
        "features = ['Pregnancies', 'Glucose', 'BloodPressure', 'SkinThickness', 'Insulin',\n",
        "       'BMI', 'DiabetesPedigreeFunction', 'Age']\n",
        "\n",
        "X = data[features]\n",
        "Y = data['Outcome']\n",
        "\n",
        "X_train, X_test, Y_train, Y_test= train_test_split(X, Y, test_size=0.2, random_state=0)"
      ],
      "metadata": {
        "id": "d0fasTRXLjO9"
      },
      "execution_count": 20,
      "outputs": []
    },
    {
      "cell_type": "code",
      "source": [
        "from sklearn.linear_model import LogisticRegression\n",
        "\n",
        "\n",
        "logistic_regression = LogisticRegression()\n",
        "logistic_regression.fit(X_train, Y_train)\n",
        "Y_pred_lr = logistic_regression.predict(X_test)\n"
      ],
      "metadata": {
        "colab": {
          "base_uri": "https://localhost:8080/"
        },
        "id": "bG6X3xwMMJNy",
        "outputId": "a9bff001-20c3-423b-e9e2-6088cc975d17"
      },
      "execution_count": 21,
      "outputs": [
        {
          "output_type": "stream",
          "name": "stderr",
          "text": [
            "/usr/local/lib/python3.10/dist-packages/sklearn/linear_model/_logistic.py:458: ConvergenceWarning: lbfgs failed to converge (status=1):\n",
            "STOP: TOTAL NO. of ITERATIONS REACHED LIMIT.\n",
            "\n",
            "Increase the number of iterations (max_iter) or scale the data as shown in:\n",
            "    https://scikit-learn.org/stable/modules/preprocessing.html\n",
            "Please also refer to the documentation for alternative solver options:\n",
            "    https://scikit-learn.org/stable/modules/linear_model.html#logistic-regression\n",
            "  n_iter_i = _check_optimize_result(\n"
          ]
        }
      ]
    },
    {
      "cell_type": "code",
      "source": [
        "from sklearn.metrics import accuracy_score, confusion_matrix, f1_score, precision_score, recall_score\n",
        "\n",
        "\n",
        "print(\"Accuracy: \", (accuracy_score(Y_test, Y_pred_lr)))\n",
        "print('F-1 Score : ',(f1_score(Y_test, Y_pred_lr, average='micro')))\n",
        "print('Precision Score : ',(precision_score(Y_test,Y_pred_lr, average='micro')))\n",
        "print('Recall Score : ',(recall_score(Y_test, Y_pred_lr, average='micro')))\n",
        "print(\"Confusion Matrix: \\n\", (confusion_matrix(Y_test, Y_pred_lr)))"
      ],
      "metadata": {
        "colab": {
          "base_uri": "https://localhost:8080/"
        },
        "id": "GNdapjYjML_k",
        "outputId": "8c97ddfb-3b5f-44b9-f841-fa0c65835685"
      },
      "execution_count": 22,
      "outputs": [
        {
          "output_type": "stream",
          "name": "stdout",
          "text": [
            "Accuracy:  0.8246753246753247\n",
            "F-1 Score :  0.8246753246753247\n",
            "Precision Score :  0.8246753246753247\n",
            "Recall Score :  0.8246753246753247\n",
            "Confusion Matrix: \n",
            " [[98  9]\n",
            " [18 29]]\n"
          ]
        }
      ]
    }
  ]
}