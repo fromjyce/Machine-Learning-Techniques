{
  "nbformat": 4,
  "nbformat_minor": 0,
  "metadata": {
    "colab": {
      "provenance": []
    },
    "kernelspec": {
      "name": "python3",
      "display_name": "Python 3"
    },
    "language_info": {
      "name": "python"
    }
  },
  "cells": [
    {
      "cell_type": "markdown",
      "source": [
        "## Assignment - 8\n",
        "\n",
        "Implementation of Logistic Regression and PCA on Credit Card Dataset using Standard Scaler\n",
        "\n",
        "Dataset Link: https://www.kaggle.com/datasets/mlg-ulb/creditcardfraud"
      ],
      "metadata": {
        "id": "lDNLp7zuGD6m"
      }
    },
    {
      "cell_type": "code",
      "source": [
        "import pandas as pd\n",
        "\n",
        "dataset = pd.read_csv(\"creditcard.csv\")"
      ],
      "metadata": {
        "id": "gPYVNww3GDId"
      },
      "execution_count": null,
      "outputs": []
    },
    {
      "cell_type": "code",
      "execution_count": null,
      "metadata": {
        "colab": {
          "base_uri": "https://localhost:8080/"
        },
        "id": "dfFIiCDSELNa",
        "outputId": "bb67323c-dad4-485f-e796-b9896e12cf9e"
      },
      "outputs": [
        {
          "output_type": "stream",
          "name": "stdout",
          "text": [
            "   Time        V1        V2        V3        V4        V5        V6        V7  \\\n",
            "0     0 -1.359807 -0.072781  2.536347  1.378155 -0.338321  0.462388  0.239599   \n",
            "1     0  1.191857  0.266151  0.166480  0.448154  0.060018 -0.082361 -0.078803   \n",
            "2     1 -1.358354 -1.340163  1.773209  0.379780 -0.503198  1.800499  0.791461   \n",
            "3     1 -0.966272 -0.185226  1.792993 -0.863291 -0.010309  1.247203  0.237609   \n",
            "4     2 -1.158233  0.877737  1.548718  0.403034 -0.407193  0.095921  0.592941   \n",
            "\n",
            "         V8        V9  ...       V21       V22       V23       V24       V25  \\\n",
            "0  0.098698  0.363787  ... -0.018307  0.277838 -0.110474  0.066928  0.128539   \n",
            "1  0.085102 -0.255425  ... -0.225775 -0.638672  0.101288 -0.339846  0.167170   \n",
            "2  0.247676 -1.514654  ...  0.247998  0.771679  0.909412 -0.689281 -0.327642   \n",
            "3  0.377436 -1.387024  ... -0.108300  0.005274 -0.190321 -1.175575  0.647376   \n",
            "4 -0.270533  0.817739  ... -0.009431  0.798278 -0.137458  0.141267 -0.206010   \n",
            "\n",
            "        V26       V27       V28  Amount  Class  \n",
            "0 -0.189115  0.133558 -0.021053  149.62    0.0  \n",
            "1  0.125895 -0.008983  0.014724    2.69    0.0  \n",
            "2 -0.139097 -0.055353 -0.059752  378.66    0.0  \n",
            "3 -0.221929  0.062723  0.061458  123.50    0.0  \n",
            "4  0.502292  0.219422  0.215153   69.99    0.0  \n",
            "\n",
            "[5 rows x 31 columns]\n",
            "--------------------------------\n",
            "<class 'pandas.core.frame.DataFrame'>\n",
            "RangeIndex: 65453 entries, 0 to 65452\n",
            "Data columns (total 31 columns):\n",
            " #   Column  Non-Null Count  Dtype  \n",
            "---  ------  --------------  -----  \n",
            " 0   Time    65453 non-null  int64  \n",
            " 1   V1      65453 non-null  float64\n",
            " 2   V2      65453 non-null  float64\n",
            " 3   V3      65453 non-null  float64\n",
            " 4   V4      65453 non-null  float64\n",
            " 5   V5      65453 non-null  float64\n",
            " 6   V6      65453 non-null  float64\n",
            " 7   V7      65453 non-null  float64\n",
            " 8   V8      65453 non-null  float64\n",
            " 9   V9      65453 non-null  float64\n",
            " 10  V10     65453 non-null  float64\n",
            " 11  V11     65452 non-null  float64\n",
            " 12  V12     65452 non-null  float64\n",
            " 13  V13     65452 non-null  float64\n",
            " 14  V14     65452 non-null  float64\n",
            " 15  V15     65452 non-null  float64\n",
            " 16  V16     65452 non-null  float64\n",
            " 17  V17     65452 non-null  float64\n",
            " 18  V18     65452 non-null  float64\n",
            " 19  V19     65452 non-null  float64\n",
            " 20  V20     65452 non-null  float64\n",
            " 21  V21     65452 non-null  float64\n",
            " 22  V22     65452 non-null  float64\n",
            " 23  V23     65452 non-null  float64\n",
            " 24  V24     65452 non-null  float64\n",
            " 25  V25     65452 non-null  float64\n",
            " 26  V26     65452 non-null  float64\n",
            " 27  V27     65452 non-null  float64\n",
            " 28  V28     65452 non-null  float64\n",
            " 29  Amount  65452 non-null  float64\n",
            " 30  Class   65452 non-null  float64\n",
            "dtypes: float64(30), int64(1)\n",
            "memory usage: 15.5 MB\n",
            "None\n",
            "--------------------------------\n",
            "               Time            V1            V2            V3            V4  \\\n",
            "count  65453.000000  65453.000000  65453.000000  65453.000000  65453.000000   \n",
            "mean   33429.846867     -0.240575     -0.012987      0.684068      0.171729   \n",
            "std    14078.168886      1.857128      1.649806      1.426716      1.378742   \n",
            "min        0.000000    -56.407510    -72.715728    -32.965346     -5.172595   \n",
            "25%    27748.000000     -1.000865     -0.585921      0.197913     -0.723647   \n",
            "50%    36941.000000     -0.243460      0.075028      0.774169      0.189237   \n",
            "75%    43906.000000      1.153819      0.730504      1.408066      1.054661   \n",
            "max    51591.000000      1.960497     18.183626      4.226108     16.715537   \n",
            "\n",
            "                 V5            V6            V7            V8            V9  \\\n",
            "count  65453.000000  65453.000000  65453.000000  65453.000000  65453.000000   \n",
            "mean      -0.266835      0.103221     -0.113163      0.059434      0.037196   \n",
            "std        1.388857      1.306443      1.254939      1.223332      1.170955   \n",
            "min      -42.147898    -26.160506    -31.764946    -73.216718     -9.283925   \n",
            "25%       -0.884703     -0.636487     -0.602981     -0.142531     -0.662885   \n",
            "50%       -0.298678     -0.148843     -0.073032      0.065169     -0.057666   \n",
            "75%        0.272863      0.495135      0.422151      0.342671      0.695866   \n",
            "max       34.801666     22.529298     36.677268     20.007208     10.392889   \n",
            "\n",
            "       ...           V21           V22           V23           V24  \\\n",
            "count  ...  65452.000000  65452.000000  65452.000000  65452.000000   \n",
            "mean   ...     -0.028511     -0.106841     -0.039098      0.005598   \n",
            "std    ...      0.729616      0.637402      0.603012      0.596708   \n",
            "min    ...    -34.830382    -10.933144    -26.751119     -2.836627   \n",
            "25%    ...     -0.226897     -0.526780     -0.179573     -0.326243   \n",
            "50%    ...     -0.062061     -0.081680     -0.051837      0.061257   \n",
            "75%    ...      0.114460      0.308386      0.078933      0.402812   \n",
            "max    ...     22.614889     10.503090     17.297845      4.014444   \n",
            "\n",
            "                V25           V26           V27           V28        Amount  \\\n",
            "count  65452.000000  65452.000000  65452.000000  65452.000000  65452.000000   \n",
            "mean       0.136732      0.019958      0.002181      0.004243     96.276149   \n",
            "std        0.439030      0.497424      0.381480      0.322063    270.242777   \n",
            "min       -7.495741     -2.534330     -8.567638     -9.617915      0.000000   \n",
            "25%       -0.127572     -0.329428     -0.062871     -0.005887      7.680000   \n",
            "50%        0.174456     -0.076200      0.009404      0.022739     26.220000   \n",
            "75%        0.423146      0.296759      0.082485      0.076182     88.122500   \n",
            "max        5.525093      3.517346     11.135740     33.847808  19656.530000   \n",
            "\n",
            "              Class  \n",
            "count  65452.000000  \n",
            "mean       0.002582  \n",
            "std        0.050749  \n",
            "min        0.000000  \n",
            "25%        0.000000  \n",
            "50%        0.000000  \n",
            "75%        0.000000  \n",
            "max        1.000000  \n",
            "\n",
            "[8 rows x 31 columns]\n",
            "--------------------------------\n",
            "Index(['Time', 'V1', 'V2', 'V3', 'V4', 'V5', 'V6', 'V7', 'V8', 'V9', 'V10',\n",
            "       'V11', 'V12', 'V13', 'V14', 'V15', 'V16', 'V17', 'V18', 'V19', 'V20',\n",
            "       'V21', 'V22', 'V23', 'V24', 'V25', 'V26', 'V27', 'V28', 'Amount',\n",
            "       'Class'],\n",
            "      dtype='object')\n",
            "--------------------------------\n",
            "Time      0\n",
            "V1        0\n",
            "V2        0\n",
            "V3        0\n",
            "V4        0\n",
            "V5        0\n",
            "V6        0\n",
            "V7        0\n",
            "V8        0\n",
            "V9        0\n",
            "V10       0\n",
            "V11       1\n",
            "V12       1\n",
            "V13       1\n",
            "V14       1\n",
            "V15       1\n",
            "V16       1\n",
            "V17       1\n",
            "V18       1\n",
            "V19       1\n",
            "V20       1\n",
            "V21       1\n",
            "V22       1\n",
            "V23       1\n",
            "V24       1\n",
            "V25       1\n",
            "V26       1\n",
            "V27       1\n",
            "V28       1\n",
            "Amount    1\n",
            "Class     1\n",
            "dtype: int64\n"
          ]
        }
      ],
      "source": [
        "print(dataset.head())\n",
        "\n",
        "print(\"--------------------------------\")\n",
        "\n",
        "print(dataset.info())\n",
        "\n",
        "print(\"--------------------------------\")\n",
        "\n",
        "print(dataset.describe())\n",
        "\n",
        "print(\"--------------------------------\")\n",
        "\n",
        "print(dataset.columns)\n",
        "\n",
        "print(\"--------------------------------\")\n",
        "\n",
        "print(dataset.isnull().sum())"
      ]
    },
    {
      "cell_type": "code",
      "source": [
        "dataset = dataset.dropna()\n",
        "\n",
        "print(\"-------------------------------\")\n",
        "\n",
        "print(dataset.info())\n",
        "\n",
        "\n",
        "print(\"----------------------------------\")\n",
        "\n",
        "print(dataset.isnull().sum())"
      ],
      "metadata": {
        "colab": {
          "base_uri": "https://localhost:8080/"
        },
        "id": "YR4P6JVoJalX",
        "outputId": "4e9e75a0-5e71-46ae-a0c1-d1d46f34ab2e"
      },
      "execution_count": null,
      "outputs": [
        {
          "output_type": "stream",
          "name": "stdout",
          "text": [
            "-------------------------------\n",
            "<class 'pandas.core.frame.DataFrame'>\n",
            "Int64Index: 65452 entries, 0 to 65451\n",
            "Data columns (total 31 columns):\n",
            " #   Column  Non-Null Count  Dtype  \n",
            "---  ------  --------------  -----  \n",
            " 0   Time    65452 non-null  int64  \n",
            " 1   V1      65452 non-null  float64\n",
            " 2   V2      65452 non-null  float64\n",
            " 3   V3      65452 non-null  float64\n",
            " 4   V4      65452 non-null  float64\n",
            " 5   V5      65452 non-null  float64\n",
            " 6   V6      65452 non-null  float64\n",
            " 7   V7      65452 non-null  float64\n",
            " 8   V8      65452 non-null  float64\n",
            " 9   V9      65452 non-null  float64\n",
            " 10  V10     65452 non-null  float64\n",
            " 11  V11     65452 non-null  float64\n",
            " 12  V12     65452 non-null  float64\n",
            " 13  V13     65452 non-null  float64\n",
            " 14  V14     65452 non-null  float64\n",
            " 15  V15     65452 non-null  float64\n",
            " 16  V16     65452 non-null  float64\n",
            " 17  V17     65452 non-null  float64\n",
            " 18  V18     65452 non-null  float64\n",
            " 19  V19     65452 non-null  float64\n",
            " 20  V20     65452 non-null  float64\n",
            " 21  V21     65452 non-null  float64\n",
            " 22  V22     65452 non-null  float64\n",
            " 23  V23     65452 non-null  float64\n",
            " 24  V24     65452 non-null  float64\n",
            " 25  V25     65452 non-null  float64\n",
            " 26  V26     65452 non-null  float64\n",
            " 27  V27     65452 non-null  float64\n",
            " 28  V28     65452 non-null  float64\n",
            " 29  Amount  65452 non-null  float64\n",
            " 30  Class   65452 non-null  float64\n",
            "dtypes: float64(30), int64(1)\n",
            "memory usage: 16.0 MB\n",
            "None\n",
            "----------------------------------\n",
            "Time      0\n",
            "V1        0\n",
            "V2        0\n",
            "V3        0\n",
            "V4        0\n",
            "V5        0\n",
            "V6        0\n",
            "V7        0\n",
            "V8        0\n",
            "V9        0\n",
            "V10       0\n",
            "V11       0\n",
            "V12       0\n",
            "V13       0\n",
            "V14       0\n",
            "V15       0\n",
            "V16       0\n",
            "V17       0\n",
            "V18       0\n",
            "V19       0\n",
            "V20       0\n",
            "V21       0\n",
            "V22       0\n",
            "V23       0\n",
            "V24       0\n",
            "V25       0\n",
            "V26       0\n",
            "V27       0\n",
            "V28       0\n",
            "Amount    0\n",
            "Class     0\n",
            "dtype: int64\n"
          ]
        }
      ]
    },
    {
      "cell_type": "code",
      "source": [
        "X = dataset.drop(columns=['Class'])\n",
        "Y = dataset['Class']\n"
      ],
      "metadata": {
        "id": "eavgqxYlM6JV"
      },
      "execution_count": null,
      "outputs": []
    },
    {
      "cell_type": "code",
      "source": [
        "from sklearn.preprocessing import StandardScaler\n",
        "\n",
        "scaler = StandardScaler()\n",
        "X_scaled = scaler.fit_transform(X)"
      ],
      "metadata": {
        "id": "GfvdQ2AzNCWj"
      },
      "execution_count": null,
      "outputs": []
    },
    {
      "cell_type": "code",
      "source": [
        "from sklearn.model_selection import train_test_split\n",
        "\n",
        "X_train, X_test, Y_train, Y_test = train_test_split(X_scaled, Y, test_size=0.2, random_state=42)\n"
      ],
      "metadata": {
        "id": "jEisOR_sNIQv"
      },
      "execution_count": null,
      "outputs": []
    },
    {
      "cell_type": "markdown",
      "source": [
        "### PCA Implementation"
      ],
      "metadata": {
        "id": "5k0E2nyQNaM3"
      }
    },
    {
      "cell_type": "code",
      "source": [
        "from sklearn.decomposition import PCA\n",
        "\n",
        "pca = PCA(n_components=0.95)  # retaining 95% of the variance\n",
        "X_train_pca = pca.fit_transform(X_train)\n",
        "X_test_pca = pca.transform(X_test)"
      ],
      "metadata": {
        "id": "Lm4GnzFuNQNj"
      },
      "execution_count": null,
      "outputs": []
    },
    {
      "cell_type": "markdown",
      "source": [
        "### Logistic Regression Implementation"
      ],
      "metadata": {
        "id": "yNzQHy3xNsow"
      }
    },
    {
      "cell_type": "code",
      "source": [
        "from sklearn.linear_model import LogisticRegression\n",
        "\n",
        "lr = LogisticRegression()\n",
        "lr.fit(X_train_pca, Y_train)"
      ],
      "metadata": {
        "colab": {
          "base_uri": "https://localhost:8080/",
          "height": 214
        },
        "id": "06p5XTnHNZgn",
        "outputId": "32f24197-d266-4799-fa48-ec322b18e29e"
      },
      "execution_count": null,
      "outputs": [
        {
          "output_type": "stream",
          "name": "stderr",
          "text": [
            "/usr/local/lib/python3.10/dist-packages/sklearn/linear_model/_logistic.py:458: ConvergenceWarning: lbfgs failed to converge (status=1):\n",
            "STOP: TOTAL NO. of ITERATIONS REACHED LIMIT.\n",
            "\n",
            "Increase the number of iterations (max_iter) or scale the data as shown in:\n",
            "    https://scikit-learn.org/stable/modules/preprocessing.html\n",
            "Please also refer to the documentation for alternative solver options:\n",
            "    https://scikit-learn.org/stable/modules/linear_model.html#logistic-regression\n",
            "  n_iter_i = _check_optimize_result(\n"
          ]
        },
        {
          "output_type": "execute_result",
          "data": {
            "text/plain": [
              "LogisticRegression()"
            ],
            "text/html": [
              "<style>#sk-container-id-1 {color: black;background-color: white;}#sk-container-id-1 pre{padding: 0;}#sk-container-id-1 div.sk-toggleable {background-color: white;}#sk-container-id-1 label.sk-toggleable__label {cursor: pointer;display: block;width: 100%;margin-bottom: 0;padding: 0.3em;box-sizing: border-box;text-align: center;}#sk-container-id-1 label.sk-toggleable__label-arrow:before {content: \"▸\";float: left;margin-right: 0.25em;color: #696969;}#sk-container-id-1 label.sk-toggleable__label-arrow:hover:before {color: black;}#sk-container-id-1 div.sk-estimator:hover label.sk-toggleable__label-arrow:before {color: black;}#sk-container-id-1 div.sk-toggleable__content {max-height: 0;max-width: 0;overflow: hidden;text-align: left;background-color: #f0f8ff;}#sk-container-id-1 div.sk-toggleable__content pre {margin: 0.2em;color: black;border-radius: 0.25em;background-color: #f0f8ff;}#sk-container-id-1 input.sk-toggleable__control:checked~div.sk-toggleable__content {max-height: 200px;max-width: 100%;overflow: auto;}#sk-container-id-1 input.sk-toggleable__control:checked~label.sk-toggleable__label-arrow:before {content: \"▾\";}#sk-container-id-1 div.sk-estimator input.sk-toggleable__control:checked~label.sk-toggleable__label {background-color: #d4ebff;}#sk-container-id-1 div.sk-label input.sk-toggleable__control:checked~label.sk-toggleable__label {background-color: #d4ebff;}#sk-container-id-1 input.sk-hidden--visually {border: 0;clip: rect(1px 1px 1px 1px);clip: rect(1px, 1px, 1px, 1px);height: 1px;margin: -1px;overflow: hidden;padding: 0;position: absolute;width: 1px;}#sk-container-id-1 div.sk-estimator {font-family: monospace;background-color: #f0f8ff;border: 1px dotted black;border-radius: 0.25em;box-sizing: border-box;margin-bottom: 0.5em;}#sk-container-id-1 div.sk-estimator:hover {background-color: #d4ebff;}#sk-container-id-1 div.sk-parallel-item::after {content: \"\";width: 100%;border-bottom: 1px solid gray;flex-grow: 1;}#sk-container-id-1 div.sk-label:hover label.sk-toggleable__label {background-color: #d4ebff;}#sk-container-id-1 div.sk-serial::before {content: \"\";position: absolute;border-left: 1px solid gray;box-sizing: border-box;top: 0;bottom: 0;left: 50%;z-index: 0;}#sk-container-id-1 div.sk-serial {display: flex;flex-direction: column;align-items: center;background-color: white;padding-right: 0.2em;padding-left: 0.2em;position: relative;}#sk-container-id-1 div.sk-item {position: relative;z-index: 1;}#sk-container-id-1 div.sk-parallel {display: flex;align-items: stretch;justify-content: center;background-color: white;position: relative;}#sk-container-id-1 div.sk-item::before, #sk-container-id-1 div.sk-parallel-item::before {content: \"\";position: absolute;border-left: 1px solid gray;box-sizing: border-box;top: 0;bottom: 0;left: 50%;z-index: -1;}#sk-container-id-1 div.sk-parallel-item {display: flex;flex-direction: column;z-index: 1;position: relative;background-color: white;}#sk-container-id-1 div.sk-parallel-item:first-child::after {align-self: flex-end;width: 50%;}#sk-container-id-1 div.sk-parallel-item:last-child::after {align-self: flex-start;width: 50%;}#sk-container-id-1 div.sk-parallel-item:only-child::after {width: 0;}#sk-container-id-1 div.sk-dashed-wrapped {border: 1px dashed gray;margin: 0 0.4em 0.5em 0.4em;box-sizing: border-box;padding-bottom: 0.4em;background-color: white;}#sk-container-id-1 div.sk-label label {font-family: monospace;font-weight: bold;display: inline-block;line-height: 1.2em;}#sk-container-id-1 div.sk-label-container {text-align: center;}#sk-container-id-1 div.sk-container {/* jupyter's `normalize.less` sets `[hidden] { display: none; }` but bootstrap.min.css set `[hidden] { display: none !important; }` so we also need the `!important` here to be able to override the default hidden behavior on the sphinx rendered scikit-learn.org. See: https://github.com/scikit-learn/scikit-learn/issues/21755 */display: inline-block !important;position: relative;}#sk-container-id-1 div.sk-text-repr-fallback {display: none;}</style><div id=\"sk-container-id-1\" class=\"sk-top-container\"><div class=\"sk-text-repr-fallback\"><pre>LogisticRegression()</pre><b>In a Jupyter environment, please rerun this cell to show the HTML representation or trust the notebook. <br />On GitHub, the HTML representation is unable to render, please try loading this page with nbviewer.org.</b></div><div class=\"sk-container\" hidden><div class=\"sk-item\"><div class=\"sk-estimator sk-toggleable\"><input class=\"sk-toggleable__control sk-hidden--visually\" id=\"sk-estimator-id-1\" type=\"checkbox\" checked><label for=\"sk-estimator-id-1\" class=\"sk-toggleable__label sk-toggleable__label-arrow\">LogisticRegression</label><div class=\"sk-toggleable__content\"><pre>LogisticRegression()</pre></div></div></div></div></div>"
            ]
          },
          "metadata": {},
          "execution_count": 10
        }
      ]
    },
    {
      "cell_type": "code",
      "source": [
        "from sklearn.metrics import accuracy_score\n",
        "\n",
        "Y_pred = lr.predict(X_test_pca)\n",
        "\n",
        "\n",
        "accuracy = accuracy_score(Y_test, Y_pred)\n",
        "print(\"Accuracy:\", accuracy)"
      ],
      "metadata": {
        "colab": {
          "base_uri": "https://localhost:8080/"
        },
        "id": "IAyBCFDWN9RW",
        "outputId": "5f1b51ef-4425-4cd8-a138-d47d71a57f00"
      },
      "execution_count": null,
      "outputs": [
        {
          "output_type": "stream",
          "name": "stdout",
          "text": [
            "Accuracy: 0.9986250095485448\n"
          ]
        }
      ]
    }
  ]
}