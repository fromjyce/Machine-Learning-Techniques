{
 "cells": [
  {
   "cell_type": "markdown",
   "metadata": {},
   "source": [
    "# Lab 5 (20-02-2024)\n",
    "\n",
    "This lab experiments help you master how to do logistic regression.\n",
    "\n",
    "We will be using Iris dataset and the customer info banking dataset.\n"
   ]
  },
  {
   "cell_type": "code",
   "execution_count": null,
   "metadata": {},
   "outputs": [],
   "source": [
    "Registration_Number = \"\"\n",
    "Name = \"\"\n",
    "\n",
    "# Python Program to Get IP Address\n",
    "import socket\n",
    "hostname = socket.gethostname()\n",
    "IPAddr = socket.gethostbyname(hostname)\n",
    "\n",
    "print(\"My name is \" + Name + \" and my roll no : \" + Registration_Number)\n",
    "print(\"Computer IP Address is: \" + IPAddr)"
   ]
  },
  {
   "cell_type": "markdown",
   "metadata": {},
   "source": [
    "## Churn detection\n",
    "The dataset has \n",
    "-   1 unique identifier\n",
    "-   10 features (a mix of categorical and numerical)\n",
    "-   1 label (0, 1) \n",
    "The above is an classic example of binary classification problem\n",
    "\n",
    "Expected:\n",
    "1) Choose the features that matters most (use of covariance matrix)\n",
    "2) Proper splitting of dataset into testing and training\n",
    "3) Confusion matrix - Precision, recall, F1 score\n",
    "4) Valuable data insight (some sort of visualization) using the label"
   ]
  },
  {
   "cell_type": "code",
   "execution_count": null,
   "metadata": {},
   "outputs": [],
   "source": [
    "## Insight on Data - Choice of features"
   ]
  },
  {
   "cell_type": "code",
   "execution_count": null,
   "metadata": {},
   "outputs": [],
   "source": [
    "## Logistic regression"
   ]
  },
  {
   "cell_type": "code",
   "execution_count": null,
   "metadata": {},
   "outputs": [],
   "source": [
    "## Evaluating the logistic regression model"
   ]
  },
  {
   "cell_type": "markdown",
   "metadata": {},
   "source": [
    "## Iris Dataset - Multi-class classification\n",
    "\n",
    "1) Use sci-kit learn inbuilt logistic regression \n",
    "2) Convert the problem into three binary classification problem. Each sub-problem predicts whether it belongs to the class or not. Finally, compare the outputs of the three classifiers to decide which class it belongs.\n",
    "3) Use confusion matrix on both cases, compare the performance of the two models.\n",
    "\n"
   ]
  },
  {
   "cell_type": "code",
   "execution_count": null,
   "metadata": {},
   "outputs": [],
   "source": [
    "## Data set visualization "
   ]
  },
  {
   "cell_type": "code",
   "execution_count": null,
   "metadata": {},
   "outputs": [],
   "source": [
    "## Method 1: In-built logistic regression (multi-class classification) "
   ]
  },
  {
   "cell_type": "code",
   "execution_count": null,
   "metadata": {},
   "outputs": [],
   "source": [
    "## Confusion matrix and scores"
   ]
  },
  {
   "cell_type": "code",
   "execution_count": null,
   "metadata": {},
   "outputs": [],
   "source": [
    "## Method 2 using in-built functions (Three binary classification problems)"
   ]
  }
 ],
 "metadata": {
  "kernelspec": {
   "display_name": "Python 3",
   "language": "python",
   "name": "python3"
  },
  "language_info": {
   "codemirror_mode": {
    "name": "ipython",
    "version": 3
   },
   "file_extension": ".py",
   "mimetype": "text/x-python",
   "name": "python",
   "nbconvert_exporter": "python",
   "pygments_lexer": "ipython3",
   "version": "3.11.8"
  }
 },
 "nbformat": 4,
 "nbformat_minor": 2
}
