{
  "nbformat": 4,
  "nbformat_minor": 0,
  "metadata": {
    "colab": {
      "provenance": []
    },
    "kernelspec": {
      "name": "python3",
      "display_name": "Python 3"
    },
    "language_info": {
      "name": "python"
    }
  },
  "cells": [
    {
      "cell_type": "code",
      "execution_count": null,
      "metadata": {
        "id": "c9XEl-aTMzrR"
      },
      "outputs": [],
      "source": [
        "# Importing necessary libraries\n",
        "import numpy as np\n",
        "import pandas as pd\n",
        "from sklearn.model_selection import train_test_split\n",
        "from sklearn.linear_model import LinearRegression, Ridge, Lasso, ElasticNet, LogisticRegression\n",
        "from sklearn.tree import DecisionTreeClassifier, DecisionTreeRegressor\n",
        "from sklearn.ensemble import RandomForestClassifier, RandomForestRegressor, GradientBoostingClassifier, GradientBoostingRegressor, AdaBoostClassifier, AdaBoostRegressor, ExtraTreesClassifier, ExtraTreesRegressor, VotingClassifier, VotingRegressor, BaggingClassifier, BaggingRegressor, StackingClassifier, StackingRegressor\n",
        "from sklearn.svm import SVC, SVR\n",
        "from sklearn.cluster import KMeans, DBSCAN\n",
        "from sklearn.decomposition import PCA\n",
        "from sklearn.discriminant_analysis import LinearDiscriminantAnalysis\n",
        "from sklearn.naive_bayes import GaussianNB, MultinomialNB\n",
        "from sklearn.neighbors import KNeighborsClassifier, KNeighborsRegressor\n",
        "\n",
        "# Example data\n",
        "X, y = np.random.randn(100, 5), np.random.randn(100)\n",
        "\n",
        "# Splitting data into training and testing sets\n",
        "X_train, X_test, y_train, y_test = train_test_split(X, y, test_size=0.2, random_state=42)\n",
        "\n",
        "# Linear Models\n",
        "linear_regression = LinearRegression()\n",
        "ridge_regression = Ridge()\n",
        "lasso_regression = Lasso()\n",
        "elasticnet_regression = ElasticNet()\n",
        "logistic_regression = LogisticRegression()\n",
        "\n",
        "# Tree-based Models\n",
        "decision_tree_classifier = DecisionTreeClassifier()\n",
        "decision_tree_regressor = DecisionTreeRegressor()\n",
        "random_forest_classifier = RandomForestClassifier()\n",
        "random_forest_regressor = RandomForestRegressor()\n",
        "gradient_boosting_classifier = GradientBoostingClassifier()\n",
        "gradient_boosting_regressor = GradientBoostingRegressor()\n",
        "adaboost_classifier = AdaBoostClassifier()\n",
        "adaboost_regressor = AdaBoostRegressor()\n",
        "extra_trees_classifier = ExtraTreesClassifier()\n",
        "extra_trees_regressor = ExtraTreesRegressor()\n",
        "\n",
        "# Support Vector Machines\n",
        "svc = SVC()\n",
        "svr = SVR()\n",
        "\n",
        "# Clustering\n",
        "kmeans = KMeans()\n",
        "dbscan = DBSCAN()\n",
        "\n",
        "# Dimensionality Reduction\n",
        "pca = PCA()\n",
        "lda = LinearDiscriminantAnalysis()\n",
        "\n",
        "# Ensemble Methods\n",
        "voting_classifier = VotingClassifier(estimators=[('dt', decision_tree_classifier), ('rf', random_forest_classifier), ('svc', svc)])\n",
        "voting_regressor = VotingRegressor(estimators=[('dt', decision_tree_regressor), ('rf', random_forest_regressor), ('svr', svr)])\n",
        "bagging_classifier = BaggingClassifier(base_estimator=DecisionTreeClassifier())\n",
        "bagging_regressor = BaggingRegressor(base_estimator=DecisionTreeRegressor())\n",
        "stacking_classifier = StackingClassifier(estimators=[('dt', decision_tree_classifier), ('rf', random_forest_classifier), ('svc', svc)])\n",
        "stacking_regressor = StackingRegressor(estimators=[('dt', decision_tree_regressor), ('rf', random_forest_regressor), ('svr', svr)])\n",
        "\n",
        "# Naive Bayes\n",
        "gaussian_nb = GaussianNB()\n",
        "multinomial_nb = MultinomialNB()\n",
        "\n",
        "# K-Nearest Neighbors\n",
        "knn_classifier = KNeighborsClassifier()\n",
        "knn_regressor = KNeighborsRegressor()\n"
      ]
    },
    {
      "cell_type": "code",
      "source": [
        "from sklearn.metrics import accuracy_score, precision_score, recall_score, f1_score, mean_squared_error, mean_absolute_error, r2_score, silhouette_score\n",
        "\n",
        "# Function to evaluate classification models\n",
        "def evaluate_classification_model(model, X_test, y_test):\n",
        "    y_pred = model.predict(X_test)\n",
        "    accuracy = accuracy_score(y_test, y_pred)\n",
        "    precision = precision_score(y_test, y_pred, average='weighted')\n",
        "    recall = recall_score(y_test, y_pred, average='weighted')\n",
        "    f1 = f1_score(y_test, y_pred, average='weighted')\n",
        "    return {'Accuracy': accuracy, 'Precision': precision, 'Recall': recall, 'F1 Score': f1}\n",
        "\n",
        "# Example of evaluating classification model\n",
        "classification_metrics = evaluate_classification_model(random_forest_classifier, X_test, y_test)\n",
        "print(\"Classification Metrics:\")\n",
        "for metric, value in classification_metrics.items():\n",
        "    print(f\"{metric}: {value}\")\n"
      ],
      "metadata": {
        "id": "GlGTWtHhM-HW"
      },
      "execution_count": null,
      "outputs": []
    },
    {
      "cell_type": "code",
      "source": [
        "# Function to evaluate regression model\n",
        "def evaluate_regression_model(model, X_test, y_test):\n",
        "    y_pred = model.predict(X_test)\n",
        "    mse = mean_squared_error(y_test, y_pred)\n",
        "    mae = mean_absolute_error(y_test, y_pred)\n",
        "    r2 = r2_score(y_test, y_pred)\n",
        "    return {'Mean Squared Error': mse, 'Mean Absolute Error': mae, 'R^2 Score': r2}\n",
        "\n",
        "# Example of evaluating regression model\n",
        "regression_metrics = evaluate_regression_model(linear_regression, X_test, y_test)\n",
        "print(\"\\nRegression Metrics:\")\n",
        "for metric, value in regression_metrics.items():\n",
        "    print(f\"{metric}: {value}\")\n"
      ],
      "metadata": {
        "id": "5UrrCtfzNBAw"
      },
      "execution_count": null,
      "outputs": []
    },
    {
      "cell_type": "code",
      "source": [
        "# Function to evaluate clustering models\n",
        "def evaluate_clustering_model(model, X):\n",
        "    labels = model.labels_\n",
        "    silhouette = silhouette_score(X, labels)\n",
        "    return {'Silhouette Score': silhouette}\n",
        "\n",
        "# Example of evaluating clustering model\n",
        "clustering_metrics = evaluate_clustering_model(kmeans, X)\n",
        "print(\"\\nClustering Metrics:\")\n",
        "for metric, value in clustering_metrics.items():\n",
        "    print(f\"{metric}: {value}\")"
      ],
      "metadata": {
        "id": "p_by_qJfNF60"
      },
      "execution_count": null,
      "outputs": []
    }
  ]
}