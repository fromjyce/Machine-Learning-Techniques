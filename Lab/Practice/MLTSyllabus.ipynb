{
  "nbformat": 4,
  "nbformat_minor": 0,
  "metadata": {
    "colab": {
      "provenance": []
    },
    "kernelspec": {
      "name": "python3",
      "display_name": "Python 3"
    },
    "language_info": {
      "name": "python"
    }
  },
  "cells": [
    {
      "cell_type": "code",
      "execution_count": null,
      "metadata": {
        "id": "kOitjuWXFp6s"
      },
      "outputs": [],
      "source": [
        "from sklearn.linear_model import LinearRegression\n",
        "\n",
        "# Assuming X_train, y_train, X_test, y_test are your training and testing data\n",
        "model = LinearRegression()\n",
        "model.fit(X_train, y_train)\n",
        "predictions = model.predict(X_test)\n"
      ]
    },
    {
      "cell_type": "code",
      "source": [
        "from sklearn.linear_model import LogisticRegression\n",
        "\n",
        "# Assuming X_train, y_train, X_test, y_test are your training and testing data\n",
        "model = LogisticRegression()\n",
        "model.fit(X_train, y_train)\n",
        "predictions = model.predict(X_test)\n"
      ],
      "metadata": {
        "id": "C5fAKZRZFzQD"
      },
      "execution_count": null,
      "outputs": []
    },
    {
      "cell_type": "code",
      "source": [
        "from sklearn.naive_bayes import GaussianNB\n",
        "\n",
        "# Assuming X_train, y_train, X_test, y_test are your training and testing data\n",
        "model = GaussianNB()\n",
        "model.fit(X_train, y_train)\n",
        "predictions = model.predict(X_test)"
      ],
      "metadata": {
        "id": "4fZENJ0RF1zH"
      },
      "execution_count": null,
      "outputs": []
    },
    {
      "cell_type": "code",
      "source": [
        "from sklearn.neighbors import KNeighborsClassifier\n",
        "\n",
        "# Assuming X_train, y_train, X_test, y_test are your training and testing data\n",
        "model = KNeighborsClassifier(n_neighbors=3)\n",
        "model.fit(X_train, y_train)\n",
        "predictions = model.predict(X_test)\n"
      ],
      "metadata": {
        "id": "MgzSN5X_F52S"
      },
      "execution_count": null,
      "outputs": []
    },
    {
      "cell_type": "code",
      "source": [
        "from scipy.cluster.hierarchy import linkage, dendrogram\n",
        "import matplotlib.pyplot as plt\n",
        "\n",
        "# Perform hierarchical clustering\n",
        "Z = linkage(data, method='ward')\n",
        "\n",
        "# Plot dendrogram\n",
        "plt.figure(figsize=(10, 5))\n",
        "dendrogram(Z)\n",
        "plt.show()\n"
      ],
      "metadata": {
        "id": "yMmQwV70GDjU"
      },
      "execution_count": null,
      "outputs": []
    },
    {
      "cell_type": "code",
      "source": [
        "from sklearn.ensemble import AdaBoostClassifier\n",
        "\n",
        "# Assuming X_train, y_train, X_test, y_test are your training and testing data\n",
        "model = AdaBoostClassifier(n_estimators=50, learning_rate=1.0)\n",
        "model.fit(X_train, y_train)\n",
        "predictions = model.predict(X_test)\n"
      ],
      "metadata": {
        "id": "DqZjNe6aGE5e"
      },
      "execution_count": null,
      "outputs": []
    },
    {
      "cell_type": "code",
      "source": [
        "import xgboost as xgb\n",
        "\n",
        "# Assuming X_train, y_train, X_test, y_test are your training and testing data\n",
        "dtrain = xgb.DMatrix(X_train, label=y_train)\n",
        "dtest = xgb.DMatrix(X_test, label=y_test)\n",
        "param = {'max_depth': 3, 'eta': 0.3, 'objective': 'binary:logistic'}\n",
        "num_round = 20\n",
        "bst = xgb.train(param, dtrain, num_round)\n",
        "predictions = bst.predict(dtest)\n"
      ],
      "metadata": {
        "id": "keZkgALjGGFw"
      },
      "execution_count": null,
      "outputs": []
    },
    {
      "cell_type": "code",
      "source": [
        "from sklearn.feature_extraction.text import CountVectorizer\n",
        "from sklearn.model_selection import train_test_split\n",
        "from sklearn.naive_bayes import MultinomialNB\n",
        "\n",
        "# Assuming 'emails' is a list of email texts and 'labels' is a list of corresponding labels\n",
        "vectorizer = CountVectorizer()\n",
        "X = vectorizer.fit_transform(emails)\n",
        "X_train, X_test, y_train, y_test = train_test_split(X, labels, test_size=0.2, random_state=42)\n",
        "model = MultinomialNB()\n",
        "model.fit(X_train, y_train)\n",
        "predictions = model.predict(X_test)\n"
      ],
      "metadata": {
        "id": "pjX3415qGHTs"
      },
      "execution_count": null,
      "outputs": []
    },
    {
      "cell_type": "code",
      "source": [
        "from sklearn.decomposition import PCA\n",
        "\n",
        "# Assuming 'data' is your dataset\n",
        "pca = PCA(n_components=2)\n",
        "principalComponents = pca.fit_transform(data)\n"
      ],
      "metadata": {
        "id": "Kv6eb7HQGIbk"
      },
      "execution_count": null,
      "outputs": []
    },
    {
      "cell_type": "code",
      "source": [
        "from sklearn.svm import SVC\n",
        "\n",
        "# Assuming X_train, y_train, X_test, y_test are your training and testing data\n",
        "model = SVC()\n",
        "model.fit(X_train, y_train)\n",
        "predictions = model.predict(X_test)\n"
      ],
      "metadata": {
        "id": "Ct0X694xGJRa"
      },
      "execution_count": null,
      "outputs": []
    },
    {
      "cell_type": "code",
      "source": [
        "from sklearn.ensemble import VotingClassifier\n",
        "\n",
        "# Create a list of base classifiers\n",
        "clf1 = LogisticRegression()\n",
        "clf2 = RandomForestClassifier()\n",
        "clf3 = SVC()\n",
        "\n",
        "# Create an ensemble model using VotingClassifier\n",
        "model = VotingClassifier(estimators=[('lr', clf1), ('rf', clf2), ('svm', clf3)], voting='hard')\n",
        "model.fit(X_train, y_train)\n",
        "predictions = model.predict(X_test)\n"
      ],
      "metadata": {
        "id": "BQyfGd9nGKlE"
      },
      "execution_count": null,
      "outputs": []
    }
  ]
}