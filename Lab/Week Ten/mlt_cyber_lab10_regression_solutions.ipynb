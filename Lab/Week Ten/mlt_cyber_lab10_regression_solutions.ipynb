{
  "cells": [
    {
      "cell_type": "code",
      "execution_count": 1,
      "metadata": {
        "colab": {
          "base_uri": "https://localhost:8080/"
        },
        "id": "YtR5ygBil-aW",
        "outputId": "560b5097-6378-4967-a5a1-5e3ba93b9008"
      },
      "outputs": [
        {
          "name": "stdout",
          "output_type": "stream",
          "text": [
            "My name is Jayashre and my roll no : 22011103020\n",
            "Computer IP Address is: 172.28.0.12\n"
          ]
        }
      ],
      "source": [
        "Registration_Number = \"22011103020\"\n",
        "Name = \"Jayashre\"\n",
        "\n",
        "# Python Program to Get IP Address\n",
        "import socket\n",
        "hostname = socket.gethostname()\n",
        "IPAddr = socket.gethostbyname(hostname)\n",
        "\n",
        "print(\"My name is \" + Name + \" and my roll no : \" + Registration_Number)\n",
        "print(\"Computer IP Address is: \" + IPAddr)"
      ]
    },
    {
      "cell_type": "markdown",
      "metadata": {
        "id": "EjeHZWZhoBdP"
      },
      "source": [
        "## Regression Tasks"
      ]
    },
    {
      "cell_type": "code",
      "execution_count": 12,
      "metadata": {
        "colab": {
          "base_uri": "https://localhost:8080/"
        },
        "id": "UTaBbsjpoBPL",
        "outputId": "9257cf3d-707f-4f06-e00e-0c1b7661472c"
      },
      "outputs": [
        {
          "name": "stdout",
          "output_type": "stream",
          "text": [
            "dict_keys(['data', 'target', 'frame', 'categories', 'feature_names', 'target_names', 'DESCR', 'details', 'url'])\n"
          ]
        },
        {
          "name": "stderr",
          "output_type": "stream",
          "text": [
            "/usr/local/lib/python3.10/dist-packages/sklearn/datasets/_openml.py:968: FutureWarning: The default value of `parser` will change from `'liac-arff'` to `'auto'` in 1.4. You can set `parser='auto'` to silence this warning. Therefore, an `ImportError` will be raised from 1.4 if the dataset is dense and pandas is not installed. Note that the pandas parser may return different data types. See the Notes Section in fetch_openml's API doc for details.\n",
            "  warn(\n"
          ]
        }
      ],
      "source": [
        "from sklearn.datasets import fetch_openml\n",
        "\n",
        "dataset = fetch_openml(name='boston', version=1)\n",
        "print(dataset.keys())\n"
      ]
    },
    {
      "cell_type": "code",
      "execution_count": 13,
      "metadata": {
        "colab": {
          "base_uri": "https://localhost:8080/"
        },
        "id": "LJyYXXCCo-d_",
        "outputId": "5a2f8bb2-3c79-4aa7-8f97-a676595abbd4"
      },
      "outputs": [
        {
          "name": "stdout",
          "output_type": "stream",
          "text": [
            "      CRIM    ZN  INDUS CHAS    NOX     RM   AGE     DIS RAD    TAX  PTRATIO  \\\n",
            "0  0.00632  18.0   2.31    0  0.538  6.575  65.2  4.0900   1  296.0     15.3   \n",
            "1  0.02731   0.0   7.07    0  0.469  6.421  78.9  4.9671   2  242.0     17.8   \n",
            "2  0.02729   0.0   7.07    0  0.469  7.185  61.1  4.9671   2  242.0     17.8   \n",
            "3  0.03237   0.0   2.18    0  0.458  6.998  45.8  6.0622   3  222.0     18.7   \n",
            "4  0.06905   0.0   2.18    0  0.458  7.147  54.2  6.0622   3  222.0     18.7   \n",
            "\n",
            "        B  LSTAT  \n",
            "0  396.90   4.98  \n",
            "1  396.90   9.14  \n",
            "2  392.83   4.03  \n",
            "3  394.63   2.94  \n",
            "4  396.90   5.33  \n",
            "-----------------------------\n",
            "<class 'pandas.core.frame.DataFrame'>\n",
            "RangeIndex: 506 entries, 0 to 505\n",
            "Data columns (total 13 columns):\n",
            " #   Column   Non-Null Count  Dtype   \n",
            "---  ------   --------------  -----   \n",
            " 0   CRIM     506 non-null    float64 \n",
            " 1   ZN       506 non-null    float64 \n",
            " 2   INDUS    506 non-null    float64 \n",
            " 3   CHAS     506 non-null    category\n",
            " 4   NOX      506 non-null    float64 \n",
            " 5   RM       506 non-null    float64 \n",
            " 6   AGE      506 non-null    float64 \n",
            " 7   DIS      506 non-null    float64 \n",
            " 8   RAD      506 non-null    category\n",
            " 9   TAX      506 non-null    float64 \n",
            " 10  PTRATIO  506 non-null    float64 \n",
            " 11  B        506 non-null    float64 \n",
            " 12  LSTAT    506 non-null    float64 \n",
            "dtypes: category(2), float64(11)\n",
            "memory usage: 45.1 KB\n",
            "None\n",
            "-----------------------------\n",
            "             CRIM          ZN       INDUS         NOX          RM         AGE  \\\n",
            "count  506.000000  506.000000  506.000000  506.000000  506.000000  506.000000   \n",
            "mean     3.613524   11.363636   11.136779    0.554695    6.284634   68.574901   \n",
            "std      8.601545   23.322453    6.860353    0.115878    0.702617   28.148861   \n",
            "min      0.006320    0.000000    0.460000    0.385000    3.561000    2.900000   \n",
            "25%      0.082045    0.000000    5.190000    0.449000    5.885500   45.025000   \n",
            "50%      0.256510    0.000000    9.690000    0.538000    6.208500   77.500000   \n",
            "75%      3.677083   12.500000   18.100000    0.624000    6.623500   94.075000   \n",
            "max     88.976200  100.000000   27.740000    0.871000    8.780000  100.000000   \n",
            "\n",
            "              DIS         TAX     PTRATIO           B       LSTAT  \n",
            "count  506.000000  506.000000  506.000000  506.000000  506.000000  \n",
            "mean     3.795043  408.237154   18.455534  356.674032   12.653063  \n",
            "std      2.105710  168.537116    2.164946   91.294864    7.141062  \n",
            "min      1.129600  187.000000   12.600000    0.320000    1.730000  \n",
            "25%      2.100175  279.000000   17.400000  375.377500    6.950000  \n",
            "50%      3.207450  330.000000   19.050000  391.440000   11.360000  \n",
            "75%      5.188425  666.000000   20.200000  396.225000   16.955000  \n",
            "max     12.126500  711.000000   22.000000  396.900000   37.970000  \n",
            "-----------------------------\n",
            "Index(['CRIM', 'ZN', 'INDUS', 'CHAS', 'NOX', 'RM', 'AGE', 'DIS', 'RAD', 'TAX',\n",
            "       'PTRATIO', 'B', 'LSTAT'],\n",
            "      dtype='object')\n"
          ]
        }
      ],
      "source": [
        "print(dataset.data.head())\n",
        "\n",
        "print(\"-----------------------------\")\n",
        "\n",
        "print(dataset.data.info())\n",
        "\n",
        "print(\"-----------------------------\")\n",
        "\n",
        "print(dataset.data.describe())\n",
        "\n",
        "print(\"-----------------------------\")\n",
        "\n",
        "print(dataset.data.columns)"
      ]
    },
    {
      "cell_type": "code",
      "execution_count": 14,
      "metadata": {
        "id": "KGTROXhopGL8"
      },
      "outputs": [],
      "source": [
        "X = dataset.data\n",
        "Y = dataset.target"
      ]
    },
    {
      "cell_type": "code",
      "execution_count": 15,
      "metadata": {
        "id": "DdF4amzumPpQ"
      },
      "outputs": [],
      "source": [
        "from sklearn.model_selection import train_test_split\n",
        "\n",
        "X_train_rgr, X_test_rgr, Y_train_rgr, Y_test_rgr = train_test_split(X, Y, test_size=0.2, random_state=42)"
      ]
    },
    {
      "cell_type": "code",
      "execution_count": 16,
      "metadata": {
        "id": "eIJqbWOBpX1B"
      },
      "outputs": [],
      "source": [
        "from sklearn.linear_model import LogisticRegression, LinearRegression\n",
        "from sklearn.tree import DecisionTreeClassifier, DecisionTreeRegressor\n",
        "\n",
        "reg_model_dtr = DecisionTreeRegressor()\n",
        "reg_model_lr = LinearRegression()"
      ]
    },
    {
      "cell_type": "markdown",
      "metadata": {
        "id": "4JHE77m8qAuP"
      },
      "source": [
        "### Checking for Decision Tree Regressor Model"
      ]
    },
    {
      "cell_type": "code",
      "execution_count": 7,
      "metadata": {
        "colab": {
          "base_uri": "https://localhost:8080/"
        },
        "id": "ZPwHcyR6qADz",
        "outputId": "5cf64441-c685-4190-d088-80b17f4e85c1"
      },
      "outputs": [
        {
          "name": "stderr",
          "output_type": "stream",
          "text": [
            "/usr/local/lib/python3.10/dist-packages/sklearn/ensemble/_base.py:166: FutureWarning: `base_estimator` was renamed to `estimator` in version 1.2 and will be removed in 1.4.\n",
            "  warnings.warn(\n"
          ]
        },
        {
          "name": "stdout",
          "output_type": "stream",
          "text": [
            "AdaBoost MSE: 7.181176470588234\n"
          ]
        }
      ],
      "source": [
        "## Adaboost\n",
        "\n",
        "from sklearn.ensemble import AdaBoostRegressor\n",
        "from sklearn.metrics import mean_squared_error\n",
        "\n",
        "\n",
        "adaboost_reg = AdaBoostRegressor(base_estimator=reg_model_dtr, n_estimators=50, random_state=42)\n",
        "adaboost_reg.fit(X_train_rgr, Y_train_rgr)\n",
        "adaboost_pred_reg = adaboost_reg.predict(X_test_rgr)\n",
        "adaboost_mse = mean_squared_error(Y_test_rgr, adaboost_pred_reg)\n",
        "print(\"AdaBoost MSE:\", adaboost_mse)"
      ]
    },
    {
      "cell_type": "markdown",
      "metadata": {
        "id": "5kLR24Wfr9fN"
      },
      "source": [
        "### Checking for Linear Regression Model"
      ]
    },
    {
      "cell_type": "code",
      "execution_count": 8,
      "metadata": {
        "colab": {
          "base_uri": "https://localhost:8080/"
        },
        "id": "ArftelsFsDqK",
        "outputId": "c28392ed-88a3-4b92-fe24-8c4e5ea510d9"
      },
      "outputs": [
        {
          "name": "stdout",
          "output_type": "stream",
          "text": [
            "AdaBoost MSE: 24.905800497260817\n"
          ]
        },
        {
          "name": "stderr",
          "output_type": "stream",
          "text": [
            "/usr/local/lib/python3.10/dist-packages/sklearn/ensemble/_base.py:166: FutureWarning: `base_estimator` was renamed to `estimator` in version 1.2 and will be removed in 1.4.\n",
            "  warnings.warn(\n"
          ]
        }
      ],
      "source": [
        "## Adaboost\n",
        "\n",
        "from sklearn.ensemble import AdaBoostRegressor\n",
        "from sklearn.metrics import mean_squared_error\n",
        "\n",
        "\n",
        "adaboost_reg = AdaBoostRegressor(base_estimator=reg_model_lr, n_estimators=50, random_state=42)\n",
        "adaboost_reg.fit(X_train_rgr, Y_train_rgr)\n",
        "adaboost_pred_reg = adaboost_reg.predict(X_test_rgr)\n",
        "adaboost_mse = mean_squared_error(Y_test_rgr, adaboost_pred_reg)\n",
        "print(\"AdaBoost MSE:\", adaboost_mse)"
      ]
    },
    {
      "cell_type": "markdown",
      "metadata": {
        "id": "PzQBDn1hsLIt"
      },
      "source": [
        "### Checking for both models simultaneously"
      ]
    },
    {
      "cell_type": "code",
      "execution_count": 26,
      "metadata": {
        "colab": {
          "base_uri": "https://localhost:8080/"
        },
        "id": "qMcQTs6qsPIQ",
        "outputId": "cbb9d9f8-f7d3-4283-d207-2f0ac9af48e1"
      },
      "outputs": [
        {
          "name": "stdout",
          "output_type": "stream",
          "text": [
            "Stacked Generalization MSE: 16.44999104037476\n"
          ]
        }
      ],
      "source": [
        "## Stacked Generalization Regressor - for Linear Regression as Final Estimator\n",
        "\n",
        "from sklearn.ensemble import StackingRegressor\n",
        "import numpy as np\n",
        "\n",
        "X_train_rgr_np = np.array(X_train_rgr)\n",
        "X_test_rgr_np = np.array(X_test_rgr)\n",
        "Y_train_rgr_np = np.array(Y_train_rgr)\n",
        "\n",
        "stacked_reg = StackingRegressor(estimators=[('dt', reg_model_dtr), ('lr', reg_model_lr)],\n",
        "                                 final_estimator=LinearRegression())\n",
        "stacked_reg.fit(X_train_rgr_np, Y_train_rgr_np)\n",
        "stacked_pred_reg = stacked_reg.predict(X_test_rgr_np)\n",
        "stacked_mse = mean_squared_error(Y_test_rgr, stacked_pred_reg)\n",
        "print(\"Stacked Generalization MSE:\", stacked_mse)"
      ]
    },
    {
      "cell_type": "code",
      "execution_count": 27,
      "metadata": {
        "colab": {
          "base_uri": "https://localhost:8080/"
        },
        "id": "mBhc-fLN3a44",
        "outputId": "e94f0b56-fc0d-41f7-890a-3cd88cb4e5aa"
      },
      "outputs": [
        {
          "name": "stdout",
          "output_type": "stream",
          "text": [
            "Stacked Generalization MSE: 40.997352941176466\n"
          ]
        }
      ],
      "source": [
        "## Stacked Generalization Regressor - for DecisionTreeRegressor as Final Estimator\n",
        "\n",
        "from sklearn.ensemble import StackingRegressor\n",
        "import numpy as np\n",
        "\n",
        "X_train_rgr_np = np.array(X_train_rgr)\n",
        "X_test_rgr_np = np.array(X_test_rgr)\n",
        "Y_train_rgr_np = np.array(Y_train_rgr)\n",
        "\n",
        "stacked_reg = StackingRegressor(estimators=[('dt', reg_model_dtr), ('lr', reg_model_lr)],\n",
        "                                 final_estimator=DecisionTreeRegressor())\n",
        "stacked_reg.fit(X_train_rgr_np, Y_train_rgr_np)\n",
        "stacked_pred_reg = stacked_reg.predict(X_test_rgr_np)\n",
        "stacked_mse = mean_squared_error(Y_test_rgr, stacked_pred_reg)\n",
        "print(\"Stacked Generalization MSE:\", stacked_mse)"
      ]
    },
    {
      "cell_type": "code",
      "execution_count": 30,
      "metadata": {
        "colab": {
          "base_uri": "https://localhost:8080/"
        },
        "id": "vM2vmXEp3roW",
        "outputId": "2cca1319-8d46-460e-c7b3-53f455342f3a"
      },
      "outputs": [
        {
          "name": "stdout",
          "output_type": "stream",
          "text": [
            "Voting Regressor MSE: 15.781487643684464\n"
          ]
        }
      ],
      "source": [
        "## Voting Regressor\n",
        "\n",
        "from sklearn.ensemble import VotingRegressor\n",
        "\n",
        "X_train_rgr_np = np.array(X_train_rgr)\n",
        "X_test_rgr_np = np.array(X_test_rgr)\n",
        "Y_train_rgr_np = np.array(Y_train_rgr)\n",
        "\n",
        "voting_reg = VotingRegressor(estimators=[('dt', reg_model_dtr), ('lr', reg_model_lr)])\n",
        "voting_reg.fit(X_train_rgr_np, Y_train_rgr_np)\n",
        "voting_pred_reg = voting_reg.predict(X_test_rgr_np)\n",
        "voting_mse = mean_squared_error(Y_test_rgr, voting_pred_reg)\n",
        "print(\"Voting Regressor MSE:\", voting_mse)\n"
      ]
    }
  ],
  "metadata": {
    "colab": {
      "provenance": []
    },
    "kernelspec": {
      "display_name": "Python 3",
      "name": "python3"
    },
    "language_info": {
      "name": "python"
    }
  },
  "nbformat": 4,
  "nbformat_minor": 0
}
