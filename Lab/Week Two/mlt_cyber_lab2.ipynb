{
  "nbformat": 4,
  "nbformat_minor": 0,
  "metadata": {
    "colab": {
      "private_outputs": true,
      "provenance": []
    },
    "kernelspec": {
      "name": "python3",
      "display_name": "Python 3"
    },
    "language_info": {
      "name": "python"
    }
  },
  "cells": [
    {
      "cell_type": "markdown",
      "source": [
        "# Lab 2 (02-01-2024)\n",
        "\n",
        "This lab experiments help you master how to perform basic data analysis and preliminary data visualization.\n",
        "\n"
      ],
      "metadata": {
        "id": "-6H1OBnEnRg5"
      }
    },
    {
      "cell_type": "code",
      "source": [
        "Registration_Number = \"\"\n",
        "Name = \"\"\n",
        "\n",
        "# Python Program to Get IP Address\n",
        "import socket\n",
        "hostname = socket.gethostname()\n",
        "IPAddr = socket.gethostbyname(hostname)\n",
        "\n",
        "print(\"My name is \" + Name + \" and my roll no : \" + Registration_Number)\n",
        "print(\"Computer IP Address is: \" + IPAddr)"
      ],
      "metadata": {
        "id": "8YQTqvOLYMMY"
      },
      "execution_count": null,
      "outputs": []
    },
    {
      "cell_type": "markdown",
      "source": [
        "## Experiment 1\n",
        "Load iris dataset using scikit learn.\n",
        "\n"
      ],
      "metadata": {
        "id": "sJLIrF7ooubF"
      }
    },
    {
      "cell_type": "code",
      "execution_count": null,
      "metadata": {
        "id": "4MOPlLH4m-Vz"
      },
      "outputs": [],
      "source": [
        "# Experiment 1\n",
        "from sklearn import datasets\n",
        "import matplotlib.pyplot as plt\n",
        "import numpy as np\n",
        "\n",
        "iris = datasets.load_iris()\n",
        "X = np.array(iris[\"data\"])\n",
        "Y = np.array(iris[\"target\"])\n",
        "category_names = iris[\"target_names\"]\n",
        "feature_names = iris[\"feature_names\"]"
      ]
    },
    {
      "cell_type": "code",
      "source": [
        "# Description of the IRIS Dataset\n",
        "print(iris[\"DESCR\"])"
      ],
      "metadata": {
        "id": "VrLgpsCXpIQ3"
      },
      "execution_count": null,
      "outputs": []
    },
    {
      "cell_type": "code",
      "source": [
        "# use pandas to describe the dataset. verify with the above."
      ],
      "metadata": {
        "id": "fm5F8xhQrmVv"
      },
      "execution_count": null,
      "outputs": []
    },
    {
      "cell_type": "code",
      "source": [
        "# Below code produces a scatter plot\n",
        "_, ax = plt.subplots()\n",
        "scatter = ax.scatter(X[:, 0], X[:, 1], c=Y)\n",
        "ax.set(xlabel=feature_names[0], ylabel=feature_names[1])\n",
        "_ = ax.legend(\n",
        "    scatter.legend_elements()[0], category_names, loc=\"lower right\", title=\"Classes\"\n",
        ")"
      ],
      "metadata": {
        "id": "PckyOM75pa7t"
      },
      "execution_count": null,
      "outputs": []
    },
    {
      "cell_type": "markdown",
      "source": [
        "### What is the inference from above plot?"
      ],
      "metadata": {
        "id": "9TMEaYuHv1Xi"
      }
    },
    {
      "cell_type": "markdown",
      "source": [
        "Type your answer here:\n"
      ],
      "metadata": {
        "id": "48hKqGKEv6xe"
      }
    },
    {
      "cell_type": "code",
      "source": [
        "# Repeat the above scatter plot for all pairs of features\n",
        "# 1) sepal length in cm vs petal length in cm\n",
        "# 2) sepal length in cm vs petal width in cm\n",
        "# 3) petal length in cm vs petal width in cm\n"
      ],
      "metadata": {
        "id": "LEW_aLvdrNf4"
      },
      "execution_count": null,
      "outputs": []
    },
    {
      "cell_type": "code",
      "source": [
        "# Create two new features\n",
        "# sepal area = sepal length x sepal width,\n",
        "# petal area = petal length x petal width"
      ],
      "metadata": {
        "id": "9YYKTCJArOwl"
      },
      "execution_count": null,
      "outputs": []
    },
    {
      "cell_type": "code",
      "source": [
        "# Use boxplot for each feature plot in the same plot different"
      ],
      "metadata": {
        "id": "HCQTa0W_E2HE"
      },
      "execution_count": null,
      "outputs": []
    },
    {
      "cell_type": "code",
      "source": [
        "# Find the average of each feature (including petal area, sepal area) for each class\n",
        "# and compare with the average of the complete dataset"
      ],
      "metadata": {
        "id": "xAzAQRt7rPF8"
      },
      "execution_count": null,
      "outputs": []
    },
    {
      "cell_type": "code",
      "source": [
        "# Check what is QQ plot and plot pair of features"
      ],
      "metadata": {
        "id": "HIoPxlD8XvK0"
      },
      "execution_count": null,
      "outputs": []
    },
    {
      "cell_type": "markdown",
      "source": [
        "## Experiment 2\n",
        "\n",
        "Load Melbourne housing dataset supplied alongwith. The filename is \"real_estate.csv\" file. You may use either pandas or numpy."
      ],
      "metadata": {
        "id": "GS9EjDWbovi0"
      }
    },
    {
      "cell_type": "code",
      "source": [],
      "metadata": {
        "id": "AfyoeLiyZkO0"
      },
      "execution_count": null,
      "outputs": []
    },
    {
      "cell_type": "markdown",
      "source": [
        "### Unique Identifier\n",
        "- Address (replace the address with a unique number)\n",
        "### Features of the dataset\n",
        "- Rooms\n",
        "- Price\n",
        "- Number of Bedrooms\n",
        "- Number of Bathrooms\n",
        "- Land size\n",
        "- Year built\n",
        "- Region name\n",
        "- Sub urban name\n",
        "### Target variable (output variable t)\n",
        "- Type of House\n",
        "  - h - house, cottage, villa, semi, terrace\n",
        "  - u - unit, duplex\n",
        "  - t - townhouse"
      ],
      "metadata": {
        "id": "eTpKK47eZllp"
      }
    },
    {
      "cell_type": "markdown",
      "source": [
        "In the above dataset,\n",
        "- Convert the \"Year built\" into a categorical data\n",
        "  - the houses built before 1800 is given 8\n",
        "  - the houses built from 1800 to 1850 is given 7\n",
        "  - the houses build from 1850 to 1900 is given 6\n",
        "  - the houses built between 1900 to 1920 is given as 5\n",
        "  - the houses built between 1920 to 1950 is given as 4\n",
        "  - the houses built between 1950 to 1980 is given as 3\n",
        "  - the houses built between 1980 to 2000 is given as 2\n",
        "  - the houses built between 2000 to 2023 is given as 1\n",
        "  - if there is no data on house built consider it as 0\n",
        "- Use normalization techniques used in previous lab for \"price\" and \"lab-size\"?\n",
        "- Choose any one \"Region name\" for that answer following questions\n",
        "  - Which is the dominant house-type?\n",
        "  - what is the average cost of different types of house?\n",
        "  - Use scatter plot for the following pair of features\n",
        "    - price vs number of bedrooms\n",
        "    - price vs number of bathrooms\n",
        "    - land size vs price"
      ],
      "metadata": {
        "id": "P0nNcljicQKQ"
      }
    },
    {
      "cell_type": "code",
      "source": [],
      "metadata": {
        "id": "SAZVOuTXccmw"
      },
      "execution_count": null,
      "outputs": []
    },
    {
      "cell_type": "code",
      "source": [],
      "metadata": {
        "id": "Q5N3o2yQkIi8"
      },
      "execution_count": null,
      "outputs": []
    },
    {
      "cell_type": "markdown",
      "source": [
        "## Covariance matrix\n",
        "Create a numpy array with 3 features land size, price, number of bedrooms. the size of the array will be 3xN. N is the number of samples.\n",
        "\n",
        "An example of how to find the covariance matrix is given below:"
      ],
      "metadata": {
        "id": "zq_DKeMvkJAE"
      }
    },
    {
      "cell_type": "code",
      "source": [
        "import numpy as np\n",
        "# Here number of samples is 5 and 3 features\n",
        "x1 = [4.01, -10.2,  -4.3, 8.4, 3.1] # feature 1\n",
        "x2 = [2.3,  11.1,  6.12, -0.123, 0.97] # feature 2\n",
        "x3 = [9.0, 7.1, -7.1, -9.87, 6.23] # feature 3\n",
        "X = np.stack((x1, x2, x3), axis=0)\n",
        "np.cov(X)\n",
        "# This gives the correlation between features\n",
        "# A(2,3) gives the relation between feature 2 and 3\n",
        "# A(2,2) gives the variance in feature 2\n",
        "# Browse through and find out why this matrix is much needed in machine learning"
      ],
      "metadata": {
        "id": "gZlvu0FcmmHZ"
      },
      "execution_count": null,
      "outputs": []
    },
    {
      "cell_type": "code",
      "source": [],
      "metadata": {
        "id": "YxLQXc5opGye"
      },
      "execution_count": null,
      "outputs": []
    },
    {
      "cell_type": "markdown",
      "source": [
        "### Find the covariance matrix for entire real_estate database."
      ],
      "metadata": {
        "id": "aRcSDWhDnEZl"
      }
    },
    {
      "cell_type": "code",
      "source": [],
      "metadata": {
        "id": "ygI5NvR9m0rs"
      },
      "execution_count": null,
      "outputs": []
    },
    {
      "cell_type": "markdown",
      "source": [
        "## Basic linear algebra\n",
        "- Find the eigen values of the covariance matrix of the entire dataset (use eigen value decomposition)\n",
        "- Find the singular values of the covariance matrix of the entire dataset"
      ],
      "metadata": {
        "id": "V226C7UVpPsp"
      }
    },
    {
      "cell_type": "code",
      "source": [],
      "metadata": {
        "id": "b_JjeTrUp21y"
      },
      "execution_count": null,
      "outputs": []
    }
  ]
}
