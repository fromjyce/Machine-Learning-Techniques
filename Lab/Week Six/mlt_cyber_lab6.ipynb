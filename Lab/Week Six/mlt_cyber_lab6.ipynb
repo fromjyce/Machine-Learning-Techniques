{
 "cells": [
  {
   "cell_type": "markdown",
   "metadata": {},
   "source": [
    "# Lab 6 (27-02-2024)\n",
    "\n",
    "This lab experiments help you master how to do Naive Bayes Classifier. We will be using Heart disease dataset. "
   ]
  },
  {
   "cell_type": "code",
   "execution_count": null,
   "metadata": {},
   "outputs": [],
   "source": [
    "Registration_Number = \"\"\n",
    "Name = \"\"\n",
    "\n",
    "# Python Program to Get IP Address\n",
    "import socket\n",
    "hostname = socket.gethostname()\n",
    "IPAddr = socket.gethostbyname(hostname)\n",
    "\n",
    "print(\"My name is \" + Name + \" and my roll no : \" + Registration_Number)\n",
    "print(\"Computer IP Address is: \" + IPAddr)"
   ]
  },
  {
   "cell_type": "markdown",
   "metadata": {},
   "source": [
    "Read through [Naive Bayes Classifier](https://www.geeksforgeeks.org/naive-bayes-classifiers/)"
   ]
  },
  {
   "cell_type": "markdown",
   "metadata": {},
   "source": [
    "Following experiments are expected\n",
    "1. Perform monomial naive bayes classifier\n",
    "    - Plot a graph for accuracy vs %test_data\n",
    "    - Plot a graph for accuracy vs each feature for 80% test-train split\n",
    "2. Perform Naive bayes classifier using Gaussian\n",
    "    - Plot a graph for accuracy with addition of different features"
   ]
  },
  {
   "cell_type": "markdown",
   "metadata": {},
   "source": []
  },
  {
   "cell_type": "code",
   "execution_count": 1,
   "metadata": {},
   "outputs": [],
   "source": [
    "# Monomial Gaussian Naive Bayes"
   ]
  },
  {
   "cell_type": "code",
   "execution_count": 2,
   "metadata": {},
   "outputs": [],
   "source": [
    "# Graph on accuracy"
   ]
  },
  {
   "cell_type": "code",
   "execution_count": 3,
   "metadata": {},
   "outputs": [],
   "source": [
    "# Multinomial Gaussian Naive Bayes"
   ]
  },
  {
   "cell_type": "code",
   "execution_count": null,
   "metadata": {},
   "outputs": [],
   "source": [
    "# Graph on accuracy"
   ]
  }
 ],
 "metadata": {
  "kernelspec": {
   "display_name": "Python 3",
   "language": "python",
   "name": "python3"
  },
  "language_info": {
   "codemirror_mode": {
    "name": "ipython",
    "version": 3
   },
   "file_extension": ".py",
   "mimetype": "text/x-python",
   "name": "python",
   "nbconvert_exporter": "python",
   "pygments_lexer": "ipython3",
   "version": "3.11.8"
  }
 },
 "nbformat": 4,
 "nbformat_minor": 2
}
