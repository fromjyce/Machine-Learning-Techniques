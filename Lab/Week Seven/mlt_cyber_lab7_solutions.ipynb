{
  "nbformat": 4,
  "nbformat_minor": 0,
  "metadata": {
    "colab": {
      "provenance": []
    },
    "kernelspec": {
      "name": "python3",
      "display_name": "Python 3"
    },
    "language_info": {
      "name": "python"
    }
  },
  "cells": [
    {
      "cell_type": "code",
      "source": [
        "Registration_Number = \"22011103020\"\n",
        "Name = \"Jayashre\"\n",
        "\n",
        "# Python Program to Get IP Address\n",
        "import socket\n",
        "hostname = socket.gethostname()\n",
        "IPAddr = socket.gethostbyname(hostname)\n",
        "\n",
        "print(\"My name is \" + Name + \" and my roll no : \" + Registration_Number)\n",
        "print(\"Computer IP Address is: \" + IPAddr)"
      ],
      "metadata": {
        "colab": {
          "base_uri": "https://localhost:8080/"
        },
        "id": "jGHl34quOFMa",
        "outputId": "8003faac-bd23-4f26-cb02-5043ce386c8c"
      },
      "execution_count": 1,
      "outputs": [
        {
          "output_type": "stream",
          "name": "stdout",
          "text": [
            "My name is Jayashre and my roll no : 22011103020\n",
            "Computer IP Address is: 172.28.0.12\n"
          ]
        }
      ]
    },
    {
      "cell_type": "markdown",
      "source": [
        "## Lab 7 Assignment - 12.03.2024\n",
        "Use\n",
        "1. Boosted trees (appropriate Python package)\n",
        "2. XGBoost (detailed analysis/comparison with other methods)\n",
        "\n",
        "\n",
        "On housing price dataset, The prediction variable is the housingprice"
      ],
      "metadata": {
        "id": "aDMqV6-hDQJB"
      }
    },
    {
      "cell_type": "code",
      "execution_count": 2,
      "metadata": {
        "id": "mNJO9Fu4DLaF"
      },
      "outputs": [],
      "source": [
        "import pandas as pd\n",
        "\n",
        "dataset = pd.read_csv(\"drive/MyDrive/Colab Notebooks/HousingData.csv\")\n",
        "\n",
        "df = dataset.dropna()"
      ]
    },
    {
      "cell_type": "code",
      "source": [
        "print(df)\n",
        "\n",
        "print(\"--------------------------------\")\n",
        "\n",
        "print(df.describe())\n",
        "\n",
        "print(\"--------------------------------\")\n",
        "\n",
        "print(df.info())\n",
        "\n",
        "print(\"--------------------------------\")\n",
        "\n",
        "print(df.columns)"
      ],
      "metadata": {
        "colab": {
          "base_uri": "https://localhost:8080/"
        },
        "id": "hxYnb2vA_GI7",
        "outputId": "1436b5c1-652c-45e7-9355-aec51c6dbf59"
      },
      "execution_count": 3,
      "outputs": [
        {
          "output_type": "stream",
          "name": "stdout",
          "text": [
            "        CRIM    ZN  INDUS  CHAS    NOX     RM   AGE     DIS  RAD  TAX  \\\n",
            "0    0.00632  18.0   2.31   0.0  0.538  6.575  65.2  4.0900    1  296   \n",
            "1    0.02731   0.0   7.07   0.0  0.469  6.421  78.9  4.9671    2  242   \n",
            "2    0.02729   0.0   7.07   0.0  0.469  7.185  61.1  4.9671    2  242   \n",
            "3    0.03237   0.0   2.18   0.0  0.458  6.998  45.8  6.0622    3  222   \n",
            "5    0.02985   0.0   2.18   0.0  0.458  6.430  58.7  6.0622    3  222   \n",
            "..       ...   ...    ...   ...    ...    ...   ...     ...  ...  ...   \n",
            "499  0.17783   0.0   9.69   0.0  0.585  5.569  73.5  2.3999    6  391   \n",
            "500  0.22438   0.0   9.69   0.0  0.585  6.027  79.7  2.4982    6  391   \n",
            "502  0.04527   0.0  11.93   0.0  0.573  6.120  76.7  2.2875    1  273   \n",
            "503  0.06076   0.0  11.93   0.0  0.573  6.976  91.0  2.1675    1  273   \n",
            "504  0.10959   0.0  11.93   0.0  0.573  6.794  89.3  2.3889    1  273   \n",
            "\n",
            "     PTRATIO       B  LSTAT  MEDV  \n",
            "0       15.3  396.90   4.98  24.0  \n",
            "1       17.8  396.90   9.14  21.6  \n",
            "2       17.8  392.83   4.03  34.7  \n",
            "3       18.7  394.63   2.94  33.4  \n",
            "5       18.7  394.12   5.21  28.7  \n",
            "..       ...     ...    ...   ...  \n",
            "499     19.2  395.77  15.10  17.5  \n",
            "500     19.2  396.90  14.33  16.8  \n",
            "502     21.0  396.90   9.08  20.6  \n",
            "503     21.0  396.90   5.64  23.9  \n",
            "504     21.0  393.45   6.48  22.0  \n",
            "\n",
            "[394 rows x 14 columns]\n",
            "--------------------------------\n",
            "             CRIM          ZN       INDUS        CHAS         NOX          RM  \\\n",
            "count  394.000000  394.000000  394.000000  394.000000  394.000000  394.000000   \n",
            "mean     3.690136   11.460660   11.000863    0.068528    0.553215    6.280015   \n",
            "std      9.202423   23.954082    6.908364    0.252971    0.113112    0.697985   \n",
            "min      0.006320    0.000000    0.460000    0.000000    0.389000    3.561000   \n",
            "25%      0.081955    0.000000    5.130000    0.000000    0.453000    5.879250   \n",
            "50%      0.268880    0.000000    8.560000    0.000000    0.538000    6.201500   \n",
            "75%      3.435973   12.500000   18.100000    0.000000    0.624000    6.605500   \n",
            "max     88.976200  100.000000   27.740000    1.000000    0.871000    8.780000   \n",
            "\n",
            "              AGE         DIS         RAD         TAX     PTRATIO           B  \\\n",
            "count  394.000000  394.000000  394.000000  394.000000  394.000000  394.000000   \n",
            "mean    68.932741    3.805268    9.403553  406.431472   18.537563  358.490939   \n",
            "std     27.888705    2.098571    8.633451  168.312419    2.166460   89.283295   \n",
            "min      2.900000    1.129600    1.000000  187.000000   12.600000    2.600000   \n",
            "25%     45.475000    2.110100    4.000000  280.250000   17.400000  376.707500   \n",
            "50%     77.700000    3.199200    5.000000  330.000000   19.100000  392.190000   \n",
            "75%     94.250000    5.116700   24.000000  666.000000   20.200000  396.900000   \n",
            "max    100.000000   12.126500   24.000000  711.000000   22.000000  396.900000   \n",
            "\n",
            "            LSTAT        MEDV  \n",
            "count  394.000000  394.000000  \n",
            "mean    12.769112   22.359645  \n",
            "std      7.308430    9.142979  \n",
            "min      1.730000    5.000000  \n",
            "25%      7.125000   16.800000  \n",
            "50%     11.300000   21.050000  \n",
            "75%     17.117500   25.000000  \n",
            "max     37.970000   50.000000  \n",
            "--------------------------------\n",
            "<class 'pandas.core.frame.DataFrame'>\n",
            "Int64Index: 394 entries, 0 to 504\n",
            "Data columns (total 14 columns):\n",
            " #   Column   Non-Null Count  Dtype  \n",
            "---  ------   --------------  -----  \n",
            " 0   CRIM     394 non-null    float64\n",
            " 1   ZN       394 non-null    float64\n",
            " 2   INDUS    394 non-null    float64\n",
            " 3   CHAS     394 non-null    float64\n",
            " 4   NOX      394 non-null    float64\n",
            " 5   RM       394 non-null    float64\n",
            " 6   AGE      394 non-null    float64\n",
            " 7   DIS      394 non-null    float64\n",
            " 8   RAD      394 non-null    int64  \n",
            " 9   TAX      394 non-null    int64  \n",
            " 10  PTRATIO  394 non-null    float64\n",
            " 11  B        394 non-null    float64\n",
            " 12  LSTAT    394 non-null    float64\n",
            " 13  MEDV     394 non-null    float64\n",
            "dtypes: float64(12), int64(2)\n",
            "memory usage: 46.2 KB\n",
            "None\n",
            "--------------------------------\n",
            "Index(['CRIM', 'ZN', 'INDUS', 'CHAS', 'NOX', 'RM', 'AGE', 'DIS', 'RAD', 'TAX',\n",
            "       'PTRATIO', 'B', 'LSTAT', 'MEDV'],\n",
            "      dtype='object')\n"
          ]
        }
      ]
    },
    {
      "cell_type": "code",
      "source": [
        "categorical_columns = df.select_dtypes(include=['object']).columns\n",
        "numerical_columns= df.select_dtypes(exclude=['object']).columns\n",
        "\n",
        "print(categorical_columns)\n",
        "\n",
        "print(\"--------------------------------\")\n",
        "\n",
        "print(numerical_columns)"
      ],
      "metadata": {
        "colab": {
          "base_uri": "https://localhost:8080/"
        },
        "id": "61FNYVUgAFPX",
        "outputId": "3202fffd-ee71-4947-cb56-a19263bc20d0"
      },
      "execution_count": 4,
      "outputs": [
        {
          "output_type": "stream",
          "name": "stdout",
          "text": [
            "Index([], dtype='object')\n",
            "--------------------------------\n",
            "Index(['CRIM', 'ZN', 'INDUS', 'CHAS', 'NOX', 'RM', 'AGE', 'DIS', 'RAD', 'TAX',\n",
            "       'PTRATIO', 'B', 'LSTAT', 'MEDV'],\n",
            "      dtype='object')\n"
          ]
        }
      ]
    },
    {
      "cell_type": "code",
      "source": [
        "X = df.drop(columns=[\"MEDV\"])\n",
        "Y = df[\"MEDV\"]"
      ],
      "metadata": {
        "id": "xlkphznn-YTP"
      },
      "execution_count": 5,
      "outputs": []
    },
    {
      "cell_type": "code",
      "source": [
        "from sklearn.model_selection import train_test_split\n",
        "\n",
        "X_train, X_test, Y_train, Y_test = train_test_split(X, Y, test_size=0.2, random_state=42)"
      ],
      "metadata": {
        "id": "f55e28bL-pdg"
      },
      "execution_count": 6,
      "outputs": []
    },
    {
      "cell_type": "code",
      "source": [
        "print(X_train)"
      ],
      "metadata": {
        "id": "dRnPCR1qAuNg",
        "outputId": "fa765bf4-eb78-438d-9615-bee0f95b33e6",
        "colab": {
          "base_uri": "https://localhost:8080/"
        }
      },
      "execution_count": 7,
      "outputs": [
        {
          "output_type": "stream",
          "name": "stdout",
          "text": [
            "        CRIM   ZN  INDUS  CHAS    NOX     RM   AGE     DIS  RAD  TAX  PTRATIO  \\\n",
            "421  7.02259  0.0  18.10   0.0  0.718  6.006  95.3  1.8746   24  666     20.2   \n",
            "232  0.57529  0.0   6.20   0.0  0.507  8.337  73.3  3.8384    8  307     17.4   \n",
            "218  0.11069  0.0  13.89   1.0  0.550  5.951  93.8  2.8893    5  276     16.4   \n",
            "75   0.09512  0.0  12.83   0.0  0.437  6.286  45.0  4.5026    5  398     18.7   \n",
            "439  9.39063  0.0  18.10   0.0  0.740  5.627  93.9  1.8172   24  666     20.2   \n",
            "..       ...  ...    ...   ...    ...    ...   ...     ...  ...  ...      ...   \n",
            "84   0.05059  0.0   4.49   0.0  0.449  6.389  48.0  4.7794    3  247     18.5   \n",
            "128  0.32543  0.0  21.89   0.0  0.624  6.431  98.8  1.8125    4  437     21.2   \n",
            "345  0.03113  0.0   4.39   0.0  0.442  6.014  48.5  8.0136    3  352     18.8   \n",
            "448  9.32909  0.0  18.10   0.0  0.713  6.185  98.7  2.2616   24  666     20.2   \n",
            "122  0.09299  0.0  25.65   0.0  0.581  5.961  92.9  2.0869    2  188     19.1   \n",
            "\n",
            "          B  LSTAT  \n",
            "421  319.98  15.70  \n",
            "232  385.91   2.47  \n",
            "218  396.90  17.92  \n",
            "75   383.23   8.94  \n",
            "439  396.90  22.88  \n",
            "..      ...    ...  \n",
            "84   396.90   9.62  \n",
            "128  396.90  15.39  \n",
            "345  385.64  10.53  \n",
            "448  396.90  18.13  \n",
            "122  378.09  17.93  \n",
            "\n",
            "[315 rows x 13 columns]\n"
          ]
        }
      ]
    },
    {
      "cell_type": "code",
      "source": [
        "from sklearn.ensemble import GradientBoostingRegressor\n",
        "from sklearn.metrics import mean_squared_error\n",
        "\n",
        "gb_regressor = GradientBoostingRegressor(n_estimators=100, learning_rate=0.1, max_depth=3, random_state=42)\n",
        "gb_regressor.fit(X_train, Y_train)\n",
        "\n",
        "Y_pred_gb = gb_regressor.predict(X_test)\n",
        "\n",
        "mse_gb = mean_squared_error(Y_test, Y_pred_gb)\n",
        "print(\"Mean Squared Error (Gradient Boosting):\", mse_gb)"
      ],
      "metadata": {
        "colab": {
          "base_uri": "https://localhost:8080/"
        },
        "id": "B7Uj0wfp-0LI",
        "outputId": "67d26966-b0c0-4a57-d433-2a26f3441b52"
      },
      "execution_count": 8,
      "outputs": [
        {
          "output_type": "stream",
          "name": "stdout",
          "text": [
            "Mean Squared Error (Gradient Boosting): 25.830880719044327\n"
          ]
        }
      ]
    },
    {
      "cell_type": "code",
      "source": [
        "import xgboost as xgb\n",
        "\n",
        "dtrain = xgb.DMatrix(X_train, label=Y_train)\n",
        "dtest = xgb.DMatrix(X_test, label=Y_test)\n",
        "\n",
        "params = {\n",
        "    \"objective\": \"reg:squarederror\",\n",
        "    \"colsample_bytree\": 0.3,\n",
        "    \"learning_rate\": 0.1,\n",
        "    \"max_depth\": 5,\n",
        "    \"alpha\": 10\n",
        "}\n",
        "\n",
        "xgb_regressor = xgb.train(params=params, dtrain=dtrain, num_boost_round=10)\n",
        "\n",
        "Y_pred_xgb = xgb_regressor.predict(dtest)\n",
        "\n",
        "mse_xgb = mean_squared_error(Y_test, Y_pred_xgb)\n",
        "print(\"Mean Squared Error (XGBoost):\", mse_xgb)\n"
      ],
      "metadata": {
        "colab": {
          "base_uri": "https://localhost:8080/"
        },
        "id": "7WDLgbHNOJyB",
        "outputId": "7237feb1-cf2c-4fea-f0f8-2870c25f8bd0"
      },
      "execution_count": 9,
      "outputs": [
        {
          "output_type": "stream",
          "name": "stdout",
          "text": [
            "Mean Squared Error (XGBoost): 56.831077872397074\n"
          ]
        }
      ]
    },
    {
      "cell_type": "code",
      "source": [
        "from sklearn.ensemble import AdaBoostRegressor\n",
        "\n",
        "adaboost_regressor = AdaBoostRegressor(n_estimators=100, learning_rate=0.1, random_state=42)\n",
        "adaboost_regressor.fit(X_train, Y_train)\n",
        "\n",
        "Y_pred_adaboost = adaboost_regressor.predict(X_test)\n",
        "\n",
        "mse_adaboost = mean_squared_error(Y_test, Y_pred_adaboost)\n",
        "print(\"Mean Squared Error (Adaboost):\", mse_adaboost)\n"
      ],
      "metadata": {
        "id": "LJk3IrdLQ-I8",
        "outputId": "aa0cb3e5-690a-4835-a897-9c10347bd0e7",
        "colab": {
          "base_uri": "https://localhost:8080/"
        }
      },
      "execution_count": 10,
      "outputs": [
        {
          "output_type": "stream",
          "name": "stdout",
          "text": [
            "Mean Squared Error (Adaboost): 31.068122288488645\n"
          ]
        }
      ]
    },
    {
      "cell_type": "code",
      "source": [
        "!pip install catboost"
      ],
      "metadata": {
        "colab": {
          "base_uri": "https://localhost:8080/"
        },
        "id": "L4Mcs4USCOHY",
        "outputId": "afd8b38c-9f92-4344-cd7b-a77f2132a04e"
      },
      "execution_count": 12,
      "outputs": [
        {
          "output_type": "stream",
          "name": "stdout",
          "text": [
            "Collecting catboost\n",
            "  Downloading catboost-1.2.3-cp310-cp310-manylinux2014_x86_64.whl (98.5 MB)\n",
            "\u001b[2K     \u001b[90m━━━━━━━━━━━━━━━━━━━━━━━━━━━━━━━━━━━━━━━━\u001b[0m \u001b[32m98.5/98.5 MB\u001b[0m \u001b[31m9.0 MB/s\u001b[0m eta \u001b[36m0:00:00\u001b[0m\n",
            "\u001b[?25hRequirement already satisfied: graphviz in /usr/local/lib/python3.10/dist-packages (from catboost) (0.20.1)\n",
            "Requirement already satisfied: matplotlib in /usr/local/lib/python3.10/dist-packages (from catboost) (3.7.1)\n",
            "Requirement already satisfied: numpy>=1.16.0 in /usr/local/lib/python3.10/dist-packages (from catboost) (1.25.2)\n",
            "Requirement already satisfied: pandas>=0.24 in /usr/local/lib/python3.10/dist-packages (from catboost) (1.5.3)\n",
            "Requirement already satisfied: scipy in /usr/local/lib/python3.10/dist-packages (from catboost) (1.11.4)\n",
            "Requirement already satisfied: plotly in /usr/local/lib/python3.10/dist-packages (from catboost) (5.15.0)\n",
            "Requirement already satisfied: six in /usr/local/lib/python3.10/dist-packages (from catboost) (1.16.0)\n",
            "Requirement already satisfied: python-dateutil>=2.8.1 in /usr/local/lib/python3.10/dist-packages (from pandas>=0.24->catboost) (2.8.2)\n",
            "Requirement already satisfied: pytz>=2020.1 in /usr/local/lib/python3.10/dist-packages (from pandas>=0.24->catboost) (2023.4)\n",
            "Requirement already satisfied: contourpy>=1.0.1 in /usr/local/lib/python3.10/dist-packages (from matplotlib->catboost) (1.2.0)\n",
            "Requirement already satisfied: cycler>=0.10 in /usr/local/lib/python3.10/dist-packages (from matplotlib->catboost) (0.12.1)\n",
            "Requirement already satisfied: fonttools>=4.22.0 in /usr/local/lib/python3.10/dist-packages (from matplotlib->catboost) (4.49.0)\n",
            "Requirement already satisfied: kiwisolver>=1.0.1 in /usr/local/lib/python3.10/dist-packages (from matplotlib->catboost) (1.4.5)\n",
            "Requirement already satisfied: packaging>=20.0 in /usr/local/lib/python3.10/dist-packages (from matplotlib->catboost) (24.0)\n",
            "Requirement already satisfied: pillow>=6.2.0 in /usr/local/lib/python3.10/dist-packages (from matplotlib->catboost) (9.4.0)\n",
            "Requirement already satisfied: pyparsing>=2.3.1 in /usr/local/lib/python3.10/dist-packages (from matplotlib->catboost) (3.1.2)\n",
            "Requirement already satisfied: tenacity>=6.2.0 in /usr/local/lib/python3.10/dist-packages (from plotly->catboost) (8.2.3)\n",
            "Installing collected packages: catboost\n",
            "Successfully installed catboost-1.2.3\n"
          ]
        }
      ]
    },
    {
      "cell_type": "code",
      "source": [
        "from catboost import CatBoostRegressor\n",
        "\n",
        "catboost_regressor = CatBoostRegressor(iterations=100, learning_rate=0.1, depth=6, random_state=42)\n",
        "catboost_regressor.fit(X_train, Y_train, verbose=0)\n",
        "\n",
        "Y_pred_catboost = catboost_regressor.predict(X_test)\n",
        "\n",
        "\n",
        "mse_catboost = mean_squared_error(Y_test, Y_pred_catboost)\n",
        "print(\"Mean Squared Error (CatBoost):\", mse_catboost)\n"
      ],
      "metadata": {
        "colab": {
          "base_uri": "https://localhost:8080/"
        },
        "id": "9rjVHHhIB5eU",
        "outputId": "08fa4372-8fb9-4e4b-bf49-8bfd6ec5ef23"
      },
      "execution_count": 13,
      "outputs": [
        {
          "output_type": "stream",
          "name": "stdout",
          "text": [
            "Mean Squared Error (CatBoost): 25.152712204775632\n"
          ]
        }
      ]
    }
  ]
}