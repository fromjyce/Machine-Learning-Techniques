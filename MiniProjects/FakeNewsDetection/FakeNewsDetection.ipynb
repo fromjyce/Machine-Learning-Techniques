{
  "nbformat": 4,
  "nbformat_minor": 0,
  "metadata": {
    "colab": {
      "provenance": []
    },
    "kernelspec": {
      "name": "python3",
      "display_name": "Python 3"
    },
    "language_info": {
      "name": "python"
    }
  },
  "cells": [
    {
      "cell_type": "code",
      "execution_count": 1,
      "metadata": {
        "colab": {
          "base_uri": "https://localhost:8080/"
        },
        "id": "__bavWFcHZRD",
        "outputId": "8ea17fa6-20aa-40b2-cf7a-26b34e6545d9"
      },
      "outputs": [
        {
          "output_type": "stream",
          "name": "stdout",
          "text": [
            "Requirement already satisfied: tensorflow in /usr/local/lib/python3.10/dist-packages (2.15.0)\n",
            "Requirement already satisfied: numpy in /usr/local/lib/python3.10/dist-packages (1.25.2)\n",
            "Requirement already satisfied: matplotlib in /usr/local/lib/python3.10/dist-packages (3.7.1)\n",
            "Requirement already satisfied: absl-py>=1.0.0 in /usr/local/lib/python3.10/dist-packages (from tensorflow) (1.4.0)\n",
            "Requirement already satisfied: astunparse>=1.6.0 in /usr/local/lib/python3.10/dist-packages (from tensorflow) (1.6.3)\n",
            "Requirement already satisfied: flatbuffers>=23.5.26 in /usr/local/lib/python3.10/dist-packages (from tensorflow) (24.3.25)\n",
            "Requirement already satisfied: gast!=0.5.0,!=0.5.1,!=0.5.2,>=0.2.1 in /usr/local/lib/python3.10/dist-packages (from tensorflow) (0.5.4)\n",
            "Requirement already satisfied: google-pasta>=0.1.1 in /usr/local/lib/python3.10/dist-packages (from tensorflow) (0.2.0)\n",
            "Requirement already satisfied: h5py>=2.9.0 in /usr/local/lib/python3.10/dist-packages (from tensorflow) (3.9.0)\n",
            "Requirement already satisfied: libclang>=13.0.0 in /usr/local/lib/python3.10/dist-packages (from tensorflow) (18.1.1)\n",
            "Requirement already satisfied: ml-dtypes~=0.2.0 in /usr/local/lib/python3.10/dist-packages (from tensorflow) (0.2.0)\n",
            "Requirement already satisfied: opt-einsum>=2.3.2 in /usr/local/lib/python3.10/dist-packages (from tensorflow) (3.3.0)\n",
            "Requirement already satisfied: packaging in /usr/local/lib/python3.10/dist-packages (from tensorflow) (24.0)\n",
            "Requirement already satisfied: protobuf!=4.21.0,!=4.21.1,!=4.21.2,!=4.21.3,!=4.21.4,!=4.21.5,<5.0.0dev,>=3.20.3 in /usr/local/lib/python3.10/dist-packages (from tensorflow) (3.20.3)\n",
            "Requirement already satisfied: setuptools in /usr/local/lib/python3.10/dist-packages (from tensorflow) (67.7.2)\n",
            "Requirement already satisfied: six>=1.12.0 in /usr/local/lib/python3.10/dist-packages (from tensorflow) (1.16.0)\n",
            "Requirement already satisfied: termcolor>=1.1.0 in /usr/local/lib/python3.10/dist-packages (from tensorflow) (2.4.0)\n",
            "Requirement already satisfied: typing-extensions>=3.6.6 in /usr/local/lib/python3.10/dist-packages (from tensorflow) (4.11.0)\n",
            "Requirement already satisfied: wrapt<1.15,>=1.11.0 in /usr/local/lib/python3.10/dist-packages (from tensorflow) (1.14.1)\n",
            "Requirement already satisfied: tensorflow-io-gcs-filesystem>=0.23.1 in /usr/local/lib/python3.10/dist-packages (from tensorflow) (0.36.0)\n",
            "Requirement already satisfied: grpcio<2.0,>=1.24.3 in /usr/local/lib/python3.10/dist-packages (from tensorflow) (1.62.1)\n",
            "Requirement already satisfied: tensorboard<2.16,>=2.15 in /usr/local/lib/python3.10/dist-packages (from tensorflow) (2.15.2)\n",
            "Requirement already satisfied: tensorflow-estimator<2.16,>=2.15.0 in /usr/local/lib/python3.10/dist-packages (from tensorflow) (2.15.0)\n",
            "Requirement already satisfied: keras<2.16,>=2.15.0 in /usr/local/lib/python3.10/dist-packages (from tensorflow) (2.15.0)\n",
            "Requirement already satisfied: contourpy>=1.0.1 in /usr/local/lib/python3.10/dist-packages (from matplotlib) (1.2.1)\n",
            "Requirement already satisfied: cycler>=0.10 in /usr/local/lib/python3.10/dist-packages (from matplotlib) (0.12.1)\n",
            "Requirement already satisfied: fonttools>=4.22.0 in /usr/local/lib/python3.10/dist-packages (from matplotlib) (4.51.0)\n",
            "Requirement already satisfied: kiwisolver>=1.0.1 in /usr/local/lib/python3.10/dist-packages (from matplotlib) (1.4.5)\n",
            "Requirement already satisfied: pillow>=6.2.0 in /usr/local/lib/python3.10/dist-packages (from matplotlib) (9.4.0)\n",
            "Requirement already satisfied: pyparsing>=2.3.1 in /usr/local/lib/python3.10/dist-packages (from matplotlib) (3.1.2)\n",
            "Requirement already satisfied: python-dateutil>=2.7 in /usr/local/lib/python3.10/dist-packages (from matplotlib) (2.8.2)\n",
            "Requirement already satisfied: wheel<1.0,>=0.23.0 in /usr/local/lib/python3.10/dist-packages (from astunparse>=1.6.0->tensorflow) (0.43.0)\n",
            "Requirement already satisfied: google-auth<3,>=1.6.3 in /usr/local/lib/python3.10/dist-packages (from tensorboard<2.16,>=2.15->tensorflow) (2.27.0)\n",
            "Requirement already satisfied: google-auth-oauthlib<2,>=0.5 in /usr/local/lib/python3.10/dist-packages (from tensorboard<2.16,>=2.15->tensorflow) (1.2.0)\n",
            "Requirement already satisfied: markdown>=2.6.8 in /usr/local/lib/python3.10/dist-packages (from tensorboard<2.16,>=2.15->tensorflow) (3.6)\n",
            "Requirement already satisfied: requests<3,>=2.21.0 in /usr/local/lib/python3.10/dist-packages (from tensorboard<2.16,>=2.15->tensorflow) (2.31.0)\n",
            "Requirement already satisfied: tensorboard-data-server<0.8.0,>=0.7.0 in /usr/local/lib/python3.10/dist-packages (from tensorboard<2.16,>=2.15->tensorflow) (0.7.2)\n",
            "Requirement already satisfied: werkzeug>=1.0.1 in /usr/local/lib/python3.10/dist-packages (from tensorboard<2.16,>=2.15->tensorflow) (3.0.2)\n",
            "Requirement already satisfied: cachetools<6.0,>=2.0.0 in /usr/local/lib/python3.10/dist-packages (from google-auth<3,>=1.6.3->tensorboard<2.16,>=2.15->tensorflow) (5.3.3)\n",
            "Requirement already satisfied: pyasn1-modules>=0.2.1 in /usr/local/lib/python3.10/dist-packages (from google-auth<3,>=1.6.3->tensorboard<2.16,>=2.15->tensorflow) (0.4.0)\n",
            "Requirement already satisfied: rsa<5,>=3.1.4 in /usr/local/lib/python3.10/dist-packages (from google-auth<3,>=1.6.3->tensorboard<2.16,>=2.15->tensorflow) (4.9)\n",
            "Requirement already satisfied: requests-oauthlib>=0.7.0 in /usr/local/lib/python3.10/dist-packages (from google-auth-oauthlib<2,>=0.5->tensorboard<2.16,>=2.15->tensorflow) (1.3.1)\n",
            "Requirement already satisfied: charset-normalizer<4,>=2 in /usr/local/lib/python3.10/dist-packages (from requests<3,>=2.21.0->tensorboard<2.16,>=2.15->tensorflow) (3.3.2)\n",
            "Requirement already satisfied: idna<4,>=2.5 in /usr/local/lib/python3.10/dist-packages (from requests<3,>=2.21.0->tensorboard<2.16,>=2.15->tensorflow) (3.6)\n",
            "Requirement already satisfied: urllib3<3,>=1.21.1 in /usr/local/lib/python3.10/dist-packages (from requests<3,>=2.21.0->tensorboard<2.16,>=2.15->tensorflow) (2.0.7)\n",
            "Requirement already satisfied: certifi>=2017.4.17 in /usr/local/lib/python3.10/dist-packages (from requests<3,>=2.21.0->tensorboard<2.16,>=2.15->tensorflow) (2024.2.2)\n",
            "Requirement already satisfied: MarkupSafe>=2.1.1 in /usr/local/lib/python3.10/dist-packages (from werkzeug>=1.0.1->tensorboard<2.16,>=2.15->tensorflow) (2.1.5)\n",
            "Requirement already satisfied: pyasn1<0.7.0,>=0.4.6 in /usr/local/lib/python3.10/dist-packages (from pyasn1-modules>=0.2.1->google-auth<3,>=1.6.3->tensorboard<2.16,>=2.15->tensorflow) (0.6.0)\n",
            "Requirement already satisfied: oauthlib>=3.0.0 in /usr/local/lib/python3.10/dist-packages (from requests-oauthlib>=0.7.0->google-auth-oauthlib<2,>=0.5->tensorboard<2.16,>=2.15->tensorflow) (3.2.2)\n"
          ]
        }
      ],
      "source": [
        "!pip install tensorflow numpy matplotlib"
      ]
    },
    {
      "cell_type": "code",
      "source": [
        "import numpy as np\n",
        "import pandas as pd\n",
        "import itertools\n",
        "from sklearn.model_selection import train_test_split\n",
        "from sklearn.feature_extraction.text import TfidfVectorizer\n",
        "from sklearn.linear_model import PassiveAggressiveClassifier\n",
        "from sklearn.metrics import accuracy_score, confusion_matrix"
      ],
      "metadata": {
        "id": "MDU1iNkTH2L7"
      },
      "execution_count": 18,
      "outputs": []
    },
    {
      "cell_type": "code",
      "source": [
        "#Read the data\n",
        "df = pd.read_csv('/content/news.csv', quotechar='\"', skiprows=[4300, 1292, 5135])\n",
        "\n",
        "\n",
        "#Get shape and head\n",
        "df.shape\n",
        "df.head()"
      ],
      "metadata": {
        "colab": {
          "base_uri": "https://localhost:8080/",
          "height": 206
        },
        "id": "dDx8Jl1yH58U",
        "outputId": "35293822-5620-4685-cdc3-cb0220047d00"
      },
      "execution_count": 23,
      "outputs": [
        {
          "output_type": "execute_result",
          "data": {
            "text/plain": [
              "   Unnamed: 0                                              title  \\\n",
              "0        8476                       You Can Smell Hillary’s Fear   \n",
              "1       10294  Watch The Exact Moment Paul Ryan Committed Pol...   \n",
              "2        3608        Kerry to go to Paris in gesture of sympathy   \n",
              "3       10142  Bernie supporters on Twitter erupt in anger ag...   \n",
              "4         875   The Battle of New York: Why This Primary Matters   \n",
              "\n",
              "                                                text label  \n",
              "0  Daniel Greenfield, a Shillman Journalism Fello...  FAKE  \n",
              "1  Google Pinterest Digg Linkedin Reddit Stumbleu...  FAKE  \n",
              "2  U.S. Secretary of State John F. Kerry said Mon...  REAL  \n",
              "3  — Kaydee King (@KaydeeKing) November 9, 2016 T...  FAKE  \n",
              "4  It's primary day in New York and front-runners...  REAL  "
            ],
            "text/html": [
              "\n",
              "  <div id=\"df-2692ee9f-8870-4949-94c1-bcf0dfaa681d\" class=\"colab-df-container\">\n",
              "    <div>\n",
              "<style scoped>\n",
              "    .dataframe tbody tr th:only-of-type {\n",
              "        vertical-align: middle;\n",
              "    }\n",
              "\n",
              "    .dataframe tbody tr th {\n",
              "        vertical-align: top;\n",
              "    }\n",
              "\n",
              "    .dataframe thead th {\n",
              "        text-align: right;\n",
              "    }\n",
              "</style>\n",
              "<table border=\"1\" class=\"dataframe\">\n",
              "  <thead>\n",
              "    <tr style=\"text-align: right;\">\n",
              "      <th></th>\n",
              "      <th>Unnamed: 0</th>\n",
              "      <th>title</th>\n",
              "      <th>text</th>\n",
              "      <th>label</th>\n",
              "    </tr>\n",
              "  </thead>\n",
              "  <tbody>\n",
              "    <tr>\n",
              "      <th>0</th>\n",
              "      <td>8476</td>\n",
              "      <td>You Can Smell Hillary’s Fear</td>\n",
              "      <td>Daniel Greenfield, a Shillman Journalism Fello...</td>\n",
              "      <td>FAKE</td>\n",
              "    </tr>\n",
              "    <tr>\n",
              "      <th>1</th>\n",
              "      <td>10294</td>\n",
              "      <td>Watch The Exact Moment Paul Ryan Committed Pol...</td>\n",
              "      <td>Google Pinterest Digg Linkedin Reddit Stumbleu...</td>\n",
              "      <td>FAKE</td>\n",
              "    </tr>\n",
              "    <tr>\n",
              "      <th>2</th>\n",
              "      <td>3608</td>\n",
              "      <td>Kerry to go to Paris in gesture of sympathy</td>\n",
              "      <td>U.S. Secretary of State John F. Kerry said Mon...</td>\n",
              "      <td>REAL</td>\n",
              "    </tr>\n",
              "    <tr>\n",
              "      <th>3</th>\n",
              "      <td>10142</td>\n",
              "      <td>Bernie supporters on Twitter erupt in anger ag...</td>\n",
              "      <td>— Kaydee King (@KaydeeKing) November 9, 2016 T...</td>\n",
              "      <td>FAKE</td>\n",
              "    </tr>\n",
              "    <tr>\n",
              "      <th>4</th>\n",
              "      <td>875</td>\n",
              "      <td>The Battle of New York: Why This Primary Matters</td>\n",
              "      <td>It's primary day in New York and front-runners...</td>\n",
              "      <td>REAL</td>\n",
              "    </tr>\n",
              "  </tbody>\n",
              "</table>\n",
              "</div>\n",
              "    <div class=\"colab-df-buttons\">\n",
              "\n",
              "  <div class=\"colab-df-container\">\n",
              "    <button class=\"colab-df-convert\" onclick=\"convertToInteractive('df-2692ee9f-8870-4949-94c1-bcf0dfaa681d')\"\n",
              "            title=\"Convert this dataframe to an interactive table.\"\n",
              "            style=\"display:none;\">\n",
              "\n",
              "  <svg xmlns=\"http://www.w3.org/2000/svg\" height=\"24px\" viewBox=\"0 -960 960 960\">\n",
              "    <path d=\"M120-120v-720h720v720H120Zm60-500h600v-160H180v160Zm220 220h160v-160H400v160Zm0 220h160v-160H400v160ZM180-400h160v-160H180v160Zm440 0h160v-160H620v160ZM180-180h160v-160H180v160Zm440 0h160v-160H620v160Z\"/>\n",
              "  </svg>\n",
              "    </button>\n",
              "\n",
              "  <style>\n",
              "    .colab-df-container {\n",
              "      display:flex;\n",
              "      gap: 12px;\n",
              "    }\n",
              "\n",
              "    .colab-df-convert {\n",
              "      background-color: #E8F0FE;\n",
              "      border: none;\n",
              "      border-radius: 50%;\n",
              "      cursor: pointer;\n",
              "      display: none;\n",
              "      fill: #1967D2;\n",
              "      height: 32px;\n",
              "      padding: 0 0 0 0;\n",
              "      width: 32px;\n",
              "    }\n",
              "\n",
              "    .colab-df-convert:hover {\n",
              "      background-color: #E2EBFA;\n",
              "      box-shadow: 0px 1px 2px rgba(60, 64, 67, 0.3), 0px 1px 3px 1px rgba(60, 64, 67, 0.15);\n",
              "      fill: #174EA6;\n",
              "    }\n",
              "\n",
              "    .colab-df-buttons div {\n",
              "      margin-bottom: 4px;\n",
              "    }\n",
              "\n",
              "    [theme=dark] .colab-df-convert {\n",
              "      background-color: #3B4455;\n",
              "      fill: #D2E3FC;\n",
              "    }\n",
              "\n",
              "    [theme=dark] .colab-df-convert:hover {\n",
              "      background-color: #434B5C;\n",
              "      box-shadow: 0px 1px 3px 1px rgba(0, 0, 0, 0.15);\n",
              "      filter: drop-shadow(0px 1px 2px rgba(0, 0, 0, 0.3));\n",
              "      fill: #FFFFFF;\n",
              "    }\n",
              "  </style>\n",
              "\n",
              "    <script>\n",
              "      const buttonEl =\n",
              "        document.querySelector('#df-2692ee9f-8870-4949-94c1-bcf0dfaa681d button.colab-df-convert');\n",
              "      buttonEl.style.display =\n",
              "        google.colab.kernel.accessAllowed ? 'block' : 'none';\n",
              "\n",
              "      async function convertToInteractive(key) {\n",
              "        const element = document.querySelector('#df-2692ee9f-8870-4949-94c1-bcf0dfaa681d');\n",
              "        const dataTable =\n",
              "          await google.colab.kernel.invokeFunction('convertToInteractive',\n",
              "                                                    [key], {});\n",
              "        if (!dataTable) return;\n",
              "\n",
              "        const docLinkHtml = 'Like what you see? Visit the ' +\n",
              "          '<a target=\"_blank\" href=https://colab.research.google.com/notebooks/data_table.ipynb>data table notebook</a>'\n",
              "          + ' to learn more about interactive tables.';\n",
              "        element.innerHTML = '';\n",
              "        dataTable['output_type'] = 'display_data';\n",
              "        await google.colab.output.renderOutput(dataTable, element);\n",
              "        const docLink = document.createElement('div');\n",
              "        docLink.innerHTML = docLinkHtml;\n",
              "        element.appendChild(docLink);\n",
              "      }\n",
              "    </script>\n",
              "  </div>\n",
              "\n",
              "\n",
              "<div id=\"df-f52730a0-c0a8-4bb7-a7af-26dca5a9a810\">\n",
              "  <button class=\"colab-df-quickchart\" onclick=\"quickchart('df-f52730a0-c0a8-4bb7-a7af-26dca5a9a810')\"\n",
              "            title=\"Suggest charts\"\n",
              "            style=\"display:none;\">\n",
              "\n",
              "<svg xmlns=\"http://www.w3.org/2000/svg\" height=\"24px\"viewBox=\"0 0 24 24\"\n",
              "     width=\"24px\">\n",
              "    <g>\n",
              "        <path d=\"M19 3H5c-1.1 0-2 .9-2 2v14c0 1.1.9 2 2 2h14c1.1 0 2-.9 2-2V5c0-1.1-.9-2-2-2zM9 17H7v-7h2v7zm4 0h-2V7h2v10zm4 0h-2v-4h2v4z\"/>\n",
              "    </g>\n",
              "</svg>\n",
              "  </button>\n",
              "\n",
              "<style>\n",
              "  .colab-df-quickchart {\n",
              "      --bg-color: #E8F0FE;\n",
              "      --fill-color: #1967D2;\n",
              "      --hover-bg-color: #E2EBFA;\n",
              "      --hover-fill-color: #174EA6;\n",
              "      --disabled-fill-color: #AAA;\n",
              "      --disabled-bg-color: #DDD;\n",
              "  }\n",
              "\n",
              "  [theme=dark] .colab-df-quickchart {\n",
              "      --bg-color: #3B4455;\n",
              "      --fill-color: #D2E3FC;\n",
              "      --hover-bg-color: #434B5C;\n",
              "      --hover-fill-color: #FFFFFF;\n",
              "      --disabled-bg-color: #3B4455;\n",
              "      --disabled-fill-color: #666;\n",
              "  }\n",
              "\n",
              "  .colab-df-quickchart {\n",
              "    background-color: var(--bg-color);\n",
              "    border: none;\n",
              "    border-radius: 50%;\n",
              "    cursor: pointer;\n",
              "    display: none;\n",
              "    fill: var(--fill-color);\n",
              "    height: 32px;\n",
              "    padding: 0;\n",
              "    width: 32px;\n",
              "  }\n",
              "\n",
              "  .colab-df-quickchart:hover {\n",
              "    background-color: var(--hover-bg-color);\n",
              "    box-shadow: 0 1px 2px rgba(60, 64, 67, 0.3), 0 1px 3px 1px rgba(60, 64, 67, 0.15);\n",
              "    fill: var(--button-hover-fill-color);\n",
              "  }\n",
              "\n",
              "  .colab-df-quickchart-complete:disabled,\n",
              "  .colab-df-quickchart-complete:disabled:hover {\n",
              "    background-color: var(--disabled-bg-color);\n",
              "    fill: var(--disabled-fill-color);\n",
              "    box-shadow: none;\n",
              "  }\n",
              "\n",
              "  .colab-df-spinner {\n",
              "    border: 2px solid var(--fill-color);\n",
              "    border-color: transparent;\n",
              "    border-bottom-color: var(--fill-color);\n",
              "    animation:\n",
              "      spin 1s steps(1) infinite;\n",
              "  }\n",
              "\n",
              "  @keyframes spin {\n",
              "    0% {\n",
              "      border-color: transparent;\n",
              "      border-bottom-color: var(--fill-color);\n",
              "      border-left-color: var(--fill-color);\n",
              "    }\n",
              "    20% {\n",
              "      border-color: transparent;\n",
              "      border-left-color: var(--fill-color);\n",
              "      border-top-color: var(--fill-color);\n",
              "    }\n",
              "    30% {\n",
              "      border-color: transparent;\n",
              "      border-left-color: var(--fill-color);\n",
              "      border-top-color: var(--fill-color);\n",
              "      border-right-color: var(--fill-color);\n",
              "    }\n",
              "    40% {\n",
              "      border-color: transparent;\n",
              "      border-right-color: var(--fill-color);\n",
              "      border-top-color: var(--fill-color);\n",
              "    }\n",
              "    60% {\n",
              "      border-color: transparent;\n",
              "      border-right-color: var(--fill-color);\n",
              "    }\n",
              "    80% {\n",
              "      border-color: transparent;\n",
              "      border-right-color: var(--fill-color);\n",
              "      border-bottom-color: var(--fill-color);\n",
              "    }\n",
              "    90% {\n",
              "      border-color: transparent;\n",
              "      border-bottom-color: var(--fill-color);\n",
              "    }\n",
              "  }\n",
              "</style>\n",
              "\n",
              "  <script>\n",
              "    async function quickchart(key) {\n",
              "      const quickchartButtonEl =\n",
              "        document.querySelector('#' + key + ' button');\n",
              "      quickchartButtonEl.disabled = true;  // To prevent multiple clicks.\n",
              "      quickchartButtonEl.classList.add('colab-df-spinner');\n",
              "      try {\n",
              "        const charts = await google.colab.kernel.invokeFunction(\n",
              "            'suggestCharts', [key], {});\n",
              "      } catch (error) {\n",
              "        console.error('Error during call to suggestCharts:', error);\n",
              "      }\n",
              "      quickchartButtonEl.classList.remove('colab-df-spinner');\n",
              "      quickchartButtonEl.classList.add('colab-df-quickchart-complete');\n",
              "    }\n",
              "    (() => {\n",
              "      let quickchartButtonEl =\n",
              "        document.querySelector('#df-f52730a0-c0a8-4bb7-a7af-26dca5a9a810 button');\n",
              "      quickchartButtonEl.style.display =\n",
              "        google.colab.kernel.accessAllowed ? 'block' : 'none';\n",
              "    })();\n",
              "  </script>\n",
              "</div>\n",
              "\n",
              "    </div>\n",
              "  </div>\n"
            ],
            "application/vnd.google.colaboratory.intrinsic+json": {
              "type": "dataframe",
              "variable_name": "df",
              "summary": "{\n  \"name\": \"df\",\n  \"rows\": 5132,\n  \"fields\": [\n    {\n      \"column\": \"Unnamed: 0\",\n      \"properties\": {\n        \"dtype\": \"number\",\n        \"std\": 3041,\n        \"min\": 3,\n        \"max\": 10557,\n        \"num_unique_values\": 5132,\n        \"samples\": [\n          3734,\n          1075,\n          5358\n        ],\n        \"semantic_type\": \"\",\n        \"description\": \"\"\n      }\n    },\n    {\n      \"column\": \"title\",\n      \"properties\": {\n        \"dtype\": \"string\",\n        \"num_unique_values\": 5081,\n        \"samples\": [\n          \"Boulder bash: Trump may rip Carson, but the pressure is on Jeb\",\n          \"Libertarians hope rallies and ads can nudge them into the presidential debates\",\n          \"Obama oval office speech aims to reassure nation over terror threats\"\n        ],\n        \"semantic_type\": \"\",\n        \"description\": \"\"\n      }\n    },\n    {\n      \"column\": \"text\",\n      \"properties\": {\n        \"dtype\": \"string\",\n        \"num_unique_values\": 4919,\n        \"samples\": [\n          \"The terrorist attacks in Paris could shake up the 2016 presidential race, reminding voters of the high stakes and potentially boosting candidates who put their governing experience front and center.\\n\\nDuring much of the campaign, voters have swooned over candidates who trumpet their nonpolitical r\\u00e9sum\\u00e9s. Celebrity businessman Donald Trump and retired neurosurgeon Ben Carson have led the Republican field, running far ahead of...\",\n          \"Lara Trump Implies FBI Letter Politically Motivated \\u2013\\u2018My Father-In-Law Forced Their Hand\\u2019 (AUDIO) By Carrie MacDonald on October 29, 2016 Subscribe \\nThe latest \\u201crevelation\\u201d from the FBI just gets more and more curious by the hour. Now we have audio of Lara Trump, wife of Eric Trump and daughter-in-law of Republican presidential nominee Donald Trump, saying she believes her father-in-law was behind the latest letter from FBI Director James Comey. Lara Trump: \\u2018My Father-In-Law Forced Their Hand\\u2019 \\nIn an interview on WABC Radio with Rita Cosby, Lara Trump came right out and said, proudly, that she believes Donald Trump was one of the people behind this whole thing: \\u201cI think my father-in-law forced their hand in this. You know, he has been the one since the beginning saying that she shouldn\\u2019t be able to run for president, and I commend him on that.\\u201d \\nAnyone who has been paying attention over the past 12 hours or so knows that this \\u201cscandal\\u201d died before it even had a chance to really breathe. The conservative media has, of course, attempted to spin this into something real, given the fact that their candidate\\u2019s chances of winning are less than 10 percent. But the emails are not from Clinton nor are they from Clinton\\u2019s server. Not only that, but Comey\\u2019s motivations behind sending the letter seem more and more likely to be politically motivated. Former DOJ Official: \\u2018You Don\\u2019t Do This\\u2019 \\nComey\\u2019s actions are unprecedented for an FBI Director. In a piece discussing that very fact, Jane Mayer wrote for The New Yorker : \\u201c\\u2026 His latest action is stirring an extraordinary level of concern among legal authorities, who see it as potentially affecting the outcome of the Presidential and congressional elections. \\u2018You don\\u2019t do this,\\u2019 one former senior Justice Department official exclaimed. \\u2018It\\u2019s aberrational. It violates decades of practice.\\u2019 The reason, according to the former official, who asked not to be identified because of ongoing cases involving the department, \\u2018is because it impugns the integrity and reputation of the candidate, even though there\\u2019s no finding by a court, or in this instance even an indictment.'\\u201d There was also the tweetstorm from former DOJ spokesperson Matthew Miller, in which he eviscerated Comey\\u2019s actions. He also wrote a more cohesive piece for the Washington Post , in which he said : \\u201cWith each step, Comey moved further away from department guidelines and precedents, culminating in Friday\\u2019s letter to Congress. This letter not only violated Justice rules on commenting on ongoing investigations but also flew in the face of years of precedent about how to handle sensitive cases as Election Day nears.\\u201d All of this makes one wonder \\u2013 what is Comey\\u2019s motivation here? Comey, a Republican appointed by President Obama, is breaking rules of tradition left and right. And Trump\\u2019s own daughter-in-law is on record saying that she believes the Republican nominee \\u201cforced their hand.\\u201d No matter the motivation, the \\u201cscandal\\u201d is dead in the water, no matter how much the Republicans and the Trump campaign wish it were truly the \\u201cOctober surprise\\u201d they\\u2019ve been waiting for \\u2026 rather than another woman coming forward and accusing their nominee of sexual assault. That number stands at 12 and counting. The Clinton campaign, to their credit, is calling for complete transparency from the FBI in the matter. Listen to Lara Trump gleefully say she believes The Donald is behind this: \\nFeatured Image via screenshot from YouTube video About Carrie MacDonald \\nCarrie is a progressive mom and wife living in the upper Midwest. Connect\",\n          \"Home / Badge Abuse / Shots Fired, 117 Arrests Made as Militarized Police Remove Pipeline Protesters Shots Fired, 117 Arrests Made as Militarized Police Remove Pipeline Protesters The Free Thought Project October 28, 2016 1 Comment \\nStanding Rock, ND \\u2014 (RT) Hundreds of police in riot gear and with heavy military equipment have moved Dakota Access Pipeline protesters from their encampment on private land in North Dakota. Police have reportedly arrested at least 117 demonstrators so far. \\n\\u201c117 protesters have been arrested [as of 8:15 pm Thursday]. Morton County will be utilizing other jails in this mass arrest operation,\\u201d said Donnell Hushka, a spokeswoman for the Morton County, North Dakota, Sheriff\\u2019s Department. \\nPolice have entered the sacred ground camp and surrounded protesters there. Livestream videos showed more than one hundred protesters on the front line. Police have protesters more or less surrounded. #noDAPL pic.twitter.com/G4xGQuXpZM \\n\\u2014 Jason Patinkin (@JasonPatinkin) October 27, 2016 \\nThe Morton County Sheriff\\u2019s Office confirmed to the Associated Press that it had cleared the private land of protesters around 6:30pm EST Thursday. \\nShortly after 7:00pm EST Thursday, the sheriff\\u2019s office posted on its Facebook page that \\u201cone woman has been arrested for firing a weapon at the police line near Highway 1806.\\u201d \\nThe sheriff\\u2019s office just after 8:00pm EST stated in a Facebook post that it received reports of \\u201cseveral incidents involving firearms.\\u201d One \\u201cinvolved a private individual who was run off the road by protestors. The victim was shot in the hand and is being treated. An investigation in underway. No law enforcement was involved with this shooting.\\u201d \\nWith regard to the woman arrested, the sheriff\\u2019s office said she \\u201cpulled a .38 caliber revolver and fired three shots at law enforcement, narrowly missing a sheriff\\u2019s deputy.\\u201d The sheriff\\u2019s office claims it did not fire any shots when taking her into custody. \\n\\u201cTen shots were reported in the area. It\\u2019s possible it is local hunters. This incident is under investigation,\\u201d the Facebook post concluded. BREAKING: Sheriff: Dakota Access pipeline protesters cleared from private property. \\n\\u2014 The Associated Press (@AP) October 27, 2016 \\nAccording to KFYR, police made 16 arrests by evening time Thursday. \\n\\u201cThe protesters are not being peaceful or prayerful. Law enforcement has been very methodical in moving ahead slowly as to not escalate the situation. However, the protesters are using very dangerous means to slow us down. Their aggressive tactics include using horses, fire and trying to flank us with horses and people,\\u201d said Cass County Sheriff Paul Laney in a press release Thursday. 16 arrests at DAPL today\\u2026. #kfyrkafe \\n\\u2014 KFYR AM 550 (@KFYR550) October 27, 2016 \\n\\u201cMove to the south,\\u201d police said over the loudspeaker. \\n\\u201cWe see some of you have bows. Do not shoot bows and arrows at us,\\u201d they added, as protesters laughed. \\nNational Guard troops and police removed tents and other possessions from the new encampment, which the Standing Rock Sioux tribe says is sacred land granted to them via treaty in 1851. \\nPolice also dismantled the barricade across the road. \\nAs police corralled the protesters southward, some activists remained facing the police and even engaged with them while walking backwards. Atsa E\\u2019sha Hoferer was livestreaming on Facebook, telling officers that they should be on the side of the protests and that they too would suffer from contaminated water should the pipeline burst. Police are pulling down tents now. Just saw them spray paint an X on a teepee. pic.twitter.com/nNrWRPDggP \\n\\u2014 Caroline Grueskin (@cgrueskin) October 27, 2016 \\nThe stand-off with police had lasted for several hours before authorties moved closer to the camp and started arresting people. The number of arrested is currently unclear. \\nThe protesters are currently blocking state Highway 1806, which law enforcement is attempting to clear using cop cars and military \\u2013 style vehicles. Police said they will defend themselves against horses if necessary #DAPL #NoDAPL pic.twitter.com/5yWqKBUeGW \\n\\u2014 wes enzinna (@wesenzinna) October 27, 2016 \\nPolice have said that they will defend themselves against horses, journalist Wes Enzinna tweeted. \\n\\u201cDo not ride horses at the police,\\u201d law enforcement announced. \\n\\u201cYou\\u2019re endangering people\\u2019s lives by what you\\u2019re doing,\\u201d police told the protesters, telling them to move south or be arrested. People will not be arrested if they return to the main camp, one officer said at the barricade. \\nProtesters are burning tires, logs and other objects, sending smoke onto the roadway. A car has also been torched, journalist Jason Patinkin tweeted. \\n\\u2014 Jason Patinkin (@JasonPatinkin) October 27, 2016 \\nAlthough the Federal Aviation Administration has restricted flights over the Cannon Ball area until November 5, there is a police helicopter above the faceoff, journalist Antonia Juhasz tweeted. \\nMore than 260 protesters have been arrested in the weeks leading up to Thursday\\u2019s operation, AP reported. \\nIn the morning police made a line in front of the fence and the company workers are behind them. The tents of the so-called North Camp were located a stone\\u2019s throw away from the police line. Authorities insist that this camp should be removed, according to activist Atsa E\\u2019sha Hoferer live-streaming from the site. \\nPeople on the barricades are retreating peacefully amid chants of \\u201chands up, don\\u2019t shoot!\\u201d \\nPeople are moving from the road towards the construction site. \\u201cWe might as well get arrested defending the sacred,\\u201d a protester told the Bismarck Tribune\\u2019s Caroline Grueskin. We need to band together and keep the pressure up against them. One is a map of Native American reservations the other is the DAPL. #NoDAPL pic.twitter.com/VQ5MXgXkpY \\n\\u2014 Bart Starr Mistrot (@bartmistrot) October 27, 2016 \\nConstruction on the pipeline has resumed within sight of the confrontation on the state highway. While police came from north and things riled up, pipeline construction restarted to west. False flag much? pic.twitter.com/XxgC7vH11Z \\n\\u2014 Jason Patinkin (@JasonPatinkin) October 27, 2016 \\n\\u201cProtesters\\u2019 escalated unlawful behavior this weekend by setting up illegal roadblocks, trespassing onto private property and establishing an encampment, has forced law enforcement to respond at this time. As I said yesterday, I visited the protesters roadblock and requested them to remove the barricade and have protesters vacate the private property. However, the spokesperson at the roadblock, Mekasi Camp-Horinek of Oklahoma, told law enforcement they \\u2018were not moving\\u2019,\\u201d Morton County Sheriff Kyle Kirchmeier said in a statement . \\u201cI can\\u2019t stress it enough, this is a public safety issue. We cannot have protesters blocking county roads, blocking state highways, or trespassing on private property.\\u201d So @potus , this means you're going to remove the National Guard from Standing Rock and cancel DAPL, right? Right? #NoDAPL https://t.co/FVV5KsgUom\"\n        ],\n        \"semantic_type\": \"\",\n        \"description\": \"\"\n      }\n    },\n    {\n      \"column\": \"label\",\n      \"properties\": {\n        \"dtype\": \"category\",\n        \"num_unique_values\": 2,\n        \"samples\": [\n          \"REAL\",\n          \"FAKE\"\n        ],\n        \"semantic_type\": \"\",\n        \"description\": \"\"\n      }\n    }\n  ]\n}"
            }
          },
          "metadata": {},
          "execution_count": 23
        }
      ]
    },
    {
      "cell_type": "code",
      "source": [
        "#DataFlair - Get the labels\n",
        "labels=df.label\n",
        "labels.head()"
      ],
      "metadata": {
        "colab": {
          "base_uri": "https://localhost:8080/"
        },
        "id": "P9hrEjK_H8n7",
        "outputId": "86302565-6a89-4a8b-a6d7-0b47b9ead20f"
      },
      "execution_count": 24,
      "outputs": [
        {
          "output_type": "execute_result",
          "data": {
            "text/plain": [
              "0    FAKE\n",
              "1    FAKE\n",
              "2    REAL\n",
              "3    FAKE\n",
              "4    REAL\n",
              "Name: label, dtype: object"
            ]
          },
          "metadata": {},
          "execution_count": 24
        }
      ]
    },
    {
      "cell_type": "code",
      "source": [
        "#DataFlair - Split the dataset\n",
        "x_train,x_test,y_train,y_test=train_test_split(df['text'], labels, test_size=0.2, random_state=7)"
      ],
      "metadata": {
        "id": "cjeEQJmrH_Rl"
      },
      "execution_count": 25,
      "outputs": []
    },
    {
      "cell_type": "code",
      "source": [
        "#DataFlair - Initialize a TfidfVectorizer\n",
        "tfidf_vectorizer=TfidfVectorizer(stop_words='english', max_df=0.7)\n",
        "\n",
        "#DataFlair - Fit and transform train set, transform test set\n",
        "tfidf_train=tfidf_vectorizer.fit_transform(x_train)\n",
        "tfidf_test=tfidf_vectorizer.transform(x_test)"
      ],
      "metadata": {
        "id": "1Qdo3NjKIBjM"
      },
      "execution_count": 26,
      "outputs": []
    },
    {
      "cell_type": "code",
      "source": [
        "#DataFlair - Initialize a PassiveAggressiveClassifier\n",
        "pac=PassiveAggressiveClassifier(max_iter=50)\n",
        "pac.fit(tfidf_train,y_train)\n",
        "\n",
        "#DataFlair - Predict on the test set and calculate accuracy\n",
        "y_pred=pac.predict(tfidf_test)\n",
        "score=accuracy_score(y_test,y_pred)\n",
        "print(f'Accuracy: {round(score*100,2)}%')"
      ],
      "metadata": {
        "colab": {
          "base_uri": "https://localhost:8080/"
        },
        "id": "gkUBaQUaIDpu",
        "outputId": "4848c9b6-155f-482e-d310-0f191f3a5fa6"
      },
      "execution_count": 27,
      "outputs": [
        {
          "output_type": "stream",
          "name": "stdout",
          "text": [
            "Accuracy: 94.26%\n"
          ]
        }
      ]
    },
    {
      "cell_type": "code",
      "source": [
        "#DataFlair - Build confusion matrix\n",
        "confusion_matrix(y_test,y_pred, labels=['FAKE','REAL'])"
      ],
      "metadata": {
        "colab": {
          "base_uri": "https://localhost:8080/"
        },
        "id": "HDJRGDtuIWzG",
        "outputId": "0efedfc8-54f5-4462-f830-fd5d71e8294f"
      },
      "execution_count": 28,
      "outputs": [
        {
          "output_type": "execute_result",
          "data": {
            "text/plain": [
              "array([[488,  22],\n",
              "       [ 37, 480]])"
            ]
          },
          "metadata": {},
          "execution_count": 28
        }
      ]
    },
    {
      "cell_type": "code",
      "source": [
        "import joblib\n",
        "\n",
        "model_filename = 'fake_news_detection_model.pkl'\n",
        "joblib.dump(pac, model_filename)"
      ],
      "metadata": {
        "colab": {
          "base_uri": "https://localhost:8080/"
        },
        "id": "S6MqTSXVWq0L",
        "outputId": "e8b8ca66-fd7c-4104-b056-e37da09573c0"
      },
      "execution_count": 30,
      "outputs": [
        {
          "output_type": "execute_result",
          "data": {
            "text/plain": [
              "['fake_news_detection_model.pkl']"
            ]
          },
          "metadata": {},
          "execution_count": 30
        }
      ]
    },
    {
      "cell_type": "code",
      "source": [
        "loaded_model = joblib.load(model_filename)"
      ],
      "metadata": {
        "id": "l7V7wmGMWyvS"
      },
      "execution_count": 31,
      "outputs": []
    },
    {
      "cell_type": "code",
      "source": [
        "def predict_fake_news(title, text):\n",
        "    # Preprocess the input news article\n",
        "    input_features = tfidf_vectorizer.transform([text])\n",
        "\n",
        "    # Predict the label\n",
        "    prediction = loaded_model.predict(input_features)[0]\n",
        "\n",
        "    return prediction"
      ],
      "metadata": {
        "id": "xPGGXHfrW11C"
      },
      "execution_count": 32,
      "outputs": []
    },
    {
      "cell_type": "code",
      "source": [
        "news_title = \"Andhra Pradesh CM Jagan Mohan Reddy hurt in stone pelting in Vijayawada\"\n",
        "news_text = \"Someone in the crowd hurled stones at Jagan while some of his followers were busy welcoming him with a huge garland with the help of a crane. The incident took place while Jagan was on his “Memantha Siddham” bus yatra as part of electioneering. He sustained an injury on his forehead just above the left eyebrow. The situation turned tense as the attack seemed to be a targeted one. Immediate medical attention was provided to both chief minister and MLA inside the specially designed bus for electioneering. agan decided to continue with his bus journey after receiving first aid.\""
      ],
      "metadata": {
        "id": "epdAZ7cWW3Vx"
      },
      "execution_count": 35,
      "outputs": []
    },
    {
      "cell_type": "code",
      "source": [
        "predicted_label = predict_fake_news(news_title, news_text)\n",
        "print(\"Predicted Label:\", predicted_label)"
      ],
      "metadata": {
        "colab": {
          "base_uri": "https://localhost:8080/"
        },
        "id": "3sNrVz8yW7D-",
        "outputId": "ae1cbb0a-0533-40f6-bbea-c563b5de8805"
      },
      "execution_count": 36,
      "outputs": [
        {
          "output_type": "stream",
          "name": "stdout",
          "text": [
            "Predicted Label: FAKE\n"
          ]
        }
      ]
    }
  ]
}