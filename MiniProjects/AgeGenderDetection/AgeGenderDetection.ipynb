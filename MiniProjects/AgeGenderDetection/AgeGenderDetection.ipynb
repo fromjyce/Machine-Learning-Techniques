{
 "cells": [
  {
   "cell_type": "code",
   "execution_count": null,
   "metadata": {},
   "outputs": [],
   "source": [
    "import numpy as np\n",
    "import pandas as pd\n",
    "import matplotlib.pyplot as plt\n",
    "import seaborn as sns"
   ]
  },
  {
   "cell_type": "code",
   "execution_count": null,
   "metadata": {},
   "outputs": [],
   "source": [
    "df=pd.read_csv(\"age_gender.csv\")\n",
    "df1= pd.DataFrame(df)\n",
    "plt.xlabel = 'Gender (1= Female, 0-Male)'\n",
    "plt.figure(figsize=(10,7))\n",
    "ax=df1.gender.value_counts().plot.bar(x='Gender (1= Female, 0-Male)', y='Count', title='Gender', legend = (1,0, ('Female', 'Male')))\n",
    "plt.figure(figsize=(10,7))\n",
    "labels =['White','Black','Indian','Asian','Hispanic']\n",
    "ax=df1.ethnicity.value_counts().plot.bar()\n",
    "ax.set_xticklabels(labels)\n",
    "ax.set_title('Ethinicity')"
   ]
  },
  {
   "cell_type": "code",
   "execution_count": null,
   "metadata": {},
   "outputs": [],
   "source": [
    "df1['pixels'] = df1['pixels'].apply(lambda x:  np.reshape(np.array(x.split(), dtype=\"float32\"), (48,48)))\n",
    "print(df1.head())"
   ]
  },
  {
   "cell_type": "code",
   "execution_count": null,
   "metadata": {},
   "outputs": [],
   "source": [
    "def plot_data(rows, cols, lower_value, upper_value):\n",
    "    fig = plt.figure(figsize=(cols*3,rows*4))\n",
    "    for i in range(1, cols*rows + 1):\n",
    "        k = np.random.randint(lower_value,upper_value)\n",
    "        fig.add_subplot(rows, cols, i) # adding sub plot\n",
    "        gender = gender_values_to_labels[df.gender[k]]\n",
    "        ethnicity = eth_values_to_labels[df.ethnicity[k]]\n",
    "        age = df.age[k]\n",
    "        im = df.pixels[k]\n",
    "        plt.imshow(im, cmap='gray')\n",
    "        plt.axis('off')\n",
    "        plt.title(f'Gender:{gender}nAge:{age}nEthnicity:{ethnicity}')\n",
    "        plt.tight_layout()\n",
    "        plt.show()"
   ]
  },
  {
   "cell_type": "code",
   "execution_count": null,
   "metadata": {},
   "outputs": [],
   "source": [
    "plot_data(rows=1, cols=7, lower_value=0, upper_value=len(df))\n"
   ]
  },
  {
   "cell_type": "code",
   "execution_count": null,
   "metadata": {},
   "outputs": [],
   "source": [
    "import keras\n",
    "import json\n",
    "import sys\n",
    "import tensorflow as tf\n",
    "from keras.layers import Input\n",
    "import numpy as np\n",
    "import argparse\n",
    "from keras_applications.resnext import ResNeXt50\n",
    "from keras.utils.data_utils import get_file\n",
    "import face_recognition"
   ]
  },
  {
   "cell_type": "code",
   "execution_count": null,
   "metadata": {},
   "outputs": [],
   "source": [
    "import pandas as pd\n",
    "import matplotlib.pyplot as plt\n",
    "import seaborn as sns\n",
    "import cv2\n",
    "from PIL import Image\n",
    "df=pd.read_csv(\"age_gender.csv\")df.head()df1= pd.DataFrame(df)\n",
    "df1['pixels'] = df1.pixels.apply(lambda x: np.reshape(np.array(x.split(' '),dtype='float32'),(48,48)))\n",
    "df1['pixels']= df1['pixels']/255\n",
    "im = df1['pixels'][0]\n",
    "im\n",
    "plt.imshow(im, cmap='gray')\n",
    "plt.axis('off')"
   ]
  },
  {
   "cell_type": "code",
   "execution_count": null,
   "metadata": {},
   "outputs": [],
   "source": [
    "X = np.zeros(shape=(23705,48,48))\n",
    "for i in range(len(df1[\"pixels\"])):\n",
    "    X[i] = df1[\"pixels\"][i]\n",
    "X.dtype\n",
    "Output - dtype('float64')\n",
    "#Age\n",
    "ag = df1['age']\n",
    "ag=ag.astype(float)\n",
    "ag= np.array(ag)\n",
    "ag.shape"
   ]
  },
  {
   "cell_type": "code",
   "execution_count": null,
   "metadata": {},
   "outputs": [],
   "source": [
    "g= df1['gender']\n",
    "g=np.array(g)\n",
    "g.shape\n",
    "(23705,)\n",
    "labels_f =[]\n",
    "\n",
    "i=0\n",
    "\n",
    "while i <len(a):\n",
    "\n",
    "  label=[]\n",
    "\n",
    "  label.append([a[i]])\n",
    "\n",
    "  label.append([g[i]])\n",
    "\n",
    "  labels_f.append(label)\n",
    "\n",
    "  i+=1"
   ]
  },
  {
   "cell_type": "code",
   "execution_count": null,
   "metadata": {},
   "outputs": [],
   "source": [
    "labels_f =np.array(labels_f)\n",
    "labels_f.shape"
   ]
  },
  {
   "cell_type": "code",
   "execution_count": null,
   "metadata": {},
   "outputs": [],
   "source": [
    "import tensorflow as tf\n",
    "\n",
    "from sklearn.model_selection import train_test_split\n",
    "X_train, X_test, Y_train, Y_test= train_test_split(X,a,test_size=0.25)\n",
    "\n",
    "print(X_test.shape)\n",
    "\n",
    "print(X_train.shape)\n",
    "\n",
    "print(Y_test.shape)\n",
    "\n",
    "print(Y_train.shape)"
   ]
  },
  {
   "cell_type": "code",
   "execution_count": null,
   "metadata": {},
   "outputs": [],
   "source": [
    "Y_train_2=[Y_train[:,1],Y_train[:,0]]\n",
    "Y_test_2=[Y_test[:,1],Y_test[:,0]]"
   ]
  },
  {
   "cell_type": "code",
   "execution_count": null,
   "metadata": {},
   "outputs": [],
   "source": [
    "from tensorflow.keras.layers import Dropout\n",
    "\n",
    "from tensorflow.keras.layers import Flatten,BatchNormalization\n",
    "\n",
    "from tensorflow.keras.layers import Dense, MaxPooling2D,Conv2D\n",
    "\n",
    "from tensorflow.keras.layers import Input,Activation,Add\n",
    "\n",
    "from tensorflow.keras.models import Model\n",
    "\n",
    "from tensorflow.keras.regularizers import l2\n",
    "\n",
    "from tensorflow.keras.optimizers import Adam\n",
    "\n",
    "import tensorflow as tf"
   ]
  },
  {
   "cell_type": "code",
   "execution_count": null,
   "metadata": {},
   "outputs": [],
   "source": [
    "def Convolution(input_tensor,filters):\n",
    "\n",
    "    x = Conv2D(filters=filters,kernel_size=(3, 3),padding = 'same',strides=(1, 1),kernel_regularizer=l2(0.001))(input_tensor)\n",
    "\n",
    "    x = Dropout(0.1)(x)\n",
    "\n",
    "    x= Activation('relu')(x)\n",
    "\n",
    "    return x"
   ]
  },
  {
   "cell_type": "code",
   "execution_count": null,
   "metadata": {},
   "outputs": [],
   "source": [
    "def model(input_shape):\n",
    "\n",
    "  inputs = Input((input_shape))\n",
    "\n",
    "  conv_1= Convolution(inputs,32)\n",
    "\n",
    "  maxp_1 = MaxPooling2D(pool_size = (2,2)) (conv_1)\n",
    "\n",
    "  conv_2 = Convolution(maxp_1,64)\n",
    "\n",
    "  maxp_2 = MaxPooling2D(pool_size = (2, 2)) (conv_2)\n",
    "\n",
    "  conv_3 = Convolution(maxp_2,128)\n",
    "\n",
    "  maxp_3 = MaxPooling2D(pool_size = (2, 2)) (conv_3)\n",
    "\n",
    "  conv_4 = Convolution(maxp_3,256)\n",
    "\n",
    "  maxp_4 = MaxPooling2D(pool_size = (2, 2)) (conv_4)\n",
    "\n",
    "  flatten= Flatten() (maxp_4)\n",
    "\n",
    "  dense_1= Dense(64,activation='relu')(flatten)\n",
    "\n",
    "  dense_2= Dense(64,activation='relu')(flatten)\n",
    "\n",
    "  drop_1=Dropout(0.2)(dense_1)\n",
    "\n",
    "  drop_2=Dropout(0.2)(dense_2)\n",
    "\n",
    "  output_1= Dense(1,activation=\"sigmoid\",name='sex_out')(drop_1)\n",
    "\n",
    "  output_2= Dense(1,activation=\"relu\",name='age_out')(drop_2)\n",
    "\n",
    "  model = Model(inputs=[inputs], outputs=[output_1,output_2])\n",
    "\n",
    "  model.compile(loss=[\"binary_crossentropy\",\"mae\"], optimizer=\"Adam\",\n",
    "\n",
    "  metrics=[\"accuracy\"])\n",
    "\n",
    "  return model"
   ]
  },
  {
   "cell_type": "code",
   "execution_count": null,
   "metadata": {},
   "outputs": [],
   "source": [
    "Model=model((48,48,1))\n",
    "Model.summary()"
   ]
  },
  {
   "cell_type": "code",
   "execution_count": null,
   "metadata": {},
   "outputs": [],
   "source": [
    "History=Model.fit(X_train,Y_train_2,batch_size=64,validation_data=(X_test,Y_test_2),epochs=5,callbacks=[callback_list])"
   ]
  },
  {
   "cell_type": "code",
   "execution_count": null,
   "metadata": {},
   "outputs": [],
   "source": [
    "Model.evaluate(X_test,Y_test_2)\n"
   ]
  },
  {
   "cell_type": "code",
   "execution_count": null,
   "metadata": {},
   "outputs": [],
   "source": [
    "pred=Model.predict(X_test)\n",
    "pred[1]"
   ]
  },
  {
   "cell_type": "code",
   "execution_count": null,
   "metadata": {},
   "outputs": [],
   "source": [
    "def test_image(ind,X,Model):\n",
    "\n",
    "  plt.imshow(X[ind])\n",
    "\n",
    "  image_test=X[ind]\n",
    "\n",
    "  pred_1=Model.predict(np.array([image_test]))\n",
    "\n",
    "  sex_f=['Female','Male']\n",
    "\n",
    "  age=int(np.round(pred_1[1][0]))\n",
    "\n",
    "  sex=int(np.round(pred_1[0][0]))\n",
    "\n",
    "  print(\"Predicted Age: \"+ str(age))\n",
    "\n",
    "  print(\"Predicted Sex: \"+ sex_f[sex])\n",
    "\n"
   ]
  },
  {
   "cell_type": "code",
   "execution_count": null,
   "metadata": {},
   "outputs": [],
   "source": [
    "test_image(1980,X, Model)"
   ]
  }
 ],
 "metadata": {
  "language_info": {
   "name": "python"
  }
 },
 "nbformat": 4,
 "nbformat_minor": 2
}
