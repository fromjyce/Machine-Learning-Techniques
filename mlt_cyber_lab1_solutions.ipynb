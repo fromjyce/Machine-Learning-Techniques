{
  "cells": [
    {
      "cell_type": "code",
      "execution_count": null,
      "metadata": {
        "id": "hMrVROy78xZT",
        "colab": {
          "base_uri": "https://localhost:8080/"
        },
        "outputId": "230a20d0-5c59-4045-bccb-9736be3ca0b2"
      },
      "outputs": [
        {
          "output_type": "stream",
          "name": "stdout",
          "text": [
            "Requirement already satisfied: numpy in /usr/local/lib/python3.10/dist-packages (1.23.5)\n",
            "Requirement already satisfied: pandas in /usr/local/lib/python3.10/dist-packages (1.5.3)\n",
            "Requirement already satisfied: python-dateutil>=2.8.1 in /usr/local/lib/python3.10/dist-packages (from pandas) (2.8.2)\n",
            "Requirement already satisfied: pytz>=2020.1 in /usr/local/lib/python3.10/dist-packages (from pandas) (2023.3.post1)\n",
            "Requirement already satisfied: numpy>=1.21.0 in /usr/local/lib/python3.10/dist-packages (from pandas) (1.23.5)\n",
            "Requirement already satisfied: six>=1.5 in /usr/local/lib/python3.10/dist-packages (from python-dateutil>=2.8.1->pandas) (1.16.0)\n"
          ]
        }
      ],
      "source": [
        "!pip install numpy\n",
        "!pip install pandas\n",
        "# Import all the packages in a new code block before its use\n",
        "## Type your registration number and Name\n",
        "Registration_Number = \"22011103020\"\n",
        "Name = \"Jayashre\""
      ]
    },
    {
      "cell_type": "markdown",
      "metadata": {
        "id": "qtzFnRyxyiFg"
      },
      "source": [
        "# LAB 1 (26-12-2023)\n",
        "\n",
        "The following topics will be tested/reviewed in this notebook.\n",
        "- Basic I/O in python\n",
        "- Functions and Classes in Python\n",
        "- Descision statements and Loops\n",
        "- Numpy and Matplotlib\n",
        "- pandas\n",
        "- scikit-learn\n"
      ]
    },
    {
      "cell_type": "markdown",
      "metadata": {
        "id": "Q5qa8qYa0JnN"
      },
      "source": [
        "## Basic I/O in python\n",
        "Write python program for the following:\n",
        "- print the result of $\\sqrt{b^2-4ac}$\n",
        "- accept a string and print the reverse of the string"
      ]
    },
    {
      "cell_type": "code",
      "execution_count": null,
      "metadata": {
        "id": "6TXgRv65HPPd",
        "colab": {
          "base_uri": "https://localhost:8080/"
        },
        "outputId": "5e5a450d-82bf-486e-bdeb-d837c12a4c8d"
      },
      "outputs": [
        {
          "output_type": "stream",
          "name": "stdout",
          "text": [
            "Enter the value of a: 3\n",
            "Enter the value of b: 4\n",
            "Enter the value of c: 5\n",
            "Cant find the square root\n",
            "-44\n"
          ]
        }
      ],
      "source": [
        "#print the result of $\\sqrt{b^2-4ac}$\n",
        "import math\n",
        "\n",
        "def print_result (a: int, b: int, c: int) -> int:\n",
        "    disc = pow(b ,2) - 4 * a * c\n",
        "    if disc > 0:\n",
        "        return int(math.sqrt(disc))\n",
        "    else:\n",
        "        print(\"Cant find the square root\")\n",
        "        return int(disc)\n",
        "\n",
        "a = int(input(\"Enter the value of a: \"))\n",
        "b = int(input(\"Enter the value of b: \"))\n",
        "c = int(input(\"Enter the value of c: \"))\n",
        "print(print_result(a,b,c))"
      ]
    },
    {
      "cell_type": "code",
      "execution_count": null,
      "metadata": {
        "colab": {
          "base_uri": "https://localhost:8080/"
        },
        "id": "3Zq8vuzqdwS-",
        "outputId": "34cfc32c-78af-4a7e-b431-704e66a7e876"
      },
      "outputs": [
        {
          "output_type": "stream",
          "name": "stdout",
          "text": [
            "Enter the string: Jayashre\n",
            "Method One:  erhsayaJ\n",
            "Method Two:  erhsayaJ\n"
          ]
        }
      ],
      "source": [
        "#accept a string and print the reverse of the string\n",
        "\n",
        "#method one\n",
        "\n",
        "def method_one(input_string: str) -> str:\n",
        "    return input_string[::-1]\n",
        "\n",
        "# method two\n",
        "\n",
        "def method_two(input_string: str) -> str:\n",
        "    result_str = \"\"\n",
        "    for i in input_string:\n",
        "        result_str = i + result_str\n",
        "    return result_str\n",
        "\n",
        "input_str = input(\"Enter the string: \")\n",
        "print(\"Method One: \", method_one(input_str))\n",
        "print(\"Method Two: \", method_two(input_str))"
      ]
    },
    {
      "cell_type": "markdown",
      "metadata": {
        "id": "caXS1_7O4LwU"
      },
      "source": [
        "## Decision statements and Loops\n",
        "Write python program for the following:\n",
        "- Given a list, check how many times an element is present in the list\n",
        "- Given two numbers a, b and b>a, find how many even numbers, odd numbers and prime numbers are there."
      ]
    },
    {
      "cell_type": "code",
      "execution_count": null,
      "metadata": {
        "id": "ahtYg_-QHJbh",
        "colab": {
          "base_uri": "https://localhost:8080/"
        },
        "outputId": "cf17a3ad-2efb-4c73-f2ab-3662e10919de"
      },
      "outputs": [
        {
          "output_type": "stream",
          "name": "stdout",
          "text": [
            "Enter the elements of list separated by commas: 3, 4, 5, 6, 7\n",
            "Enter the element that you want to search: 7\n",
            "Method One:  1\n",
            "Method Two:  1\n"
          ]
        }
      ],
      "source": [
        "#Given a list, check how many times an element is present in the list\n",
        "\n",
        "# method one\n",
        "def method_one(input_list, search_element) -> int:\n",
        "    count = 0\n",
        "    for i in input_list:\n",
        "        if i == search_element:\n",
        "            count += 1\n",
        "    if count > 0:\n",
        "        return count\n",
        "    else:\n",
        "        print(\"No element found\")\n",
        "        return  count\n",
        "\n",
        "#method two\n",
        "def method_two(input_list, search_element) -> int:\n",
        "    count = input_list.count(search_element)\n",
        "    if count > 0:\n",
        "        return count\n",
        "    else:\n",
        "        print(\"No element found\")\n",
        "        return  count\n",
        "\n",
        "input_list = input(\"Enter the elements of list separated by commas: \")\n",
        "list(input_list)\n",
        "search_element = input(\"Enter the element that you want to search: \")\n",
        "print(\"Method One: \", method_one(input_list, search_element))\n",
        "print(\"Method Two: \", method_two(input_list, search_element))"
      ]
    },
    {
      "cell_type": "code",
      "execution_count": null,
      "metadata": {
        "colab": {
          "base_uri": "https://localhost:8080/"
        },
        "id": "kk93pcrxdwS_",
        "outputId": "957a70ac-17e4-4ecf-bc25-ea6742fd50f0"
      },
      "outputs": [
        {
          "output_type": "stream",
          "name": "stdout",
          "text": [
            "Enter the value of a: 1\n",
            "Enter the value of b: 5\n",
            "Odd Count:  3\n",
            "Even Count:  2\n",
            "Prime Count:  3\n"
          ]
        }
      ],
      "source": [
        "#Given two numbers a, b and b>a, find how many even numbers, odd numbers and prime numbers are there.\n",
        "\n",
        "def count_even_odd_numbers(a: int, b: int) -> (int, int):\n",
        "    even__count = 0\n",
        "    odd__count = 0\n",
        "    for i in range(a,b+1):\n",
        "        if i % 2 == 0:\n",
        "            even__count +=1\n",
        "        else:\n",
        "            odd__count += 1\n",
        "    return even__count, odd__count\n",
        "\n",
        "def check_prime_number(p : int) -> bool:\n",
        "    if p == 1:\n",
        "        return False\n",
        "    elif p > 1:\n",
        "        for i in range(2,p):\n",
        "            if (p % i) == 0:\n",
        "                return False\n",
        "        return True\n",
        "\n",
        "\n",
        "def count_prime_numbers (a: int,b: int) -> int:\n",
        "    count = 0\n",
        "    for i in range(a,b+1):\n",
        "        if check_prime_number(i):\n",
        "            count+=1\n",
        "    return count\n",
        "\n",
        "def checker_function(a,b):\n",
        "    even_n, odd_n = count_even_odd_numbers(a,b)\n",
        "    prime_n = count_prime_numbers(a,b)\n",
        "    if odd_n == 0 and even_n == 0 and prime_n == 0:\n",
        "        print(\"No even, odd and prime numbers were found\")\n",
        "        print(\"Odd Count: \", odd_n)\n",
        "        print(\"Even Count: \", even_n)\n",
        "        print(\"Prime Count: \", prime_n)\n",
        "    if prime_n != 0:\n",
        "        if odd_n == 0 and even_n != 0:\n",
        "            print(\"No odd numbers were found\")\n",
        "            print(\"Odd Count: \", odd_n)\n",
        "            print(\"Even Count: \", even_n)\n",
        "            print(\"Prime Count: \", prime_n)\n",
        "        elif even_n == 0 and odd_n != 0:\n",
        "            print(\"No even numbers were found\")\n",
        "            print(\"Odd Count: \", odd_n)\n",
        "            print(\"Even Count: \", even_n)\n",
        "            print(\"Prime Count: \", prime_n)\n",
        "        else:\n",
        "            print(\"Odd Count: \", odd_n)\n",
        "            print(\"Even Count: \", even_n)\n",
        "            print(\"Prime Count: \", prime_n)\n",
        "\n",
        "\n",
        "a = int(input(\"Enter the value of a: \"))\n",
        "b = int(input(\"Enter the value of b: \"))\n",
        "if b > a:\n",
        "    checker_function(a,b)\n",
        "else:\n",
        "    print(\"Invalid Input! Give the value of b more than a\")"
      ]
    },
    {
      "cell_type": "markdown",
      "metadata": {
        "id": "6tg59s2f4Gd9"
      },
      "source": [
        "## Functions and Classes\n",
        "\n",
        "Write python functions for the following:\n",
        "- accept a string (a row of comma separated values) and returns a list whose elemetns are the values from the string\n",
        "- given a list of names return the total characters in that list\n",
        "\n",
        "Write class for the following:\n",
        "- Complex number arithmetic (+,*) Try operator overloading\n"
      ]
    },
    {
      "cell_type": "code",
      "execution_count": null,
      "metadata": {
        "id": "Sx3dZOLCDIi0",
        "colab": {
          "base_uri": "https://localhost:8080/"
        },
        "outputId": "b30f4383-c277-410e-b1ce-2be1bee29c3b"
      },
      "outputs": [
        {
          "output_type": "stream",
          "name": "stdout",
          "text": [
            "Enter string (a row of comma separated values): Jayashre, Anushree, Rajam\n",
            "List:  ['Jayashre', 'Anushree', 'Rajam']\n"
          ]
        }
      ],
      "source": [
        "# accept a string (a row of comma separated values) and returns a list whose elemetns are the values from the string\n",
        "\n",
        "def string_to_list(input_string: str) -> list[str]:\n",
        "  result_list = input_string.split(\",\")\n",
        "  result_list = [i.strip() for i in result_list]\n",
        "  return result_list\n",
        "\n",
        "input_string = input(\"Enter string (a row of comma separated values): \")\n",
        "print(\"List: \", string_to_list(input_string))"
      ]
    },
    {
      "cell_type": "code",
      "execution_count": null,
      "metadata": {
        "id": "leBaN3i4DI2h",
        "colab": {
          "base_uri": "https://localhost:8080/"
        },
        "outputId": "68820029-6e39-4919-d76e-15ef2d54c65a"
      },
      "outputs": [
        {
          "output_type": "stream",
          "name": "stdout",
          "text": [
            "Enter the elements of the list separated by commas: Jayashre, Anushree, Rajam\n",
            "Length of Jayashre is 8\n",
            "Length of Anushree is 8\n",
            "Length of Rajam is 5\n",
            "Total Characters present in the list:  21\n"
          ]
        }
      ],
      "source": [
        "#given a list of names return the total characters in that list\n",
        "\n",
        "def check_characters_count(string: str) -> int:\n",
        "  count = len(string)\n",
        "  print(\"Length of {inp_str} is {length}\".format(inp_str = string, length = count))\n",
        "  return count\n",
        "\n",
        "def check_list(total_list: list[str]) -> int:\n",
        "  sum = 0\n",
        "  for ele in total_list:\n",
        "    count = check_characters_count(ele)\n",
        "    sum += count\n",
        "  return sum\n",
        "\n",
        "inp_list = input(\"Enter the elements of the list separated by commas: \")\n",
        "result_list = inp_list.split(\",\")\n",
        "result_list = [i.strip() for i in result_list]\n",
        "print(\"Total Characters present in the list: \", check_list(result_list))"
      ]
    },
    {
      "cell_type": "code",
      "source": [
        "##Write class for the following:\n",
        "\n",
        "    #Complex number arithmetic (+,*) Try operator overloading\n",
        "\n",
        "\n",
        "class ComplexNumber:\n",
        "    def __init__(self, real, imag):\n",
        "        self.real = real\n",
        "        self.imag = imag\n",
        "\n",
        "    def __add__(self, other):\n",
        "\n",
        "        return ComplexNumber(self.real + other.real, self.imag + other.imag)\n",
        "\n",
        "    def __mul__(self, other):\n",
        "\n",
        "        real_part = self.real * other.real - self.imag * other.imag\n",
        "        imag_part = self.real * other.imag + self.imag * other.real\n",
        "        return ComplexNumber(real_part, imag_part)\n",
        "\n",
        "    def __str__(self):\n",
        "\n",
        "        return f\"{self.real} + {self.imag}j\"\n",
        "\n",
        "c1 = ComplexNumber(2, 3)\n",
        "c2 = ComplexNumber(1, -1)\n",
        "\n",
        "\n",
        "result_add = c1 + c2\n",
        "print(\"Addition:\", result_add)\n",
        "\n",
        "\n",
        "result_mul = c1 * c2\n",
        "print(\"Multiplication:\", result_mul)\n",
        "\n"
      ],
      "metadata": {
        "colab": {
          "base_uri": "https://localhost:8080/"
        },
        "id": "6MGYQskQuMyx",
        "outputId": "a8cd3d1c-c469-488d-d713-8553962010d2"
      },
      "execution_count": 2,
      "outputs": [
        {
          "output_type": "stream",
          "name": "stdout",
          "text": [
            "Addition: 3 + 2j\n",
            "Multiplication: 5 + 1j\n"
          ]
        }
      ]
    },
    {
      "cell_type": "markdown",
      "metadata": {
        "id": "P9mUS1c_4Woz"
      },
      "source": [
        "## Numpy and Matplotlib\n",
        "\n",
        "### TODO\n",
        "**Numpy** is a python package that has well-optimised numerical algorithms like matrices, arrays etc.,\n",
        "- Create a list of numbers and convert it into numpy array\n",
        "- Create a 10x10 matrix (D) where each element of the matrix is given by the formula\n",
        "$$D_{ij}=i+j+1-ij$$\n",
        "- Compute the maximum value of the element in the matrix\n",
        "- go through a [short tutorial on numpy](https://numpy.org/devdocs/user/quickstart.html)\n",
        "\n",
        "**Matplotlib** is package that specialises in producing scientific grade plots.\n",
        "### TODO\n",
        "- Create two random arrays y,z using numpy\n",
        "- create an array x equal to the size of y the elements of the array x goes from 1 to size(y)\n",
        "- Plot (x,y) and (x,z)\n",
        "- Try different features"
      ]
    },
    {
      "cell_type": "code",
      "execution_count": null,
      "metadata": {
        "id": "G-mwLmlMBsxI",
        "colab": {
          "base_uri": "https://localhost:8080/"
        },
        "outputId": "0b1c8833-485a-4fac-94d5-ab0fcd23f83b"
      },
      "outputs": [
        {
          "output_type": "stream",
          "name": "stdout",
          "text": [
            "Enter the list of numbers separated by commas: 1, 2, 4, 5, 6 , 5\n",
            "List:  [1, 2, 4, 5, 6, 5]\n",
            "Numpy Array generated by method one:  [1 2 4 5 6 5]\n",
            "Numpy Array generated by method two:  [1 2 4 5 6 5]\n"
          ]
        }
      ],
      "source": [
        "#Create a list of numbers and convert it into numpy array\n",
        "import numpy\n",
        "\n",
        "numb_list = input(\"Enter the list of numbers separated by commas: \")\n",
        "result_list = numb_list.split(\",\")\n",
        "result_list = [i.strip() for i in result_list]\n",
        "result_list = [int(i) for i in result_list]\n",
        "print(\"List: \", result_list)\n",
        "arr_method_one = numpy.array(result_list)\n",
        "print(\"Numpy Array generated by method one: \", arr_method_one)\n",
        "arr_method_two = numpy.asarray(result_list)\n",
        "print(\"Numpy Array generated by method two: \", arr_method_two)\n",
        "\n"
      ]
    },
    {
      "cell_type": "code",
      "source": [
        "#Create a 10x10 matrix (D) where each element of the matrix is given by the formula\n",
        "#$$D_{ij}=i+j+1-ij$$\n",
        "\n",
        "import numpy\n",
        "\n",
        "rows, cols = 10, 10\n",
        "ten_by_ten_matrix = numpy.fromfunction(lambda i, j: i + j + 1 - i*j, (rows, cols), dtype=int)\n",
        "print(ten_by_ten_matrix)"
      ],
      "metadata": {
        "id": "l8_nM7fls3gY",
        "colab": {
          "base_uri": "https://localhost:8080/"
        },
        "outputId": "92009bbd-84a8-4012-9421-daaace1533c5"
      },
      "execution_count": null,
      "outputs": [
        {
          "output_type": "stream",
          "name": "stdout",
          "text": [
            "[[  1   2   3   4   5   6   7   8   9  10]\n",
            " [  2   2   2   2   2   2   2   2   2   2]\n",
            " [  3   2   1   0  -1  -2  -3  -4  -5  -6]\n",
            " [  4   2   0  -2  -4  -6  -8 -10 -12 -14]\n",
            " [  5   2  -1  -4  -7 -10 -13 -16 -19 -22]\n",
            " [  6   2  -2  -6 -10 -14 -18 -22 -26 -30]\n",
            " [  7   2  -3  -8 -13 -18 -23 -28 -33 -38]\n",
            " [  8   2  -4 -10 -16 -22 -28 -34 -40 -46]\n",
            " [  9   2  -5 -12 -19 -26 -33 -40 -47 -54]\n",
            " [ 10   2  -6 -14 -22 -30 -38 -46 -54 -62]]\n"
          ]
        }
      ]
    },
    {
      "cell_type": "code",
      "source": [
        "#Compute the maximum value of the element in the matrix\n",
        "\n",
        "import numpy\n",
        "\n",
        "start, stop, step = 1, 100, 2\n",
        "row, col = 4, 4\n",
        "matrix = numpy.arange(start, stop, step)\n",
        "print(matrix)\n",
        "numpy.max(matrix)"
      ],
      "metadata": {
        "colab": {
          "base_uri": "https://localhost:8080/"
        },
        "id": "SKm-ZCGCyttm",
        "outputId": "1c6fa84a-d4f0-4a9f-90fc-9e8146d65088"
      },
      "execution_count": null,
      "outputs": [
        {
          "output_type": "stream",
          "name": "stdout",
          "text": [
            "[ 1  3  5  7  9 11 13 15 17 19 21 23 25 27 29 31 33 35 37 39 41 43 45 47\n",
            " 49 51 53 55 57 59 61 63 65 67 69 71 73 75 77 79 81 83 85 87 89 91 93 95\n",
            " 97 99]\n"
          ]
        },
        {
          "output_type": "execute_result",
          "data": {
            "text/plain": [
              "99"
            ]
          },
          "metadata": {},
          "execution_count": 12
        }
      ]
    },
    {
      "cell_type": "code",
      "execution_count": null,
      "metadata": {
        "id": "RhQ6aMt9_7gt",
        "colab": {
          "base_uri": "https://localhost:8080/",
          "height": 472
        },
        "outputId": "73f6a91c-0081-4ef0-f93d-7dea8d55f296"
      },
      "outputs": [
        {
          "output_type": "display_data",
          "data": {
            "text/plain": [
              "<Figure size 640x480 with 1 Axes>"
            ],
            "image/png": "[encoded data removed]"
          },
          "metadata": {}
        }
      ],
      "source": [
        "'''\n",
        "Create two random arrays y,z using numpy\n",
        "create an array x equal to the size of y the elements of the array x goes from 1 to size(y)\n",
        "Plot (x,y) and (x,z)\n",
        "'''\n",
        "import numpy as np\n",
        "import matplotlib.pyplot as plt\n",
        "\n",
        "\n",
        "np.random.seed(42)\n",
        "\n",
        "\n",
        "y = np.random.rand(10)\n",
        "z = np.random.rand(10)\n",
        "\n",
        "\n",
        "x = np.arange(1, len(y) + 1)\n",
        "\n",
        "\n",
        "plt.plot(x, y, label='y')\n",
        "plt.plot(x, z, label='z')\n",
        "plt.xlabel('x')\n",
        "plt.ylabel('Values')\n",
        "plt.title('Plot of (x, y) and (x, z)')\n",
        "plt.legend()\n",
        "plt.show()\n",
        "\n",
        "\n"
      ]
    },
    {
      "cell_type": "markdown",
      "metadata": {
        "id": "xEyJqTQe4lc4"
      },
      "source": [
        "## pandas\n",
        "\n",
        "pandas is a python package that is useful for processing tabular data. Usually, if the format of the data is in a .csv, .xls, etc., then pandas is handy in processing.\n",
        "\n",
        "### TODO\n",
        "- Own a unique dataset to workwith from [Free Dataset](https://data.world/datasets/free). You may also choose any dataset from [INDIAN DATASETS](https://indiaai.gov.in/datasets), [US Govt data](https://data.gov/)\n",
        "- Download it in CSV file\n",
        "- Clean the dataset i.e., check for any N/A values or empty values and take appropriate action on the column. (Check how to clean dataset using pandas)\n",
        "- Process the data using padas library (use describe() routine to check the statistical significance of each feature in your dataset)\n",
        "- Use scatterplot (of pandas) to study how a pair of features are related\n",
        "- Create a new column from three existing columns. For example if x1,x2,x3 denote three already existing columns then create a new column x4 = 0.56* (x3)*2 + 0.3* (x2)**2 + 0.2 * (x1)"
      ]
    },
    {
      "cell_type": "code",
      "execution_count": null,
      "metadata": {
        "id": "la82164-yb7f",
        "colab": {
          "base_uri": "https://localhost:8080/",
          "height": 1000
        },
        "outputId": "aa93b064-4dda-46da-ebfe-a366dc0fa2a2"
      },
      "outputs": [
        {
          "output_type": "stream",
          "name": "stdout",
          "text": [
            "(7735, 46)\n",
            "X             0\n",
            "Y             0\n",
            "FID           0\n",
            "IPEDSID       0\n",
            "NAME          0\n",
            "ADDRESS       0\n",
            "ADDRESS2      0\n",
            "CITY          0\n",
            "STATE         0\n",
            "ZIP           0\n",
            "ZIP4          0\n",
            "TELEPHONE     0\n",
            "TYPE          0\n",
            "STATUS        0\n",
            "POPULATION    0\n",
            "COUNTY        0\n",
            "COUNTYFIPS    0\n",
            "COUNTRY       0\n",
            "LATITUDE      0\n",
            "LONGITUDE     0\n",
            "NAICS_CODE    0\n",
            "NAICS_DESC    0\n",
            "SOURCE        0\n",
            "SOURCE_DAT    0\n",
            "VAL_METHOD    0\n",
            "VAL_DATE      0\n",
            "WEBSITE       0\n",
            "STFIPS        0\n",
            "COFIPS        0\n",
            "SECTOR        0\n",
            "LEVEL_        0\n",
            "HI_OFFER      0\n",
            "DEG_GRANT     0\n",
            "LOCALE        0\n",
            "CLOSE_DATE    0\n",
            "MERGE_ID      0\n",
            "ALIAS         0\n",
            "SIZE_SET      0\n",
            "INST_SIZE     0\n",
            "PT_ENROLL     0\n",
            "FT_ENROLL     0\n",
            "TOT_ENROLL    0\n",
            "HOUSING       0\n",
            "DORM_CAP      0\n",
            "TOT_EMPLOY    0\n",
            "SHELTER_ID    0\n",
            "dtype: int64\n",
            "(7735, 46)\n",
            "                 X            Y          FID        IPEDSID         TYPE  \\\n",
            "count  7735.000000  7735.000000  7735.000000    7735.000000  7735.000000   \n",
            "mean    -90.506517    37.425260  3868.000000  281864.075889     2.201034   \n",
            "std      17.595184     5.800367  2233.046499  131529.530737     0.842711   \n",
            "min    -170.743175   -14.323171     1.000000  100636.000000    -3.000000   \n",
            "25%     -97.362353    33.990664  1934.500000  170270.500000     1.000000   \n",
            "50%     -86.663047    38.855847  3868.000000  222886.000000     2.000000   \n",
            "75%     -79.225690    41.392206  5801.500000  440314.000000     3.000000   \n",
            "max     171.378442    71.324702  7735.000000  480569.000000     3.000000   \n",
            "\n",
            "          POPULATION    COUNTYFIPS     LATITUDE    LONGITUDE     NAICS_CODE  \\\n",
            "count    7735.000000   7735.000000  7735.000000  7735.000000    7735.000000   \n",
            "mean     3233.846800  29196.812023    37.425260   -90.506517  611360.962379   \n",
            "std      7826.541161  16713.057137     5.800367    17.595184     131.336865   \n",
            "min         0.000000   -999.000000   -14.323171  -170.743175  611210.000000   \n",
            "25%       140.000000  13121.000000    33.990664   -97.362353  611210.000000   \n",
            "50%       514.000000  29147.000000    38.855847   -86.663047  611310.000000   \n",
            "75%      2657.500000  42029.000000    41.392206   -79.225690  611511.000000   \n",
            "max    227548.000000  78030.000000    71.324702   171.378442  611710.000000   \n",
            "\n",
            "       ...       LOCALE      MERGE_ID     SIZE_SET    INST_SIZE     PT_ENROLL  \\\n",
            "count  ...  7735.000000    7735.00000  7735.000000  7735.000000   7735.000000   \n",
            "mean   ...    19.491920     424.98927     1.787977     1.577893   1032.233355   \n",
            "std    ...     9.381378    9463.44996     5.878855     1.077236   3006.886573   \n",
            "min    ...    -3.000000      -2.00000    -3.000000    -2.000000      0.000000   \n",
            "25%    ...    12.000000      -2.00000    -3.000000     1.000000      0.000000   \n",
            "50%    ...    21.000000      -2.00000    -2.000000     1.000000     59.000000   \n",
            "75%    ...    21.000000      -2.00000     5.000000     2.000000    600.000000   \n",
            "max    ...    43.000000  443544.00000    18.000000     5.000000  65310.000000   \n",
            "\n",
            "           FT_ENROLL     TOT_ENROLL     HOUSING     DORM_CAP    TOT_EMPLOY  \n",
            "count    7735.000000    7735.000000  7735.00000   7735.00000   7735.000000  \n",
            "mean     1727.344796    2759.578151     1.63245    388.18384    474.268649  \n",
            "std      4790.666270    6695.364257     0.70059   1199.39176   1488.795583  \n",
            "min         0.000000       0.000000    -2.00000      0.00000      0.000000  \n",
            "25%        81.000000     114.000000     1.00000      0.00000     20.000000  \n",
            "50%       318.000000     434.000000     2.00000      0.00000     74.000000  \n",
            "75%      1415.000000    2232.500000     2.00000    105.00000    383.000000  \n",
            "max    204920.000000  204920.000000     2.00000  16018.00000  28018.000000  \n",
            "\n",
            "[8 rows x 26 columns]\n"
          ]
        },
        {
          "output_type": "display_data",
          "data": {
            "text/plain": [
              "<Figure size 640x480 with 1 Axes>"
            ],
            "image/png": "[encoded data removed]"
          },
          "metadata": {}
        },
        {
          "output_type": "stream",
          "name": "stdout",
          "text": [
            "                 X            Y          FID        IPEDSID         TYPE  \\\n",
            "count  7735.000000  7735.000000  7735.000000    7735.000000  7735.000000   \n",
            "mean    -90.506517    37.425260  3868.000000  281864.075889     2.201034   \n",
            "std      17.595184     5.800367  2233.046499  131529.530737     0.842711   \n",
            "min    -170.743175   -14.323171     1.000000  100636.000000    -3.000000   \n",
            "25%     -97.362353    33.990664  1934.500000  170270.500000     1.000000   \n",
            "50%     -86.663047    38.855847  3868.000000  222886.000000     2.000000   \n",
            "75%     -79.225690    41.392206  5801.500000  440314.000000     3.000000   \n",
            "max     171.378442    71.324702  7735.000000  480569.000000     3.000000   \n",
            "\n",
            "          POPULATION    COUNTYFIPS     LATITUDE    LONGITUDE     NAICS_CODE  \\\n",
            "count    7735.000000   7735.000000  7735.000000  7735.000000    7735.000000   \n",
            "mean     3233.846800  29196.812023    37.425260   -90.506517  611360.962379   \n",
            "std      7826.541161  16713.057137     5.800367    17.595184     131.336865   \n",
            "min         0.000000   -999.000000   -14.323171  -170.743175  611210.000000   \n",
            "25%       140.000000  13121.000000    33.990664   -97.362353  611210.000000   \n",
            "50%       514.000000  29147.000000    38.855847   -86.663047  611310.000000   \n",
            "75%      2657.500000  42029.000000    41.392206   -79.225690  611511.000000   \n",
            "max    227548.000000  78030.000000    71.324702   171.378442  611710.000000   \n",
            "\n",
            "       ...      MERGE_ID     SIZE_SET    INST_SIZE     PT_ENROLL  \\\n",
            "count  ...    7735.00000  7735.000000  7735.000000   7735.000000   \n",
            "mean   ...     424.98927     1.787977     1.577893   1032.233355   \n",
            "std    ...    9463.44996     5.878855     1.077236   3006.886573   \n",
            "min    ...      -2.00000    -3.000000    -2.000000      0.000000   \n",
            "25%    ...      -2.00000    -3.000000     1.000000      0.000000   \n",
            "50%    ...      -2.00000    -2.000000     1.000000     59.000000   \n",
            "75%    ...      -2.00000     5.000000     2.000000    600.000000   \n",
            "max    ...  443544.00000    18.000000     5.000000  65310.000000   \n",
            "\n",
            "           FT_ENROLL     TOT_ENROLL     HOUSING     DORM_CAP    TOT_EMPLOY  \\\n",
            "count    7735.000000    7735.000000  7735.00000   7735.00000   7735.000000   \n",
            "mean     1727.344796    2759.578151     1.63245    388.18384    474.268649   \n",
            "std      4790.666270    6695.364257     0.70059   1199.39176   1488.795583   \n",
            "min         0.000000       0.000000    -2.00000      0.00000      0.000000   \n",
            "25%        81.000000     114.000000     1.00000      0.00000     20.000000   \n",
            "50%       318.000000     434.000000     2.00000      0.00000     74.000000   \n",
            "75%      1415.000000    2232.500000     2.00000    105.00000    383.000000   \n",
            "max    204920.000000  204920.000000     2.00000  16018.00000  28018.000000   \n",
            "\n",
            "                 x4  \n",
            "count   7735.000000  \n",
            "mean    5964.435890  \n",
            "std     1891.106482  \n",
            "min     2797.977882  \n",
            "25%     4654.629513  \n",
            "50%     5466.524608  \n",
            "75%     6758.638536  \n",
            "max    16952.454089  \n",
            "\n",
            "[8 rows x 27 columns]\n",
            "(7735, 47)\n"
          ]
        }
      ],
      "source": [
        "import pandas as pd\n",
        "import matplotlib.pyplot as plt\n",
        "\n",
        "data_set = pd.read_csv(\"Colleges_and_Universities.csv\")\n",
        "\n",
        "print(data_set.shape)\n",
        "\n",
        "#checking for null values\n",
        "print(data_set.isnull().sum())\n",
        "\n",
        "#dropping null values\n",
        "data_set = data_set.dropna()\n",
        "print(data_set.shape)\n",
        "\n",
        "#describing\n",
        "print(data_set.describe())\n",
        "\n",
        "#scatterplot\n",
        "plt.scatter(data_set['X'], data_set['Y'])\n",
        "plt.xlabel('x1')\n",
        "plt.ylabel('x2')\n",
        "plt.title('Scatterplot of x1 and x2')\n",
        "plt.show()\n",
        "\n",
        "\n",
        "##creating new columns\n",
        "data_set['x4'] = 0.56 * (data_set['X'] ** 2) + 0.3 * (data_set['Y'] ** 2) + 0.2 * data_set['FID']\n",
        "print(data_set.describe())\n",
        "print(data_set.shape)"
      ]
    },
    {
      "cell_type": "markdown",
      "metadata": {
        "id": "PsCUbseo4pfF"
      },
      "source": [
        "## SCIKIT-LEARN\n",
        "\n",
        "### TODO\n",
        "- In the above dataset that you have taken, If one of your columns has non-numerical value but it is categorical (Gender, birthplace, etc,.) Use scikit-learn to encode using numerical values.\n",
        "- Explore various scaling techniques available in scikit-learn, Atleast try two of the scalers with your dataset\n",
        "- Check what is \"Polynomial features\" in scikit-learn and try it with your dataset."
      ]
    },
    {
      "cell_type": "code",
      "execution_count": null,
      "metadata": {
        "id": "EqfSKITg4skp",
        "colab": {
          "base_uri": "https://localhost:8080/"
        },
        "outputId": "d76feb4b-41d6-4f44-8988-78d05d846dab"
      },
      "outputs": [
        {
          "output_type": "stream",
          "name": "stdout",
          "text": [
            "               X          Y   FID  IPEDSID  \\\n",
            "0     -92.260490  34.759308  7001   107840   \n",
            "1    -121.289431  38.713353  7002   112181   \n",
            "2    -118.287070  34.101481  7003   116660   \n",
            "3    -121.652662  36.700631  7004   125310   \n",
            "4     -71.070737  42.369930  7005   164368   \n",
            "...          ...        ...   ...      ...   \n",
            "7730  -72.042638  41.347074  2996   443483   \n",
            "7731  -80.160335  39.482878  2997   443492   \n",
            "7732 -118.236350  33.895708  2998   443517   \n",
            "7733  -84.176526  34.042875  2999   443526   \n",
            "7734  -83.121729  40.030759  3000   443535   \n",
            "\n",
            "                                               NAME  \\\n",
            "0                                   Shorter College   \n",
            "1                     Citrus Heights Beauty College   \n",
            "2          Joe Blasco Makeup Artist Training Center   \n",
            "3                          Waynes College of Beauty   \n",
            "4                Hult International Business School   \n",
            "...                                             ...   \n",
            "7730  Connecticut Center for Massage Therapy-Groton   \n",
            "7731       Pierpont Community and Technical College   \n",
            "7732        Universal College of Beauty Inc-Compton   \n",
            "7733                 ITT Technical Institute-Duluth   \n",
            "7734               ITT Technical Institute-Hilliard   \n",
            "\n",
            "                              ADDRESS       ADDRESS2            CITY STATE  \\\n",
            "0                       604 Locust St  NOT AVAILABLE   N Little Rock    AR   \n",
            "1                      7518 Baird Way  NOT AVAILABLE  Citris Heights    CA   \n",
            "2               1670 Hillhurst Avenue  NOT AVAILABLE     Los Angeles    CA   \n",
            "3              1271 North Main Street  NOT AVAILABLE         Salinas    CA   \n",
            "4                  1 Education Street  NOT AVAILABLE       Cambridge    MA   \n",
            "...                               ...            ...             ...   ...   \n",
            "7730               1154 Poquonnock Rd  NOT AVAILABLE          Groton    CT   \n",
            "7731                  1201 Locust Ave  NOT AVAILABLE        Fairmont    WV   \n",
            "7732            718 West Compton Blvd  NOT AVAILABLE         Compton    CA   \n",
            "7733  10700 Abbotts Bridge Rd-Ste 190  NOT AVAILABLE          Duluth    GA   \n",
            "7734      3781 Park Mill Run, Suite 1  NOT AVAILABLE        Hilliard    OH   \n",
            "\n",
            "        ZIP  ...          ALIAS SIZE_SET  INST_SIZE PT_ENROLL  FT_ENROLL  \\\n",
            "0     72114  ...  NOT AVAILABLE       -3          1        24         28   \n",
            "1     95610  ...  NOT AVAILABLE       -3          1         6         24   \n",
            "2     90027  ...  NOT AVAILABLE       -3          1         0         24   \n",
            "3     93906  ...  NOT AVAILABLE       -3          1        18         16   \n",
            "4     02141  ...  NOT AVAILABLE       -3          2         0       2243   \n",
            "...     ...  ...            ...      ...        ...       ...        ...   \n",
            "7730  06340  ...  NOT AVAILABLE       -3          1       119         19   \n",
            "7731  26554  ...  NOT AVAILABLE        3          2       772       2415   \n",
            "7732  90220  ...  NOT AVAILABLE       -3          1         0          0   \n",
            "7733  30097  ...  NOT AVAILABLE       -2          1       227        441   \n",
            "7734  43026  ...  NOT AVAILABLE        1          1       221        263   \n",
            "\n",
            "     TOT_ENROLL  HOUSING DORM_CAP  TOT_EMPLOY     SHELTER_ID  \n",
            "0            52        2        0          18  NOT AVAILABLE  \n",
            "1            30        2        0           9  NOT AVAILABLE  \n",
            "2            24        2        0          11  NOT AVAILABLE  \n",
            "3            34        2        0           9  NOT AVAILABLE  \n",
            "4          2243        2        0         143  NOT AVAILABLE  \n",
            "...         ...      ...      ...         ...            ...  \n",
            "7730        138        2        0          25  NOT AVAILABLE  \n",
            "7731       3187        1     1132         283  NOT AVAILABLE  \n",
            "7732          0       -2        0           0  NOT AVAILABLE  \n",
            "7733        668        2        0          84  NOT AVAILABLE  \n",
            "7734        484        2        0          83  NOT AVAILABLE  \n",
            "\n",
            "[7735 rows x 46 columns]\n",
            "-------\n",
            "               X          Y   FID  IPEDSID  NAME  ADDRESS       ADDRESS2  \\\n",
            "0     -92.260490  34.759308  7001   107840  5846     5743  NOT AVAILABLE   \n",
            "1    -121.289431  38.713353  7002   112181  1326     6402  NOT AVAILABLE   \n",
            "2    -118.287070  34.101481  7003   116660  3300     1874  NOT AVAILABLE   \n",
            "3    -121.652662  36.700631  7004   125310  7324     1083  NOT AVAILABLE   \n",
            "4     -71.070737  42.369930  7005   164368  2899       28  NOT AVAILABLE   \n",
            "...          ...        ...   ...      ...   ...      ...            ...   \n",
            "7730  -72.042638  41.347074  2996   443483  1574      756  NOT AVAILABLE   \n",
            "7731  -80.160335  39.482878  2997   443492  5073      908  NOT AVAILABLE   \n",
            "7732 -118.236350  33.895708  2998   443517  6721     6258  NOT AVAILABLE   \n",
            "7733  -84.176526  34.042875  2999   443526  2947      484  NOT AVAILABLE   \n",
            "7734  -83.121729  40.030759  3000   443535  2964     4305  NOT AVAILABLE   \n",
            "\n",
            "                CITY STATE    ZIP  ...          ALIAS SIZE_SET  INST_SIZE  \\\n",
            "0      N Little Rock    AR  72114  ...  NOT AVAILABLE       -3          1   \n",
            "1     Citris Heights    CA  95610  ...  NOT AVAILABLE       -3          1   \n",
            "2        Los Angeles    CA  90027  ...  NOT AVAILABLE       -3          1   \n",
            "3            Salinas    CA  93906  ...  NOT AVAILABLE       -3          1   \n",
            "4          Cambridge    MA  02141  ...  NOT AVAILABLE       -3          2   \n",
            "...              ...   ...    ...  ...            ...      ...        ...   \n",
            "7730          Groton    CT  06340  ...  NOT AVAILABLE       -3          1   \n",
            "7731        Fairmont    WV  26554  ...  NOT AVAILABLE        3          2   \n",
            "7732         Compton    CA  90220  ...  NOT AVAILABLE       -3          1   \n",
            "7733          Duluth    GA  30097  ...  NOT AVAILABLE       -2          1   \n",
            "7734        Hilliard    OH  43026  ...  NOT AVAILABLE        1          1   \n",
            "\n",
            "     PT_ENROLL  FT_ENROLL TOT_ENROLL  HOUSING DORM_CAP  TOT_EMPLOY  \\\n",
            "0           24         28         52        2        0          18   \n",
            "1            6         24         30        2        0           9   \n",
            "2            0         24         24        2        0          11   \n",
            "3           18         16         34        2        0           9   \n",
            "4            0       2243       2243        2        0         143   \n",
            "...        ...        ...        ...      ...      ...         ...   \n",
            "7730       119         19        138        2        0          25   \n",
            "7731       772       2415       3187        1     1132         283   \n",
            "7732         0          0          0       -2        0           0   \n",
            "7733       227        441        668        2        0          84   \n",
            "7734       221        263        484        2        0          83   \n",
            "\n",
            "         SHELTER_ID  \n",
            "0     NOT AVAILABLE  \n",
            "1     NOT AVAILABLE  \n",
            "2     NOT AVAILABLE  \n",
            "3     NOT AVAILABLE  \n",
            "4     NOT AVAILABLE  \n",
            "...             ...  \n",
            "7730  NOT AVAILABLE  \n",
            "7731  NOT AVAILABLE  \n",
            "7732  NOT AVAILABLE  \n",
            "7733  NOT AVAILABLE  \n",
            "7734  NOT AVAILABLE  \n",
            "\n",
            "[7735 rows x 46 columns]\n",
            "--------\n",
            "             X         Y       FID      NAME\n",
            "0    -0.099691 -0.459647  1.403107  0.944045\n",
            "1    -1.749621  0.222085  1.403555 -1.119898\n",
            "2    -1.578975 -0.573066  1.404002 -0.218521\n",
            "3    -1.770266 -0.124936  1.404450  1.618937\n",
            "4     1.104679  0.852531  1.404898 -0.401628\n",
            "...        ...       ...       ...       ...\n",
            "7730  1.049439  0.676176 -0.390523 -1.006655\n",
            "7731  0.588050  0.354762 -0.390075  0.591074\n",
            "7732 -1.576092 -0.608544 -0.389627  1.343592\n",
            "7733  0.359780 -0.583171 -0.389180 -0.379710\n",
            "7734  0.419732  0.449225 -0.388732 -0.371947\n",
            "\n",
            "[7735 rows x 4 columns]\n",
            "---------\n",
            "             X         Y       FID      NAME\n",
            "0     0.229400  0.573073  0.905094  0.771444\n",
            "1     0.144550  0.619239  0.905224  0.174980\n",
            "2     0.153326  0.565392  0.905353  0.435471\n",
            "3     0.143488  0.595739  0.905482  0.966482\n",
            "4     0.291336  0.661932  0.905612  0.382555\n",
            "...        ...       ...       ...       ...\n",
            "7730  0.288495  0.649990  0.387251  0.207707\n",
            "7731  0.264768  0.628224  0.387380  0.669438\n",
            "7732  0.153474  0.562990  0.387510  0.886909\n",
            "7733  0.253029  0.564708  0.387639  0.388889\n",
            "7734  0.256112  0.634621  0.387768  0.391132\n",
            "\n",
            "[7735 rows x 4 columns]\n",
            "--------------\n",
            "               X          Y   FID  IPEDSID  NAME  ADDRESS       ADDRESS2  \\\n",
            "0     -92.260490  34.759308  7001   107840  5846     5743  NOT AVAILABLE   \n",
            "1    -121.289431  38.713353  7002   112181  1326     6402  NOT AVAILABLE   \n",
            "2    -118.287070  34.101481  7003   116660  3300     1874  NOT AVAILABLE   \n",
            "3    -121.652662  36.700631  7004   125310  7324     1083  NOT AVAILABLE   \n",
            "4     -71.070737  42.369930  7005   164368  2899       28  NOT AVAILABLE   \n",
            "...          ...        ...   ...      ...   ...      ...            ...   \n",
            "7730  -72.042638  41.347074  2996   443483  1574      756  NOT AVAILABLE   \n",
            "7731  -80.160335  39.482878  2997   443492  5073      908  NOT AVAILABLE   \n",
            "7732 -118.236350  33.895708  2998   443517  6721     6258  NOT AVAILABLE   \n",
            "7733  -84.176526  34.042875  2999   443526  2947      484  NOT AVAILABLE   \n",
            "7734  -83.121729  40.030759  3000   443535  2964     4305  NOT AVAILABLE   \n",
            "\n",
            "                CITY STATE    ZIP  ... poly_0      poly_1     poly_2  poly_3  \\\n",
            "0      N Little Rock    AR  72114  ...    1.0  -92.260490  34.759308  7001.0   \n",
            "1     Citris Heights    CA  95610  ...    1.0 -121.289431  38.713353  7002.0   \n",
            "2        Los Angeles    CA  90027  ...    1.0 -118.287070  34.101481  7003.0   \n",
            "3            Salinas    CA  93906  ...    1.0 -121.652662  36.700631  7004.0   \n",
            "4          Cambridge    MA  02141  ...    1.0  -71.070737  42.369930  7005.0   \n",
            "...              ...   ...    ...  ...    ...         ...        ...     ...   \n",
            "7730          Groton    CT  06340  ...    1.0  -72.042638  41.347074  2996.0   \n",
            "7731        Fairmont    WV  26554  ...    1.0  -80.160335  39.482878  2997.0   \n",
            "7732         Compton    CA  90220  ...    1.0 -118.236350  33.895708  2998.0   \n",
            "7733          Duluth    GA  30097  ...    1.0  -84.176526  34.042875  2999.0   \n",
            "7734        Hilliard    OH  43026  ...    1.0  -83.121729  40.030759  3000.0   \n",
            "\n",
            "            poly_4       poly_5         poly_6       poly_7         poly_8  \\\n",
            "0      8511.997978 -3206.910808 -645915.689097  1208.209513  243349.917366   \n",
            "1     14711.126072 -4695.520557 -849268.595862  1498.723701  271070.897706   \n",
            "2     13991.830858 -4033.764260 -828364.349116  1162.911006  238812.671443   \n",
            "3     14799.370151 -4464.729410 -852055.244039  1346.936289  257051.216954   \n",
            "4      5051.049725 -3011.262190 -497850.515977  1795.210990  296801.361471   \n",
            "...            ...          ...            ...          ...            ...   \n",
            "7730   5190.141679 -2978.752288 -215839.743214  1709.580535  123875.833962   \n",
            "7731   6425.679269 -3164.960703 -240240.523279  1558.897640  118330.184806   \n",
            "7732  13979.834476 -4007.704776 -354472.577480  1148.919009  101619.332065   \n",
            "7733   7085.687550 -2865.610970 -252445.401837  1158.917349  102094.582602   \n",
            "7734   6909.221816 -3327.425895 -249365.186709  1602.461664  120092.276928   \n",
            "\n",
            "          poly_9  \n",
            "0     49014001.0  \n",
            "1     49028004.0  \n",
            "2     49042009.0  \n",
            "3     49056016.0  \n",
            "4     49070025.0  \n",
            "...          ...  \n",
            "7730   8976016.0  \n",
            "7731   8982009.0  \n",
            "7732   8988004.0  \n",
            "7733   8994001.0  \n",
            "7734   9000000.0  \n",
            "\n",
            "[7735 rows x 56 columns]\n"
          ]
        }
      ],
      "source": [
        "import pandas as pd\n",
        "import matplotlib.pyplot as plt\n",
        "from sklearn.preprocessing import LabelEncoder, StandardScaler, MinMaxScaler, PolynomialFeatures\n",
        "from sklearn.model_selection import train_test_split\n",
        "\n",
        "df = pd.read_csv('Colleges_and_Universities.csv')\n",
        "print(df)\n",
        "\n",
        "##encoding\n",
        "le = LabelEncoder()\n",
        "categorical_columns = ['NAME', 'ADDRESS']  # Add your categorical columns\n",
        "df[categorical_columns] = df[categorical_columns].apply(lambda col: le.fit_transform(col))\n",
        "print(\"-------\")\n",
        "print(df)\n",
        "\n",
        "##scaling techniques\n",
        "scaler_standard = StandardScaler()\n",
        "df_scaled_standard = pd.DataFrame(scaler_standard.fit_transform(df[['X', 'Y', 'FID', 'NAME']]), columns=['X', 'Y', 'FID', 'NAME'])\n",
        "print(\"--------\")\n",
        "print(df_scaled_standard)\n",
        "\n",
        "scaler_minmax = MinMaxScaler()\n",
        "df_scaled_minmax = pd.DataFrame(scaler_minmax.fit_transform(df[['X', 'Y', 'FID', 'NAME']]), columns=['X', 'Y', 'FID', 'NAME'])\n",
        "print(\"---------\")\n",
        "print(df_scaled_minmax)\n",
        "\n",
        "#polynomial-features\n",
        "poly = PolynomialFeatures(degree=2)\n",
        "df_poly_features = poly.fit_transform(df[['X', 'Y', 'FID']])\n",
        "df_poly = pd.DataFrame(df_poly_features, columns=[f'poly_{i}' for i in range(df_poly_features.shape[1])])\n",
        "# Combine the polynomial features with the original DataFrame\n",
        "df_poly = pd.concat([df, df_poly], axis=1)\n",
        "print(\"--------------\")\n",
        "print(df_poly)"
      ]
    }
  ],
  "metadata": {
    "colab": {
      "provenance": []
    },
    "kernelspec": {
      "display_name": "Python 3",
      "name": "python3"
    },
    "language_info": {
      "codemirror_mode": {
        "name": "ipython",
        "version": 3
      },
      "file_extension": ".py",
      "mimetype": "text/x-python",
      "name": "python",
      "nbconvert_exporter": "python",
      "pygments_lexer": "ipython3",
      "version": "3.10.12"
    }
  },
  "nbformat": 4,
  "nbformat_minor": 0
}