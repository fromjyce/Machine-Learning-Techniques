{
  "cells": [
    {
      "cell_type": "markdown",
      "metadata": {
        "id": "BjlHuHD6DvNY"
      },
      "source": [
        "# Experiment - 1: Eye Detection"
      ]
    },
    {
      "cell_type": "code",
      "execution_count": null,
      "metadata": {
        "colab": {
          "base_uri": "https://localhost:8080/"
        },
        "id": "dgOAzTNAAK5t",
        "outputId": "8550ff54-1592-4825-e509-606433287de7"
      },
      "outputs": [],
      "source": [
        "!pip install opencv-python"
      ]
    },
    {
      "cell_type": "code",
      "execution_count": null,
      "metadata": {
        "id": "3zpDzozCDuvc"
      },
      "outputs": [],
      "source": [
        "import cv2\n",
        "from google.colab.patches import cv2_imshow"
      ]
    },
    {
      "cell_type": "code",
      "execution_count": null,
      "metadata": {
        "id": "D_rof92FFQT2"
      },
      "outputs": [],
      "source": [
        "image_path_1 = \"/content/image.jpg\""
      ]
    },
    {
      "cell_type": "code",
      "execution_count": null,
      "metadata": {
        "id": "IilJWlWRDuca"
      },
      "outputs": [],
      "source": [
        "image_path_2 = \"/content/image2.jpg\""
      ]
    },
    {
      "cell_type": "code",
      "execution_count": null,
      "metadata": {
        "id": "lhrvukimFP73"
      },
      "outputs": [],
      "source": [
        "img_1 = cv2.imread(image_path_1)"
      ]
    },
    {
      "cell_type": "code",
      "execution_count": null,
      "metadata": {
        "id": "35nAForGETqy"
      },
      "outputs": [],
      "source": [
        "img_2 = cv2.imread(image_path_2)"
      ]
    },
    {
      "cell_type": "code",
      "execution_count": null,
      "metadata": {
        "colab": {
          "base_uri": "https://localhost:8080/"
        },
        "id": "YCrZwsRaFaku",
        "outputId": "1ef39a74-8f9b-4046-8434-8235703e33d8"
      },
      "outputs": [],
      "source": [
        "if img_1 is None:\n",
        "    print(\"Error: Could not read the image. Please check the path.\")\n",
        "else:\n",
        "    gray = cv2.cvtColor(img_1, cv2.COLOR_BGR2GRAY)\n",
        "    face_cascade = cv2.CascadeClassifier(cv2.data.haarcascades + 'haarcascade_frontalface_default.xml')\n",
        "    eye_cascade = cv2.CascadeClassifier(cv2.data.haarcascades + 'haarcascade_eye.xml')\n",
        "    faces = face_cascade.detectMultiScale(gray, scaleFactor=1.1, minNeighbors=5, minSize=(30, 30))\n",
        "    for (x, y, w, h) in faces:\n",
        "        cv2.rectangle(img_1, (x, y), (x + w, y + h), (255, 0, 0), 2)\n",
        "        roi_gray = gray[y:y + h, x:x + w]\n",
        "        roi_color = img_1[y:y + h, x:x + w]\n",
        "        eyes = eye_cascade.detectMultiScale(roi_gray)\n",
        "        for (ex, ey, ew, eh) in eyes:\n",
        "            cv2.rectangle(roi_color, (ex, ey), (ex + ew, ey + eh), (0, 255, 0), 2)\n",
        "    cv2_imshow(img_1)"
      ]
    },
    {
      "cell_type": "code",
      "execution_count": null,
      "metadata": {
        "colab": {
          "base_uri": "https://localhost:8080/"
        },
        "id": "LhpO_bhnEZso",
        "outputId": "db45c46b-2cda-4369-cf2e-e8cfb1c119fe"
      },
      "outputs": [],
      "source": [
        "if img_2 is None:\n",
        "    print(\"Error: Could not read the image. Please check the path.\")\n",
        "else:\n",
        "    gray = cv2.cvtColor(img_2, cv2.COLOR_BGR2GRAY)\n",
        "    face_cascade = cv2.CascadeClassifier(cv2.data.haarcascades + 'haarcascade_frontalface_default.xml')\n",
        "    eye_cascade = cv2.CascadeClassifier(cv2.data.haarcascades + 'haarcascade_eye.xml')\n",
        "    faces = face_cascade.detectMultiScale(gray, scaleFactor=1.1, minNeighbors=5, minSize=(30, 30))\n",
        "    for (x, y, w, h) in faces:\n",
        "        cv2.rectangle(img_2, (x, y), (x + w, y + h), (255, 0, 0), 2)\n",
        "        roi_gray = gray[y:y + h, x:x + w]\n",
        "        roi_color = img_2[y:y + h, x:x + w]\n",
        "        eyes = eye_cascade.detectMultiScale(roi_gray)\n",
        "        for (ex, ey, ew, eh) in eyes:\n",
        "            cv2.rectangle(roi_color, (ex, ey), (ex + ew, ey + eh), (0, 255, 0), 2)\n",
        "    cv2_imshow(img_2)"
      ]
    },
    {
      "cell_type": "markdown",
      "metadata": {
        "id": "wAf5VzHTJhMP"
      },
      "source": [
        "# Experiment - 2 - Playing with Images"
      ]
    },
    {
      "cell_type": "markdown",
      "metadata": {
        "id": "_o-s3-RZQeIY"
      },
      "source": [
        "## Image Filters and Effects, Image Resizing and Cropping Tool, Color Picker and Extractor, Face Mask Filter"
      ]
    },
    {
      "cell_type": "code",
      "execution_count": null,
      "metadata": {
        "colab": {
          "base_uri": "https://localhost:8080/"
        },
        "id": "OD4VAP1bQhM_",
        "outputId": "bbdeadd9-0aac-4f3e-b1fe-c9bed93573f3"
      },
      "outputs": [],
      "source": [
        "!pip install opencv-python"
      ]
    },
    {
      "cell_type": "code",
      "execution_count": null,
      "metadata": {
        "id": "W2NuVitJJkCP"
      },
      "outputs": [],
      "source": [
        "import cv2\n",
        "import numpy as np\n",
        "from google.colab.patches import cv2_imshow"
      ]
    },
    {
      "cell_type": "code",
      "execution_count": null,
      "metadata": {
        "id": "zir52Tw8QlBw"
      },
      "outputs": [],
      "source": [
        "image_path = \"/content/sample.png\""
      ]
    },
    {
      "cell_type": "code",
      "execution_count": null,
      "metadata": {
        "id": "k5ASsBBPQnc7"
      },
      "outputs": [],
      "source": [
        "img = cv2.imread(image_path)"
      ]
    },
    {
      "cell_type": "markdown",
      "metadata": {
        "id": "3XmrAVaNRCm4"
      },
      "source": [
        "### GrayScale"
      ]
    },
    {
      "cell_type": "code",
      "execution_count": null,
      "metadata": {
        "id": "tfouI5gqREiS"
      },
      "outputs": [],
      "source": [
        "def apply_grayscale(image):\n",
        "    return cv2.cvtColor(image, cv2.COLOR_BGR2GRAY)"
      ]
    },
    {
      "cell_type": "markdown",
      "metadata": {
        "id": "F2rL02xQRFEq"
      },
      "source": [
        "### Sepia Effect"
      ]
    },
    {
      "cell_type": "code",
      "execution_count": null,
      "metadata": {
        "id": "cgttvbH8RJVS"
      },
      "outputs": [],
      "source": [
        "def apply_sepia(image):\n",
        "    kernel = np.array([[0.393, 0.769, 0.189],\n",
        "                       [0.349, 0.686, 0.168],\n",
        "                       [0.272, 0.534, 0.131]])\n",
        "    return cv2.transform(image, kernel)"
      ]
    },
    {
      "cell_type": "markdown",
      "metadata": {
        "id": "CEHrrtZ6RKKZ"
      },
      "source": [
        "### Negative Effect"
      ]
    },
    {
      "cell_type": "code",
      "execution_count": null,
      "metadata": {
        "id": "EbszKSN3RJ7R"
      },
      "outputs": [],
      "source": [
        "def apply_negative(image):\n",
        "    return cv2.bitwise_not(image)"
      ]
    },
    {
      "cell_type": "markdown",
      "metadata": {
        "id": "J__6sCIdROZ7"
      },
      "source": [
        "### Blur Effect"
      ]
    },
    {
      "cell_type": "code",
      "execution_count": null,
      "metadata": {
        "id": "NGYUrNWgRODS"
      },
      "outputs": [],
      "source": [
        "def apply_blur(image, ksize=(5, 5)):\n",
        "    return cv2.GaussianBlur(image, ksize, 0)"
      ]
    },
    {
      "cell_type": "markdown",
      "metadata": {
        "id": "l8rrtW7VRWKN"
      },
      "source": [
        "### Edge Detection"
      ]
    },
    {
      "cell_type": "code",
      "execution_count": null,
      "metadata": {
        "id": "ZnyrCtU0R_IJ"
      },
      "outputs": [],
      "source": [
        "def apply_edge_detection(image):\n",
        "    return cv2.Canny(image, 100, 200)"
      ]
    },
    {
      "cell_type": "markdown",
      "metadata": {
        "id": "0mpJqlF2SCrZ"
      },
      "source": [
        "### Cartoonify Image"
      ]
    },
    {
      "cell_type": "code",
      "execution_count": null,
      "metadata": {
        "id": "FygqKfzlSEMB"
      },
      "outputs": [],
      "source": [
        "def apply_cartoonify(image):\n",
        "    gray = cv2.cvtColor(image, cv2.COLOR_BGR2GRAY)\n",
        "    gray = cv2.medianBlur(gray, 5)\n",
        "    edges = cv2.adaptiveThreshold(gray, 255, cv2.ADAPTIVE_THRESH_MEAN_C, cv2.THRESH_BINARY, 9, 9)\n",
        "    color = cv2.bilateralFilter(image, 9, 300, 300)\n",
        "    return cv2.bitwise_and(color, color, mask=edges)"
      ]
    },
    {
      "cell_type": "markdown",
      "metadata": {
        "id": "QQ2vWwPCSKlU"
      },
      "source": [
        "### Resizing"
      ]
    },
    {
      "cell_type": "code",
      "execution_count": null,
      "metadata": {
        "id": "IfUWmlZISM1j"
      },
      "outputs": [],
      "source": [
        "def resize_image(image, width=500):\n",
        "    aspect_ratio = width / float(image.shape[1])\n",
        "    height = int(image.shape[0] * aspect_ratio)\n",
        "    return cv2.resize(image, (width, height))"
      ]
    },
    {
      "cell_type": "markdown",
      "metadata": {
        "id": "3q4YkyiXSPYi"
      },
      "source": [
        "### Cropping"
      ]
    },
    {
      "cell_type": "code",
      "execution_count": null,
      "metadata": {
        "id": "zX43dEucSP9h"
      },
      "outputs": [],
      "source": [
        "def crop_image(image):\n",
        "    height, width = image.shape[:2]\n",
        "    size = min(height, width)\n",
        "    center_x, center_y = width // 2, height // 2\n",
        "    cropped = image[center_y - size // 2:center_y + size // 2, center_x - size // 2:center_x + size // 2]\n",
        "    return cropped"
      ]
    },
    {
      "cell_type": "markdown",
      "metadata": {
        "id": "NX1Bk_OoSVJv"
      },
      "source": [
        "### Rotation"
      ]
    },
    {
      "cell_type": "code",
      "execution_count": null,
      "metadata": {
        "id": "fB-amtBtSUaG"
      },
      "outputs": [],
      "source": [
        "def rotate_image(image, angle=45):\n",
        "    height, width = image.shape[:2]\n",
        "    center = (width // 2, height // 2)\n",
        "    matrix = cv2.getRotationMatrix2D(center, angle, 1)\n",
        "    rotated = cv2.warpAffine(image, matrix, (width, height))\n",
        "    return rotated"
      ]
    },
    {
      "cell_type": "markdown",
      "metadata": {
        "id": "knSRpRU-TUG8"
      },
      "source": [
        "### Driver Codes"
      ]
    },
    {
      "cell_type": "code",
      "execution_count": null,
      "metadata": {
        "id": "vOX5RMDRTVmR"
      },
      "outputs": [],
      "source": [
        "grayscale_img = apply_grayscale(img)\n",
        "sepia_img = apply_sepia(img)\n",
        "negative_img = apply_negative(img)\n",
        "blur_img = apply_blur(img)\n",
        "edges_img = apply_edge_detection(img)\n",
        "cartoon_img = apply_cartoonify(img)\n",
        "resized_img = resize_image(img)\n",
        "cropped_img = crop_image(img)\n",
        "rotated_img = rotate_image(img)"
      ]
    },
    {
      "cell_type": "code",
      "execution_count": null,
      "metadata": {
        "colab": {
          "background_save": true,
          "base_uri": "https://localhost:8080/",
          "height": 1000
        },
        "id": "62uAMg2cYf07",
        "outputId": "bf0acef5-295f-4ef4-8f07-f1b0d4c43c5e"
      },
      "outputs": [],
      "source": [
        "cv2_imshow(grayscale_img)\n",
        "cv2_imshow(sepia_img)\n",
        "cv2_imshow(negative_img)\n",
        "cv2_imshow(blur_img)\n",
        "cv2_imshow(edges_img)\n",
        "cv2_imshow(cartoon_img)\n",
        "cv2_imshow(resized_img)\n",
        "cv2_imshow(cropped_img)\n",
        "cv2_imshow(rotated_img)"
      ]
    },
    {
      "cell_type": "markdown",
      "metadata": {
        "id": "DqjI-8boNOQl"
      },
      "source": [
        "# Experiment - 3 - Playing with Image - II"
      ]
    },
    {
      "cell_type": "markdown",
      "metadata": {
        "id": "YVb4qWLPNUi0"
      },
      "source": [
        "## Image Resolution and Interpolation Studies"
      ]
    },
    {
      "cell_type": "code",
      "execution_count": null,
      "metadata": {
        "colab": {
          "base_uri": "https://localhost:8080/",
          "height": 428
        },
        "id": "NipEaaZLNU93",
        "outputId": "2a6834c1-a01f-42b5-ec96-22c38d51c2c6"
      },
      "outputs": [],
      "source": [
        "import cv2\n",
        "import numpy as np\n",
        "import matplotlib.pyplot as plt\n",
        "\n",
        "image = cv2.imread('/content/image.jpg')\n",
        "\n",
        "image_rgb = cv2.cvtColor(image, cv2.COLOR_BGR2RGB)\n",
        "\n",
        "R = image_rgb[:, :, 0]\n",
        "G = image_rgb[:, :, 1]\n",
        "B = image_rgb[:, :, 2]\n",
        "\n",
        "gray_image = 0.299 * R + 0.587 * G + 0.114 * B\n",
        "gray_image = gray_image.astype(np.uint8)\n",
        "\n",
        "plt.imshow(gray_image, cmap='gray')\n",
        "plt.title(\"Grayscale Image (Formula)\")\n",
        "plt.axis('off')\n",
        "plt.show()"
      ]
    },
    {
      "cell_type": "code",
      "execution_count": null,
      "metadata": {
        "colab": {
          "base_uri": "https://localhost:8080/",
          "height": 1000
        },
        "id": "TtAgo6_aP7jR",
        "outputId": "0a01df07-5769-4d2d-8217-82ad77c6f1a9"
      },
      "outputs": [],
      "source": [
        "import numpy as np\n",
        "import cv2\n",
        "import matplotlib.pyplot as plt\n",
        "\n",
        "image = cv2.imread('/content/image.jpg', cv2.IMREAD_GRAYSCALE)\n",
        "\n",
        "def reduce_intensity_resolution(image, bits):\n",
        "    max_intensity = 2**bits - 1\n",
        "    return np.uint8((image / 256) * max_intensity)\n",
        "\n",
        "bit_depths = [7, 6, 5, 4, 3, 2]\n",
        "for bits in bit_depths:\n",
        "    reduced_image = reduce_intensity_resolution(image, bits)\n",
        "    plt.imshow(reduced_image, cmap='gray')\n",
        "    plt.title(f\"{bits}-bit Image\")\n",
        "    plt.axis('off')\n",
        "    plt.show()\n"
      ]
    },
    {
      "cell_type": "code",
      "execution_count": null,
      "metadata": {
        "colab": {
          "base_uri": "https://localhost:8080/",
          "height": 1000
        },
        "id": "40CXp1rEQiq2",
        "outputId": "22f1adce-0f81-439c-8091-ca7430d231ac"
      },
      "outputs": [],
      "source": [
        "import cv2\n",
        "import matplotlib.pyplot as plt\n",
        "\n",
        "image = cv2.imread('/content/penguin.jpg', cv2.IMREAD_GRAYSCALE)\n",
        "\n",
        "def resize_image(image, size):\n",
        "    return cv2.resize(image, (size, size), interpolation=cv2.INTER_LINEAR)\n",
        "\n",
        "sizes = [256, 128, 64, 32]\n",
        "for size in sizes:\n",
        "    resized_image = resize_image(image, size)\n",
        "    plt.imshow(resized_image, cmap='gray')\n",
        "    plt.title(f\"{size}x{size} Image\")\n",
        "    plt.axis('off')\n",
        "    plt.show()\n",
        "    cv2.imwrite(f'{size}x{size}_image.jpg', resized_image)\n"
      ]
    },
    {
      "cell_type": "code",
      "execution_count": null,
      "metadata": {
        "colab": {
          "base_uri": "https://localhost:8080/",
          "height": 1000
        },
        "id": "WHQnmK9ORTzt",
        "outputId": "0020b76b-38a8-4406-d73d-a3dbf0f0b2b0"
      },
      "outputs": [],
      "source": [
        "import cv2\n",
        "import matplotlib.pyplot as plt\n",
        "\n",
        "image = cv2.imread('/content/sunset.jpg', cv2.IMREAD_GRAYSCALE)\n",
        "\n",
        "def upscale_image(image, new_size, interpolation_method):\n",
        "    return cv2.resize(image, (new_size, new_size), interpolation=interpolation_method)\n",
        "interpolation_methods = {\n",
        "    'Nearest Neighbor': cv2.INTER_NEAREST,\n",
        "    'Bilinear': cv2.INTER_LINEAR,\n",
        "    'Bicubic': cv2.INTER_CUBIC\n",
        "}\n",
        "\n",
        "sizes = [256, 512]\n",
        "for size in sizes:\n",
        "    for method_name, method in interpolation_methods.items():\n",
        "        upscaled_image = upscale_image(image, size, method)\n",
        "        plt.imshow(upscaled_image, cmap='gray')\n",
        "        plt.title(f\"{size}x{size} Image with {method_name} Interpolation\")\n",
        "        plt.axis('off')\n",
        "        plt.show()\n",
        "        cv2.imwrite(f'{size}x{size}_{method_name}_interpolation.jpg', upscaled_image)\n"
      ]
    },
    {
      "cell_type": "markdown",
      "metadata": {
        "id": "k2C4W8dkm8-P"
      },
      "source": [
        "# Experiment - 4 - Filters and Blurs"
      ]
    },
    {
      "cell_type": "markdown",
      "metadata": {
        "id": "KmonWk6DrAxs"
      },
      "source": [
        "## Filtering with a Box Filter with Different Kernel Sizes"
      ]
    },
    {
      "cell_type": "code",
      "execution_count": null,
      "metadata": {
        "colab": {
          "base_uri": "https://localhost:8080/",
          "height": 207
        },
        "id": "FEuJbUXlnFZc",
        "outputId": "d5469d6a-7828-4461-f25a-694e92e33d7c"
      },
      "outputs": [],
      "source": [
        "import cv2\n",
        "import numpy as np\n",
        "import matplotlib.pyplot as plt\n",
        "\n",
        "\n",
        "image = cv2.imread('sample.jpeg', cv2.IMREAD_GRAYSCALE)\n",
        "\n",
        "\n",
        "kernel_sizes = [3, 5, 7, 9, 11, 13, 15]\n",
        "filtered_images = []\n",
        "\n",
        "for size in kernel_sizes:\n",
        "    kernel = np.ones((size, size), np.float32) / (size * size)\n",
        "    filtered = cv2.filter2D(image, -1, kernel)\n",
        "    filtered_images.append(filtered)\n",
        "\n",
        "plt.figure(figsize=(12, 6))\n",
        "for i, filtered in enumerate(filtered_images):\n",
        "    plt.subplot(1, len(filtered_images), i + 1)\n",
        "    plt.title(f\"Kernel: {kernel_sizes[i]}x{kernel_sizes[i]}\")\n",
        "    plt.imshow(filtered, cmap='gray')\n",
        "    plt.axis('off')\n",
        "plt.show()"
      ]
    },
    {
      "cell_type": "markdown",
      "metadata": {
        "id": "aXfIle_50xeF"
      },
      "source": [
        "## Simulate a Defocus Blurred Image"
      ]
    },
    {
      "cell_type": "code",
      "execution_count": null,
      "metadata": {
        "colab": {
          "base_uri": "https://localhost:8080/",
          "height": 1000
        },
        "id": "_UkcAu7h0yN8",
        "outputId": "d871a4b7-777b-4ceb-e748-ecd4d10e622e"
      },
      "outputs": [],
      "source": [
        "image = cv2.imread('sample.jpeg', cv2.IMREAD_GRAYSCALE)\n",
        "\n",
        "\n",
        "def circular_kernel(radius):\n",
        "    y, x = np.ogrid[-radius:radius+1, -radius:radius+1]\n",
        "    mask = x**2 + y**2 <= radius**2\n",
        "    kernel = np.zeros_like(mask, dtype=np.float32)\n",
        "    kernel[mask] = 1\n",
        "    kernel /= kernel.sum()\n",
        "    return kernel\n",
        "\n",
        "radius = [20, 25, 30, 35, 40, 45]\n",
        "\n",
        "for rad in radius:\n",
        "  kernel = circular_kernel(rad)\n",
        "  blurred_image = cv2.filter2D(image, -1, kernel)\n",
        "\n",
        "\n",
        "  plt.figure(figsize=(6, 6))\n",
        "  plt.title(f\"Defocus Blur with Radius {rad}\")\n",
        "  plt.imshow(blurred_image, cmap='gray')\n",
        "  plt.axis('off')\n",
        "  plt.show()\n"
      ]
    },
    {
      "cell_type": "markdown",
      "metadata": {
        "id": "cAWH1BvH25ds"
      },
      "source": [
        "## Motion Blur - Use Your Own Kernel & Blur Image"
      ]
    },
    {
      "cell_type": "code",
      "execution_count": null,
      "metadata": {
        "colab": {
          "base_uri": "https://localhost:8080/",
          "height": 1000
        },
        "id": "GGuWwvGxWBkg",
        "outputId": "cca2f91a-0623-408f-e80f-7471c7d86e0f"
      },
      "outputs": [],
      "source": [
        "\n",
        "image = cv2.imread('sample.jpeg', cv2.IMREAD_GRAYSCALE)\n",
        "\n",
        "def motion_blur_kernel(size, angle):\n",
        "    kernel = np.zeros((size, size), dtype=np.float32)\n",
        "    mid = size // 2\n",
        "    if angle == 0:\n",
        "        kernel[mid, :] = 1\n",
        "    elif angle == 90:\n",
        "        kernel[:, mid] = 1\n",
        "    elif angle == 45:\n",
        "        np.fill_diagonal(kernel, 1)\n",
        "    else:\n",
        "        raise ValueError(\"Only angles 0, 90, and 45 are supported\")\n",
        "    kernel /= kernel.sum()\n",
        "    return kernel\n",
        "\n",
        "kernel_size = [35, 45, 55, 65]\n",
        "angle = 0\n",
        "for ker in kernel_size:\n",
        "  kernel = motion_blur_kernel(ker, angle)\n",
        "  motion_blurred_image = cv2.filter2D(image, -1, kernel)\n",
        "\n",
        "  plt.figure(figsize=(6, 6))\n",
        "  plt.title(f\"Motion Blur with Kernel Size {ker}, Angle {angle}°\")\n",
        "  plt.imshow(motion_blurred_image, cmap='gray')\n",
        "  plt.axis('off')\n",
        "  plt.show()\n"
      ]
    },
    {
      "cell_type": "markdown",
      "metadata": {
        "id": "3IpecOBqh-3R"
      },
      "source": [
        "## Correlation vs Convolution"
      ]
    },
    {
      "cell_type": "code",
      "execution_count": null,
      "metadata": {
        "colab": {
          "base_uri": "https://localhost:8080/",
          "height": 521
        },
        "id": "CgTZaKwJh_te",
        "outputId": "020b90c2-4d38-4ee2-99cb-e3a7e35f3dca"
      },
      "outputs": [],
      "source": [
        "from scipy import ndimage\n",
        "\n",
        "image = cv2.imread('sample.jpeg', 0)\n",
        "\n",
        "kernel = np.array([[1,1,1],[1,1,0],[1,0,0]])\n",
        "\n",
        "#convolved_image = cv2.filter2D(image, -1, kernel)\n",
        "convolved_image = ndimage.convolve(image, kernel, mode='constant', cval=1.0)\n",
        "\n",
        "correlated_image = cv2.filter2D(image, -1, kernel)\n",
        "#correlated_image = cv2.filter2D(image, -1, np.flip(kernel))\n",
        "\n",
        "\n",
        "plt.figure(figsize=(12, 6))\n",
        "plt.subplot(1, 2, 1)\n",
        "plt.title(\"Convolution\")\n",
        "plt.imshow(convolved_image, cmap='gray')\n",
        "plt.axis('off')\n",
        "\n",
        "plt.subplot(1, 2, 2)\n",
        "plt.title(\"Correlation\")\n",
        "plt.imshow(correlated_image, cmap='gray')\n",
        "plt.axis('off')\n",
        "plt.show()\n"
      ]
    },
    {
      "cell_type": "markdown",
      "metadata": {
        "id": "DtcSxYu_15Y5"
      },
      "source": [
        "## Separable Filters"
      ]
    },
    {
      "cell_type": "code",
      "execution_count": null,
      "metadata": {
        "colab": {
          "base_uri": "https://localhost:8080/",
          "height": 415
        },
        "id": "ahlj9alc19lR",
        "outputId": "a475845f-4033-4a07-88b2-a346f9d17af0"
      },
      "outputs": [],
      "source": [
        "image = cv2.imread('sample.jpeg', 0)\n",
        "\n",
        "\n",
        "def gaussian_kernel(size, sigma):\n",
        "    k = cv2.getGaussianKernel(size, sigma)\n",
        "    kernel_2d = np.outer(k, k)\n",
        "    return kernel_2d\n",
        "\n",
        "size = 55\n",
        "sigma = 15.0\n",
        "\n",
        "\n",
        "kernel_2d = gaussian_kernel(size, sigma)\n",
        "filter_x = cv2.getGaussianKernel(size, sigma)\n",
        "filter_y = filter_x.T  # Transpose for vertical filtering\n",
        "\n",
        "blur_x = cv2.filter2D(image, -1, filter_x)\n",
        "blur_y = cv2.filter2D(blur_x, -1, filter_y)\n",
        "\n",
        "gaussian_blur = cv2.filter2D(image, -1, kernel_2d)\n",
        "\n",
        "plt.figure(figsize=(12, 6))\n",
        "plt.subplot(1, 3, 1)\n",
        "plt.title(\"Blur in X\")\n",
        "plt.imshow(blur_x, cmap='gray')\n",
        "plt.axis('off')\n",
        "\n",
        "plt.subplot(1, 3, 2)\n",
        "plt.title(\"Blur in Y\")\n",
        "plt.imshow(blur_y, cmap='gray')\n",
        "plt.axis('off')\n",
        "\n",
        "plt.subplot(1, 3, 3)\n",
        "plt.title(\"Direct 2D Gaussian Blur\")\n",
        "plt.imshow(gaussian_blur, cmap='gray')\n",
        "plt.axis('off')\n",
        "plt.show()\n"
      ]
    },
    {
      "cell_type": "markdown",
      "metadata": {
        "id": "Bh78buQMn0by"
      },
      "source": [
        "## Gaussian Distribution with Different Sigma and Mean Value as 0"
      ]
    },
    {
      "cell_type": "code",
      "execution_count": null,
      "metadata": {
        "colab": {
          "base_uri": "https://localhost:8080/",
          "height": 564
        },
        "id": "jERUCM3gnwrA",
        "outputId": "9b0f65cb-3d0c-4d2e-bc5e-38b4cad756cc"
      },
      "outputs": [],
      "source": [
        "import numpy as np\n",
        "import matplotlib.pyplot as plt\n",
        "\n",
        "mu = 0  # Mean\n",
        "sigma_values = [0.5, 1.0, 1.5, 2.0, 2.5,]\n",
        "\n",
        "x = np.linspace(-5, 5, 1000)\n",
        "\n",
        "plt.figure(figsize=(10, 6))\n",
        "for sigma in sigma_values:\n",
        "    y = 1/(sigma * np.sqrt(2 * np.pi)) * np.exp(-(x - mu)**2 / (2 * sigma**2))\n",
        "    plt.plot(x, y, label=f'Sigma = {sigma}')\n",
        "\n",
        "\n",
        "plt.title('Gaussian Distribution with Mean 0 and Different Sigma Values')\n",
        "plt.xlabel('X')\n",
        "plt.ylabel('Probability density')\n",
        "plt.legend()\n",
        "plt.grid(True)\n",
        "plt.show()\n"
      ]
    },
    {
      "cell_type": "markdown",
      "metadata": {
        "id": "QrObhuUMqFbm"
      },
      "source": [
        "# Experiment - 5 - Gaussian Kernels"
      ]
    },
    {
      "cell_type": "markdown",
      "metadata": {
        "id": "PkHj-dWbtqpq"
      },
      "source": [
        "## Filter an image using Gaussian Filter"
      ]
    },
    {
      "cell_type": "code",
      "execution_count": null,
      "metadata": {
        "colab": {
          "base_uri": "https://localhost:8080/",
          "height": 413
        },
        "id": "XEUsLqxqtqTv",
        "outputId": "0d50a747-63a3-4b81-c70e-4b84a0edf5e9"
      },
      "outputs": [],
      "source": [
        "import cv2\n",
        "import numpy as np\n",
        "import matplotlib.pyplot as plt\n",
        "\n",
        "image = cv2.imread('/content/fox_sample.jpeg', cv2.IMREAD_GRAYSCALE)\n",
        "blurred_image = cv2.GaussianBlur(image, (5, 5), 0)\n",
        "cv2.imwrite('blurred_image.jpg', blurred_image)\n",
        "plt.imshow(blurred_image, cmap='gray')\n",
        "plt.title('Gaussian Blurred Image')\n",
        "plt.show()"
      ]
    },
    {
      "cell_type": "markdown",
      "metadata": {
        "id": "Rqht2LXB1GkD"
      },
      "source": [
        "## Generating Points from Standard Normal Distribution"
      ]
    },
    {
      "cell_type": "code",
      "execution_count": null,
      "metadata": {
        "colab": {
          "base_uri": "https://localhost:8080/",
          "height": 472
        },
        "id": "0m8PHN5c1LP7",
        "outputId": "dac144c9-17fb-4f28-f4da-3df86d0240c5"
      },
      "outputs": [],
      "source": [
        "data = np.random.randn(10000)\n",
        "\n",
        "plt.hist(data, bins=50, density=True, alpha=0.6, color='g')\n",
        "plt.title(\"Histogram of Standard Normal Distribution\")\n",
        "plt.xlabel(\"Value\")\n",
        "plt.ylabel(\"Frequency\")\n",
        "plt.show()"
      ]
    },
    {
      "cell_type": "markdown",
      "metadata": {
        "id": "vHqFfNlz1RiZ"
      },
      "source": [
        "## Guassian Blurring"
      ]
    },
    {
      "cell_type": "code",
      "execution_count": null,
      "metadata": {
        "colab": {
          "base_uri": "https://localhost:8080/",
          "height": 413
        },
        "id": "nNXi9nE21RWu",
        "outputId": "fec7f150-97f1-4803-a3f2-1d5f32020172"
      },
      "outputs": [],
      "source": [
        "mean = 0\n",
        "sigma = 25\n",
        "gaussian_noise = np.random.normal(mean, sigma, image.shape)\n",
        "noisy_image = np.clip(image + gaussian_noise, 0, 255).astype(np.uint8)\n",
        "\n",
        "\n",
        "cv2.imwrite('noisy_image.jpg', noisy_image)\n",
        "plt.imshow(noisy_image, cmap='gray')\n",
        "plt.title('Image with Gaussian Noise')\n",
        "plt.show()\n"
      ]
    },
    {
      "cell_type": "markdown",
      "metadata": {
        "id": "U8C0g5qYt36n"
      },
      "source": [
        "# Experiment 6 - Histogram Equalization"
      ]
    },
    {
      "cell_type": "markdown",
      "metadata": {
        "id": "3zcRUVn2t_5i"
      },
      "source": [
        "## Obtain histogram of an image"
      ]
    },
    {
      "cell_type": "code",
      "execution_count": null,
      "metadata": {
        "colab": {
          "base_uri": "https://localhost:8080/",
          "height": 487
        },
        "id": "sBvEMNGSuhD0",
        "outputId": "76c46da1-b14c-4124-90ff-e05b87b4c5cb"
      },
      "outputs": [],
      "source": [
        "import cv2\n",
        "import numpy as np\n",
        "import matplotlib.pyplot as plt\n",
        "\n",
        "def plot_histogram(image, title, subplot_pos):\n",
        "    plt.subplot(1, 2, subplot_pos)\n",
        "    plt.hist(image.ravel(), bins=256, range=[0, 256], color='black')\n",
        "    plt.title(title)\n",
        "    plt.xlabel(\"Pixel Value\")\n",
        "    plt.ylabel(\"Frequency\")\n",
        "\n",
        "image = cv2.imread('/content/sample.jpeg', cv2.IMREAD_GRAYSCALE)\n",
        "plt.figure(figsize=(12, 5))\n",
        "plot_histogram(image, \"Histogram\", 1)\n",
        "plt.show()"
      ]
    },
    {
      "cell_type": "markdown",
      "metadata": {
        "id": "M2eBU8vcuuiu"
      },
      "source": [
        "## Perfrom Histogram Equalization"
      ]
    },
    {
      "cell_type": "code",
      "execution_count": null,
      "metadata": {
        "colab": {
          "base_uri": "https://localhost:8080/",
          "height": 487
        },
        "id": "Q6svVN1dukJH",
        "outputId": "60fae47c-aaec-4466-c3b1-2e6b015d9ae2"
      },
      "outputs": [],
      "source": [
        "image = cv2.imread('/content/sample.jpeg', cv2.IMREAD_GRAYSCALE)\n",
        "equalized_image = cv2.equalizeHist(image)\n",
        "plt.figure(figsize=(12, 5))\n",
        "plot_histogram(equalized_image, \"Equalized Histogram\", 2)\n",
        "plt.show()"
      ]
    },
    {
      "cell_type": "markdown",
      "metadata": {
        "id": "06e8A_LpvA6m"
      },
      "source": [
        "## Comparison between Original and Equalized Images"
      ]
    },
    {
      "cell_type": "code",
      "execution_count": null,
      "metadata": {
        "colab": {
          "base_uri": "https://localhost:8080/",
          "height": 460
        },
        "id": "tJ9Tjfcdt-Hx",
        "outputId": "2ef5e0e0-1e90-4c90-a0a8-4815b75abaeb"
      },
      "outputs": [],
      "source": [
        "import cv2\n",
        "import numpy as np\n",
        "import matplotlib.pyplot as plt\n",
        "\n",
        "def plot_histogram(image, title, subplot_pos):\n",
        "    plt.subplot(1, 2, subplot_pos)\n",
        "    plt.hist(image.ravel(), bins=256, range=[0, 256], color='black')\n",
        "    plt.title(title)\n",
        "    plt.xlabel(\"Pixel Value\")\n",
        "    plt.ylabel(\"Frequency\")\n",
        "\n",
        "\n",
        "image = cv2.imread('/content/sample.jpeg', cv2.IMREAD_GRAYSCALE)\n",
        "\n",
        "plt.figure(figsize=(12, 5))\n",
        "plot_histogram(image, \"Original Histogram\", 1)\n",
        "\n",
        "equalized_image = cv2.equalizeHist(image)\n",
        "\n",
        "plot_histogram(equalized_image, \"Equalized Histogram\", 2)\n",
        "\n",
        "plt.show()"
      ]
    },
    {
      "cell_type": "markdown",
      "metadata": {
        "id": "ezm0zSD71uxV"
      },
      "source": [
        "## Histogram Modification"
      ]
    },
    {
      "cell_type": "code",
      "execution_count": null,
      "metadata": {
        "colab": {
          "base_uri": "https://localhost:8080/",
          "height": 673
        },
        "id": "AQeuYtBU1uEH",
        "outputId": "5212fe75-ccfd-411a-e576-3be9f5936c4d"
      },
      "outputs": [],
      "source": [
        "import cv2\n",
        "import numpy as np\n",
        "import matplotlib.pyplot as plt\n",
        "\n",
        "def plot_histogram(image, title, subplot_pos):\n",
        "    plt.subplot(1, 3, subplot_pos)\n",
        "    plt.hist(image.ravel(), bins=256, range=[0, 256], color='black')\n",
        "    plt.title(title)\n",
        "    plt.xlabel(\"Pixel Value\")\n",
        "    plt.ylabel(\"Frequency\")\n",
        "\n",
        "def contrast_stretching(image):\n",
        "    min_val = np.min(image)\n",
        "    max_val = np.max(image)\n",
        "    stretched = ((image - min_val) / (max_val - min_val) * 255).astype(np.uint8)\n",
        "    return stretched\n",
        "\n",
        "def histogram_specification(image, reference):\n",
        "    image_hist, _ = np.histogram(image.flatten(), 256, [0, 256])\n",
        "    reference_hist, _ = np.histogram(reference.flatten(), 256, [0, 256])\n",
        "\n",
        "    cdf_image = np.cumsum(image_hist).astype(np.float32)\n",
        "    cdf_image /= cdf_image[-1]\n",
        "\n",
        "    cdf_reference = np.cumsum(reference_hist).astype(np.float32)\n",
        "    cdf_reference /= cdf_reference[-1]\n",
        "\n",
        "    mapping = np.interp(cdf_image, cdf_reference, np.arange(256))\n",
        "\n",
        "    matched_image = mapping[image.flatten()].reshape(image.shape).astype(np.uint8)\n",
        "    return matched_image\n",
        "\n",
        "\n",
        "image = cv2.imread('/content/sample.jpeg', cv2.IMREAD_GRAYSCALE)\n",
        "stretched_image = contrast_stretching(image)\n",
        "\n",
        "specified_image = histogram_specification(image, stretched_image)\n",
        "\n",
        "plt.figure(figsize=(15, 5))\n",
        "plot_histogram(image, \"Original Histogram\", 1)\n",
        "plot_histogram(stretched_image, \"Stretched Histogram\", 3)\n",
        "plt.show()\n",
        "\n",
        "plt.figure(figsize=(15, 5))\n",
        "plt.subplot(1, 4, 1)\n",
        "plt.imshow(image, cmap='gray')\n",
        "plt.title(\"Original Image\")\n",
        "plt.axis(\"off\")\n",
        "\n",
        "plt.subplot(1, 4, 2)\n",
        "plt.imshow(stretched_image, cmap='gray')\n",
        "plt.title(\"Contrast Stretched\")\n",
        "plt.axis(\"off\")\n",
        "\n",
        "plt.subplot(1, 4, 3)\n",
        "plt.imshow(specified_image, cmap='gray')\n",
        "plt.title(\"Histogram Specified\")\n",
        "plt.axis(\"off\")\n",
        "\n",
        "plt.show()"
      ]
    },
    {
      "cell_type": "markdown",
      "metadata": {
        "id": "6dhd_ABpEGo7"
      },
      "source": [
        "# Experiment 7 - Frequency Domain Filters"
      ]
    },
    {
      "cell_type": "code",
      "execution_count": null,
      "metadata": {
        "id": "ER8bTGowHutu"
      },
      "outputs": [],
      "source": [
        "import cv2\n",
        "import numpy as np\n",
        "import matplotlib.pyplot as plt"
      ]
    },
    {
      "cell_type": "markdown",
      "metadata": {
        "id": "AHXa3RB9HnAB"
      },
      "source": [
        "## Fourier Transforming, Filtering, Inverse Filtering"
      ]
    },
    {
      "cell_type": "code",
      "execution_count": null,
      "metadata": {
        "id": "ZizUnD6fHjeZ"
      },
      "outputs": [],
      "source": [
        "def apply_filter(image, filter_type, cutoff):\n",
        "    if len(image.shape) == 3:\n",
        "        image = cv2.cvtColor(image, cv2.COLOR_BGR2GRAY)\n",
        "\n",
        "    rows, cols = image.shape\n",
        "    crow, ccol = rows // 2, cols // 2\n",
        "\n",
        "    dft = np.fft.fft2(image)\n",
        "    dft_shift = np.fft.fftshift(dft)\n",
        "    magnitude_spectrum = np.log(1 + np.abs(dft_shift))\n",
        "\n",
        "    mask = np.zeros((rows, cols), np.float32)\n",
        "\n",
        "    for u in range(rows):\n",
        "        for v in range(cols):\n",
        "            D = np.sqrt((u - crow) ** 2 + (v - ccol) ** 2)\n",
        "            if filter_type == 'box':\n",
        "                mask[u, v] = 1 if D <= cutoff else 0\n",
        "            elif filter_type == 'gaussian':\n",
        "                mask[u, v] = np.exp(-(D**2) / (2 * (cutoff**2)))\n",
        "            elif filter_type == 'lowpass':\n",
        "                mask[u, v] = 1 if D <= cutoff else 0\n",
        "\n",
        "    filtered_dft = dft_shift * mask\n",
        "    dft_ishift = np.fft.ifftshift(filtered_dft)\n",
        "    img_back = np.fft.ifft2(dft_ishift)\n",
        "    img_back = np.abs(img_back)\n",
        "\n",
        "    return magnitude_spectrum, mask, np.log(1 + np.abs(filtered_dft)), img_back"
      ]
    },
    {
      "cell_type": "code",
      "execution_count": null,
      "metadata": {
        "id": "Hjy-zWVhFtkt"
      },
      "outputs": [],
      "source": [
        "image = cv2.imread('/content/sample.jpg', cv2.IMREAD_GRAYSCALE)\n",
        "filters = ['box', 'gaussian', 'lowpass']\n",
        "cutoff = 50"
      ]
    },
    {
      "cell_type": "code",
      "execution_count": null,
      "metadata": {
        "colab": {
          "base_uri": "https://localhost:8080/",
          "height": 652
        },
        "id": "hAZVEE9JHzgy",
        "outputId": "a3e3df56-c6ce-4ff6-d72d-fe4c9516ca3e"
      },
      "outputs": [],
      "source": [
        "fig, axs = plt.subplots(len(filters), 4, figsize=(16, 12))\n",
        "\n",
        "for i, filter_type in enumerate(filters):\n",
        "    F_uv, H_uv, G_uv, result = apply_filter(image, filter_type, cutoff)\n",
        "\n",
        "    axs[i, 0].imshow(F_uv, cmap='gray')\n",
        "    axs[i, 0].set_title(f'F(u,v) - {filter_type}')\n",
        "    axs[i, 0].axis('off')\n",
        "\n",
        "    axs[i, 1].imshow(H_uv, cmap='gray')\n",
        "    axs[i, 1].set_title(f'H(u,v) - {filter_type}')\n",
        "    axs[i, 1].axis('off')\n",
        "\n",
        "    axs[i, 2].imshow(G_uv, cmap='gray')\n",
        "    axs[i, 2].set_title(f'G(u,v) - {filter_type}')\n",
        "    axs[i, 2].axis('off')\n",
        "\n",
        "    axs[i, 3].imshow(result, cmap='gray')\n",
        "    axs[i, 3].set_title(f'Inverse Transform - {filter_type}')\n",
        "    axs[i, 3].axis('off')\n",
        "\n",
        "plt.tight_layout()\n",
        "plt.show()"
      ]
    },
    {
      "cell_type": "markdown",
      "metadata": {
        "id": "xVwL3ArsvmSI"
      },
      "source": [
        "# Experiment - 8 - Discrete Wavelet Transformation & Discrete Cosine Transformation/Compression"
      ]
    },
    {
      "cell_type": "markdown",
      "metadata": {
        "id": "3FDVTn0rwbxM"
      },
      "source": [
        "## Manual DCT Calculation"
      ]
    },
    {
      "cell_type": "code",
      "execution_count": null,
      "metadata": {
        "colab": {
          "base_uri": "https://localhost:8080/"
        },
        "id": "AgAg4TMowbVl",
        "outputId": "be062fe8-62d8-4d30-bb64-34600874c8b1"
      },
      "outputs": [],
      "source": [
        "import numpy as np\n",
        "from scipy.fftpack import dct\n",
        "\n",
        "x = np.array([11, 22, 33, 44])\n",
        "N = len(x)\n",
        "\n",
        "X_dct_manual = np.zeros(N)\n",
        "for k in range(N):\n",
        "    sum_val = 0\n",
        "    for n in range(N):\n",
        "        sum_val += x[n] * np.cos(np.pi * k * (2*n + 1) / (2 * N))\n",
        "\n",
        "    if k == 0:\n",
        "        X_dct_manual[k] = sum_val * np.sqrt(1 / N)\n",
        "    else:\n",
        "        X_dct_manual[k] = sum_val * np.sqrt(2 / N)\n",
        "\n",
        "X_dct_scipy = dct(x, type=2, norm='ortho')\n",
        "\n",
        "print(\"DCT (Manual Calculation):\", X_dct_manual)\n",
        "print(\"DCT (SciPy Implementation):\", X_dct_scipy)"
      ]
    },
    {
      "cell_type": "code",
      "execution_count": null,
      "metadata": {
        "colab": {
          "base_uri": "https://localhost:8080/"
        },
        "id": "Bfj1aZJxG59w",
        "outputId": "58bd8cb5-b878-4308-b867-c034f1b83bf9"
      },
      "outputs": [],
      "source": [
        "import numpy as np\n",
        "from scipy.fftpack import dct, idct\n",
        "\n",
        "x = np.array([11, 22, 33, 44])\n",
        "N = len(x)\n",
        "\n",
        "X_dct_manual = np.zeros(N)\n",
        "for k in range(N):\n",
        "    sum_val = 0\n",
        "    for n in range(N):\n",
        "        sum_val += x[n] * np.cos(np.pi * k * (2*n + 1) / (2 * N))\n",
        "\n",
        "    if k == 0:\n",
        "        X_dct_manual[k] = sum_val * np.sqrt(1 / N)\n",
        "    else:\n",
        "        X_dct_manual[k] = sum_val * np.sqrt(2 / N)\n",
        "\n",
        "X_dct_scipy = dct(x, type=2, norm='ortho')\n",
        "\n",
        "print(\"DCT (Manual):\", X_dct_manual)\n",
        "print(\"DCT (SciPy):\", X_dct_scipy)\n",
        "\n",
        "x_reconstructed_full = idct(X_dct_scipy, type=2, norm='ortho')\n",
        "print(\"Inverse DCT: \", x_reconstructed_full)\n",
        "\n",
        "X_dct_scipy_lowpass = X_dct_scipy.copy()\n",
        "X_dct_scipy_lowpass[2:] = 0\n",
        "\n",
        "print(\"Modified DCT\", X_dct_scipy_lowpass)\n",
        "\n",
        "x_reconstructed_lowpass = idct(X_dct_scipy_lowpass, type=2, norm='ortho')\n",
        "print(\"Inverse DCT:\", x_reconstructed_lowpass)\n"
      ]
    },
    {
      "cell_type": "markdown",
      "metadata": {
        "id": "Pfvz60aqzS48"
      },
      "source": [
        "## Verify DCT's Energy Compaction Property"
      ]
    },
    {
      "cell_type": "markdown",
      "metadata": {
        "id": "rgxUQU1jzWJ5"
      },
      "source": [
        "### Given Sequence"
      ]
    },
    {
      "cell_type": "code",
      "execution_count": null,
      "metadata": {
        "colab": {
          "base_uri": "https://localhost:8080/"
        },
        "id": "irwFx6QxzTp3",
        "outputId": "5f01ccaf-dfeb-4c1d-843b-8b672f453517"
      },
      "outputs": [],
      "source": [
        "energy_x = np.sum(x**2)\n",
        "\n",
        "energy_X_dct = np.sum(X_dct_scipy**2)\n",
        "\n",
        "print(\"Energy of original sequence:\", energy_x)\n",
        "print(\"Energy of DCT coefficients:\", energy_X_dct)\n"
      ]
    },
    {
      "cell_type": "markdown",
      "metadata": {
        "id": "YridAGhUzgPW"
      },
      "source": [
        "### For an Image"
      ]
    },
    {
      "cell_type": "code",
      "execution_count": null,
      "metadata": {
        "colab": {
          "base_uri": "https://localhost:8080/",
          "height": 498
        },
        "id": "NmoZvnWbzh5N",
        "outputId": "fb719955-1ad3-4fcd-e811-c5c296ab8bde"
      },
      "outputs": [],
      "source": [
        "import cv2\n",
        "import numpy as np\n",
        "import matplotlib.pyplot as plt\n",
        "\n",
        "image = cv2.imread(\"sample.jpeg\", cv2.IMREAD_GRAYSCALE)\n",
        "\n",
        "\n",
        "energy_spatial = np.sum(image.astype(np.float32) ** 2)\n",
        "\n",
        "\n",
        "dct_image = cv2.dct(np.float32(image))\n",
        "\n",
        "energy_dct_image = np.sum(dct_image ** 2)\n",
        "\n",
        "print(\"Energy in Spatial Domain:\", energy_spatial)\n",
        "print(\"Energy in DCT Domain:\", energy_dct_image)\n",
        "print(\"Energy Retention Ratio (Image):\", energy_dct_image / energy_spatial)\n",
        "\n",
        "plt.figure(figsize=(10, 5))\n",
        "\n",
        "plt.subplot(1, 2, 1)\n",
        "plt.imshow(image, cmap='gray')\n",
        "plt.title(\"Original Image\")\n",
        "plt.axis(\"off\")\n",
        "\n",
        "plt.subplot(1, 2, 2)\n",
        "plt.imshow(np.log1p(np.abs(dct_image)), cmap='gray')\n",
        "plt.title(\"DCT Coefficients (Log Scale)\")\n",
        "plt.axis(\"off\")\n",
        "\n",
        "plt.show()"
      ]
    },
    {
      "cell_type": "code",
      "execution_count": null,
      "metadata": {
        "colab": {
          "base_uri": "https://localhost:8080/",
          "height": 575
        },
        "id": "IZB-Z4eoL-m8",
        "outputId": "a2c36c85-4373-4f44-a5c5-c31aea1e6137"
      },
      "outputs": [],
      "source": [
        "import cv2\n",
        "import numpy as np\n",
        "import matplotlib.pyplot as plt\n",
        "\n",
        "image = cv2.imread(\"sample.jpeg\", cv2.IMREAD_GRAYSCALE)\n",
        "image = np.float32(image)\n",
        "\n",
        "\n",
        "dct_image = cv2.dct(image)\n",
        "\n",
        "idct_image_full = cv2.idct(dct_image)\n",
        "\n",
        "dct_image_modified = dct_image.copy()\n",
        "h, w = dct_image.shape\n",
        "dct_image_modified[h//4:3*h//4, w//4:3*w//4] = 0\n",
        "\n",
        "idct_image_modified = cv2.idct(dct_image_modified)\n",
        "\n",
        "energy_spatial = np.sum(image ** 2)\n",
        "energy_dct = np.sum(dct_image ** 2)\n",
        "energy_dct_modified = np.sum(dct_image_modified ** 2)\n",
        "\n",
        "print(\"Energy in Spatial Domain:\", energy_spatial)\n",
        "print(\"Energy in DCT Domain (Full):\", energy_dct)\n",
        "print(\"Energy in Modified DCT:\", energy_dct_modified)\n",
        "\n",
        "plt.figure(figsize=(12, 6))\n",
        "\n",
        "plt.subplot(2, 2, 1)\n",
        "plt.imshow(image, cmap='gray')\n",
        "plt.title(\"Original Image\")\n",
        "plt.axis(\"off\")\n",
        "\n",
        "plt.subplot(2, 2, 2)\n",
        "plt.imshow(np.log1p(np.abs(dct_image)), cmap='gray')\n",
        "plt.title(\"DCT Coefficients (Log Scale)\")\n",
        "plt.axis(\"off\")\n",
        "\n",
        "plt.subplot(2, 2, 3)\n",
        "plt.imshow(idct_image_full, cmap='gray')\n",
        "plt.title(\"Reconstructed Image (Full DCT)\")\n",
        "plt.axis(\"off\")\n",
        "\n",
        "plt.subplot(2, 2, 4)\n",
        "plt.imshow(idct_image_modified, cmap='gray')\n",
        "plt.title(\"Reconstructed Image (Modified DCT)\")\n",
        "plt.axis(\"off\")\n",
        "\n",
        "plt.show()\n"
      ]
    },
    {
      "cell_type": "markdown",
      "metadata": {
        "id": "a7nld6EM-j-D"
      },
      "source": [
        "## DFT vs DCT"
      ]
    },
    {
      "cell_type": "code",
      "execution_count": null,
      "metadata": {
        "colab": {
          "base_uri": "https://localhost:8080/"
        },
        "id": "3QcQTuBa-x8Y",
        "outputId": "9a5444a7-c1b3-4a76-b7db-e856cdd5f5a5"
      },
      "outputs": [],
      "source": [
        "from scipy.fft import fft\n",
        "\n",
        "\n",
        "X_dft = fft(x)\n",
        "\n",
        "print(\"DFT Coefficients:\", X_dft)\n",
        "print(\"DCT Coefficients:\", X_dct_scipy)\n",
        "\n",
        "energy_dft = np.sum(np.abs(X_dft)**2)\n",
        "print(\"Energy of DFT Coefficients:\", energy_dft)\n"
      ]
    },
    {
      "cell_type": "markdown",
      "metadata": {
        "id": "baw-9ENG_CZK"
      },
      "source": [
        "## DWT Implementation"
      ]
    },
    {
      "cell_type": "code",
      "execution_count": null,
      "metadata": {
        "colab": {
          "base_uri": "https://localhost:8080/"
        },
        "id": "tNKQWi7M_WxM",
        "outputId": "e6884eee-0c23-4a7e-cde9-abfe24bcf394"
      },
      "outputs": [],
      "source": [
        "!pip install PyWavelets"
      ]
    },
    {
      "cell_type": "code",
      "execution_count": null,
      "metadata": {
        "colab": {
          "base_uri": "https://localhost:8080/",
          "height": 507
        },
        "id": "-97Sufl2_Hmm",
        "outputId": "50e35835-fd3b-47b6-83c9-3731ec890f69"
      },
      "outputs": [],
      "source": [
        "import cv2\n",
        "import numpy as np\n",
        "import pywt\n",
        "import matplotlib.pyplot as plt\n",
        "\n",
        "image = cv2.imread('sample.jpeg', cv2.IMREAD_GRAYSCALE)\n",
        "\n",
        "\n",
        "coeffs2 = pywt.dwt2(image, 'haar')\n",
        "LL, (LH, HL, HH) = coeffs2\n",
        "\n",
        "plt.figure(figsize=(10, 5))\n",
        "\n",
        "plt.subplot(2, 2, 1)\n",
        "plt.imshow(LL, cmap='gray')\n",
        "plt.title(\"Approximation (LL)\")\n",
        "\n",
        "plt.subplot(2, 2, 2)\n",
        "plt.imshow(LH, cmap='gray')\n",
        "plt.title(\"Horizontal Details (LH)\")\n",
        "\n",
        "plt.subplot(2, 2, 3)\n",
        "plt.imshow(HL, cmap='gray')\n",
        "plt.title(\"Vertical Details (HL)\")\n",
        "\n",
        "plt.subplot(2, 2, 4)\n",
        "plt.imshow(HH, cmap='gray')\n",
        "plt.title(\"Diagonal Details (HH)\")\n",
        "\n",
        "plt.tight_layout()\n",
        "plt.show()\n"
      ]
    },
    {
      "cell_type": "markdown",
      "metadata": {
        "id": "khnsiIRN_d8-"
      },
      "source": [
        "## Implementation of DCT"
      ]
    },
    {
      "cell_type": "code",
      "execution_count": null,
      "metadata": {
        "colab": {
          "base_uri": "https://localhost:8080/",
          "height": 468
        },
        "id": "pGITTwco_gsB",
        "outputId": "bf0cb426-be8e-4789-b80b-5a9f9f4e4bd6"
      },
      "outputs": [],
      "source": [
        "import cv2\n",
        "import numpy as np\n",
        "import matplotlib.pyplot as plt\n",
        "from scipy.fftpack import dct, idct\n",
        "\n",
        "image = cv2.imread('sample.jpeg', cv2.IMREAD_GRAYSCALE)\n",
        "\n",
        "\n",
        "dct_image = dct(dct(image.T, norm='ortho').T, norm='ortho')\n",
        "\n",
        "dct_visual = np.log1p(np.abs(dct_image))\n",
        "dct_visual = dct_visual / np.max(dct_visual)\n",
        "\n",
        "plt.figure(figsize=(10, 5))\n",
        "\n",
        "plt.subplot(1, 2, 1)\n",
        "plt.imshow(image, cmap='gray')\n",
        "plt.title(\"Original Image\")\n",
        "\n",
        "plt.subplot(1, 2, 2)\n",
        "plt.imshow(dct_visual, cmap='gray')\n",
        "plt.title(\"DCT Image (Enhanced)\")\n",
        "\n",
        "plt.show()\n"
      ]
    },
    {
      "cell_type": "markdown",
      "metadata": {
        "id": "jPfpFwDP_eka"
      },
      "source": [
        "# Experiment - 9 - Denoising using DWT"
      ]
    },
    {
      "cell_type": "code",
      "execution_count": null,
      "metadata": {
        "colab": {
          "base_uri": "https://localhost:8080/"
        },
        "id": "Woc_hU7c_u0z",
        "outputId": "50b071ea-c5cc-4c7c-efd3-313a49e2a3ed"
      },
      "outputs": [],
      "source": [
        "!pip install PyWavelets"
      ]
    },
    {
      "cell_type": "code",
      "execution_count": null,
      "metadata": {
        "id": "AlYWFHm6_mcF"
      },
      "outputs": [],
      "source": [
        "import cv2\n",
        "import pywt\n",
        "import numpy as np\n",
        "import matplotlib.pyplot as plt"
      ]
    },
    {
      "cell_type": "code",
      "execution_count": null,
      "metadata": {
        "id": "vY29iRQkAXLM"
      },
      "outputs": [],
      "source": [
        "def add_gaussian_noise(image, mean=0, sigma=50):\n",
        "    noisy_image = image + np.random.normal(mean, sigma, image.shape)\n",
        "    return np.clip(noisy_image, 0, 255).astype(np.uint8)"
      ]
    },
    {
      "cell_type": "code",
      "execution_count": null,
      "metadata": {
        "id": "QsR-b74P_o-U"
      },
      "outputs": [],
      "source": [
        "def dwt_denoise(image, wavelet='haar', level=1, thresholding='soft'):\n",
        "    coeffs = pywt.wavedec2(image, wavelet, level=level)\n",
        "    cA, cD = coeffs[0], coeffs[1:]\n",
        "    sigma = np.median(np.abs(cD[-1][0])) / 0.6745\n",
        "    threshold = sigma * np.sqrt(2 * np.log(image.size))\n",
        "    def threshold_coeffs(detail_coeffs, threshold, method):\n",
        "        return [(pywt.threshold(cH, threshold, method),\n",
        "                 pywt.threshold(cV, threshold, method),\n",
        "                 pywt.threshold(cD, threshold, method)) for (cH, cV, cD) in detail_coeffs]\n",
        "\n",
        "    cD_thresh = threshold_coeffs(cD, threshold, thresholding)\n",
        "    coeffs_reconstructed = [cA] + cD_thresh\n",
        "    denoised_img = pywt.waverec2(coeffs_reconstructed, wavelet)\n",
        "    denoised_img = np.clip(denoised_img, 0, 255).astype(np.uint8)\n",
        "\n",
        "    return denoised_img"
      ]
    },
    {
      "cell_type": "code",
      "execution_count": null,
      "metadata": {
        "id": "pG5qRLsxAkR4"
      },
      "outputs": [],
      "source": [
        "def process_image(image_path, wavelet='db1', level=2, thresholding='soft'):\n",
        "    img = cv2.imread(image_path, cv2.IMREAD_GRAYSCALE)\n",
        "    if img is None:\n",
        "        raise ValueError(\"Image not found or cannot be loaded.\")\n",
        "    noisy_img = add_gaussian_noise(img)\n",
        "    denoised_img = dwt_denoise(noisy_img, wavelet, level, thresholding)\n",
        "    plt.figure(figsize=(15, 5))\n",
        "    plt.subplot(1, 3, 1)\n",
        "    plt.imshow(img, cmap='gray')\n",
        "    plt.title('Original Image')\n",
        "    plt.axis('off')\n",
        "\n",
        "    plt.subplot(1, 3, 2)\n",
        "    plt.imshow(noisy_img, cmap='gray')\n",
        "    plt.title('Noisy Image')\n",
        "    plt.axis('off')\n",
        "\n",
        "    plt.subplot(1, 3, 3)\n",
        "    plt.imshow(denoised_img, cmap='gray')\n",
        "    plt.title('Denoised Image')\n",
        "    plt.axis('off')\n",
        "\n",
        "    plt.show()\n",
        "    return noisy_img, denoised_img"
      ]
    },
    {
      "cell_type": "code",
      "execution_count": null,
      "metadata": {
        "colab": {
          "base_uri": "https://localhost:8080/",
          "height": 452
        },
        "id": "jFFzUQjN_lOA",
        "outputId": "aa78eb96-885c-4288-8728-561772e0ac9e"
      },
      "outputs": [],
      "source": [
        "process_image('sample.jpg', wavelet='db1', level=2, thresholding='soft')"
      ]
    },
    {
      "cell_type": "markdown",
      "metadata": {
        "id": "YQtGxQxE0PXh"
      },
      "source": [
        "# Experiment - 10 - Image Restoration"
      ]
    },
    {
      "cell_type": "code",
      "execution_count": null,
      "metadata": {
        "id": "QyqX7Txm_N5d"
      },
      "outputs": [],
      "source": [
        "import cv2\n",
        "import numpy as np\n",
        "import matplotlib.pyplot as plt\n",
        "from scipy.signal import wiener\n",
        "from scipy.ndimage import gaussian_filter\n",
        "from skimage.metrics import peak_signal_noise_ratio as psnr"
      ]
    },
    {
      "cell_type": "code",
      "execution_count": null,
      "metadata": {
        "id": "iuxrbwvU_PY9"
      },
      "outputs": [],
      "source": [
        "def degrade_image(image):\n",
        "    blurred = cv2.GaussianBlur(image, (3, 3), 0)\n",
        "    noise = np.random.normal(0, 10, image.shape).astype(np.uint8)\n",
        "    degraded = cv2.add(blurred, noise)\n",
        "    return blurred, degraded"
      ]
    },
    {
      "cell_type": "code",
      "execution_count": null,
      "metadata": {
        "id": "-Ax7AfhX_Z8p"
      },
      "outputs": [],
      "source": [
        "image = cv2.imread('flower.jpg', cv2.IMREAD_GRAYSCALE)\n",
        "image = cv2.resize(image, (256, 256))\n",
        "\n",
        "blurred, degraded = degrade_image(image)"
      ]
    },
    {
      "cell_type": "markdown",
      "metadata": {
        "id": "xqHafVV42VQs"
      },
      "source": [
        "## Inverse Filtering"
      ]
    },
    {
      "cell_type": "code",
      "execution_count": null,
      "metadata": {
        "id": "vam9PBIl_dUI"
      },
      "outputs": [],
      "source": [
        "def inverse_filtering(degraded, kernel):\n",
        "    H = np.fft.fft2(kernel, s=degraded.shape)\n",
        "    G = np.fft.fft2(degraded)\n",
        "    restored = np.fft.ifft2(G / (H + 20))\n",
        "    return np.abs(restored)\n",
        "\n",
        "\n",
        "kernel = cv2.getGaussianKernel(3, 0)\n",
        "kernel = np.outer(kernel, kernel)\n",
        "inverse_restored = inverse_filtering(degraded, kernel)"
      ]
    },
    {
      "cell_type": "code",
      "execution_count": null,
      "metadata": {
        "colab": {
          "base_uri": "https://localhost:8080/",
          "height": 364
        },
        "id": "9ftINCtg_nns",
        "outputId": "bee3c519-53a1-4afb-dd40-a9dea4bd4580"
      },
      "outputs": [],
      "source": [
        "fig, axes = plt.subplots(1, 4, figsize=(15, 9))\n",
        "images = [image, blurred, degraded, inverse_restored]\n",
        "titles = [\"Original\", \"Blurred\", \"Degraded\", \"Inverse\"]\n",
        "\n",
        "for i, ax in enumerate(axes.flat[:4]):\n",
        "    ax.imshow(images[i], cmap='gray')\n",
        "    ax.set_title(titles[i])\n",
        "    ax.axis('off')\n",
        "\n",
        "psnr_inv = psnr(image, inverse_restored)\n",
        "print(f\"PSNR (Inverse): {psnr_inv:.2f} dB\")"
      ]
    },
    {
      "cell_type": "markdown",
      "metadata": {
        "id": "pCW-WYdT2Wfe"
      },
      "source": [
        "## Wiener Filtering"
      ]
    },
    {
      "cell_type": "code",
      "execution_count": null,
      "metadata": {
        "id": "PHGmYKP-A6F1"
      },
      "outputs": [],
      "source": [
        "def wiener_filtering(degraded, kernel, K=1):\n",
        "    H = np.fft.fft2(kernel, s=degraded.shape)\n",
        "    G = np.fft.fft2(degraded)\n",
        "    H_conj = np.conj(H)\n",
        "    restored = np.fft.ifft2((H_conj / (H * H_conj + K)) * G)\n",
        "    return np.abs(restored)\n",
        "\n",
        "kernel = cv2.getGaussianKernel(3, 0)\n",
        "kernel = np.outer(kernel, kernel)\n",
        "wiener_restored = wiener_filtering(degraded, kernel)"
      ]
    },
    {
      "cell_type": "code",
      "execution_count": null,
      "metadata": {
        "colab": {
          "base_uri": "https://localhost:8080/",
          "height": 364
        },
        "id": "YL9jjn2UCHpq",
        "outputId": "d6d77a59-06b1-4ca9-9169-95761ecfdc4a"
      },
      "outputs": [],
      "source": [
        "fig, axes = plt.subplots(1, 4, figsize=(15, 9))\n",
        "images = [image, blurred, degraded, wiener_restored]\n",
        "titles = [\"Original\", \"Blurred\", \"Degraded\", \"Wiener\"]\n",
        "\n",
        "for i, ax in enumerate(axes.flat[:4]):\n",
        "    ax.imshow(images[i], cmap='gray')\n",
        "    ax.set_title(titles[i])\n",
        "    ax.axis('off')\n",
        "\n",
        "psnr_wiener = psnr(image, wiener_restored)\n",
        "print(f\"PSNR (Wiener): {psnr_wiener:.2f} dB\")"
      ]
    },
    {
      "cell_type": "markdown",
      "metadata": {
        "id": "geWgokwMD41Y"
      },
      "source": [
        "## Maximum A Posteriori (MAP)"
      ]
    },
    {
      "cell_type": "code",
      "execution_count": null,
      "metadata": {
        "id": "OI6ZwQU1D6Bo"
      },
      "outputs": [],
      "source": [
        "def map_estimation(degraded, sigma_noise=25):\n",
        "    return gaussian_filter(degraded, sigma=1)\n",
        "\n",
        "\n",
        "map_restored = map_estimation(degraded)"
      ]
    },
    {
      "cell_type": "code",
      "execution_count": null,
      "metadata": {
        "colab": {
          "base_uri": "https://localhost:8080/",
          "height": 329
        },
        "id": "NbSXzO6YEEWC",
        "outputId": "0737cbe8-5002-43f9-9125-5279f2a1a8f8"
      },
      "outputs": [],
      "source": [
        "fig, axes = plt.subplots(1, 4, figsize=(15, 9))\n",
        "images = [image, blurred, degraded, map_restored]\n",
        "titles = [\"Original\", \"Blurred\", \"Degraded\", \"MAP\"]\n",
        "\n",
        "for i, ax in enumerate(axes.flat[:4]):\n",
        "    ax.imshow(images[i], cmap='gray')\n",
        "    ax.set_title(titles[i])\n",
        "    ax.axis('off')\n",
        "\n",
        "psnr_map = psnr(image, map_restored)\n",
        "print(f\"PSNR (MAP): {psnr_map:.2f} dB\")"
      ]
    },
    {
      "cell_type": "markdown",
      "metadata": {
        "id": "Y18_6sChEZJU"
      },
      "source": [
        "## Maximum Likelihood Estimation (MLE)"
      ]
    },
    {
      "cell_type": "code",
      "execution_count": null,
      "metadata": {
        "colab": {
          "base_uri": "https://localhost:8080/"
        },
        "id": "Uxbq3ElzEctK",
        "outputId": "851d278c-1ae1-407c-99e9-29f80310bc11"
      },
      "outputs": [],
      "source": [
        "def mle_estimation(degraded):\n",
        "    mu = np.mean(degraded)\n",
        "    sigma = np.std(degraded)\n",
        "    restored = np.clip((degraded - mu) / sigma, 0, 255)\n",
        "    return restored, mu, sigma\n",
        "\n",
        "\n",
        "mle_restored, mu, sigma = mle_estimation(degraded)\n",
        "print(mu, sigma)"
      ]
    },
    {
      "cell_type": "code",
      "execution_count": null,
      "metadata": {
        "colab": {
          "base_uri": "https://localhost:8080/",
          "height": 364
        },
        "id": "ESrUgWFKEjGz",
        "outputId": "f52d827c-741a-49af-daf4-8153cbea6dc9"
      },
      "outputs": [],
      "source": [
        "fig, axes = plt.subplots(1, 4, figsize=(15, 9))\n",
        "images = [image, blurred, degraded, mle_restored]\n",
        "titles = [\"Original\", \"Blurred\", \"Degraded\", \"MLE\"]\n",
        "\n",
        "for i, ax in enumerate(axes.flat[:4]):\n",
        "    ax.imshow(images[i], cmap='gray')\n",
        "    ax.set_title(titles[i])\n",
        "    ax.axis('off')\n",
        "\n",
        "psnr_mle = psnr(image, mle_restored)\n",
        "print(f\"PSNR (MLE): {psnr_mle:.2f} dB\")"
      ]
    },
    {
      "cell_type": "markdown",
      "metadata": {
        "id": "vcINZ1x-G64s"
      },
      "source": [
        "# Experiment 11 - Edge Detection Techniques"
      ]
    },
    {
      "cell_type": "code",
      "execution_count": null,
      "metadata": {
        "id": "fKQMxJUJHX0H"
      },
      "outputs": [],
      "source": [
        "import cv2\n",
        "import numpy as np\n",
        "from scipy.ndimage import gaussian_filter\n",
        "\n",
        "image = cv2.imread('sample.jpg', cv2.IMREAD_GRAYSCALE)"
      ]
    },
    {
      "cell_type": "markdown",
      "metadata": {
        "id": "fb9r_k2-Hlqd"
      },
      "source": [
        "## Sobel Operator - First Order Derivative"
      ]
    },
    {
      "cell_type": "code",
      "execution_count": null,
      "metadata": {
        "id": "ifpsdx-yHACR"
      },
      "outputs": [],
      "source": [
        "sobel_x = cv2.Sobel(image, cv2.CV_64F, 1, 0, ksize=3)  # X\n",
        "sobel_y = cv2.Sobel(image, cv2.CV_64F, 0, 1, ksize=3)  # Y\n",
        "sobel_magnitude = np.sqrt(sobel_x**2 + sobel_y**2)\n",
        "sobel_magnitude = np.uint8(sobel_magnitude)"
      ]
    },
    {
      "cell_type": "markdown",
      "metadata": {
        "id": "A6PpCetPPIsQ"
      },
      "source": [
        "## Canny Detection"
      ]
    },
    {
      "cell_type": "code",
      "execution_count": null,
      "metadata": {
        "id": "IftA3mRYPIH7"
      },
      "outputs": [],
      "source": [
        "canny_edges = cv2.Canny(image, 50, 150)"
      ]
    },
    {
      "cell_type": "markdown",
      "metadata": {
        "id": "82K8wJhIHzYk"
      },
      "source": [
        "## Laplacian of Gaussian Filter"
      ]
    },
    {
      "cell_type": "code",
      "execution_count": null,
      "metadata": {
        "id": "ZIi3hgoWH6td"
      },
      "outputs": [],
      "source": [
        "gaussian_blur = cv2.GaussianBlur(image, (5, 5), 1)\n",
        "\n",
        "sobel_x = cv2.Sobel(gaussian_blur, cv2.CV_64F, 1, 0, ksize=3)\n",
        "sobel_y = cv2.Sobel(gaussian_blur, cv2.CV_64F, 0, 1, ksize=3)\n",
        "\n",
        "sobel_xx = cv2.Sobel(sobel_x, cv2.CV_64F, 1, 0, ksize=3)  # Second derivative in X\n",
        "sobel_yy = cv2.Sobel(sobel_y, cv2.CV_64F, 0, 1, ksize=3)  # Second derivative in Y\n",
        "\n",
        "log_sobel = sobel_xx + sobel_yy\n",
        "\n",
        "log_sobel = np.uint8(np.abs(log_sobel))"
      ]
    },
    {
      "cell_type": "markdown",
      "metadata": {
        "id": "eh7FSmEVIC_B"
      },
      "source": [
        "## Difference of Gausian Filer"
      ]
    },
    {
      "cell_type": "code",
      "execution_count": null,
      "metadata": {
        "id": "WqanqS5xIGX8"
      },
      "outputs": [],
      "source": [
        "gaussian1 = cv2.GaussianBlur(image, (5, 5), 1)\n",
        "gaussian2 = cv2.GaussianBlur(image, (5, 5), 2)\n",
        "dog = gaussian1 - gaussian2"
      ]
    },
    {
      "cell_type": "markdown",
      "metadata": {
        "id": "_ENNB6MeO5A_"
      },
      "source": [
        "## Differenitation of Gaussian Filter"
      ]
    },
    {
      "cell_type": "code",
      "execution_count": null,
      "metadata": {
        "id": "rxQuJhRET6el"
      },
      "outputs": [],
      "source": [
        "gaussian_blur_dog = cv2.GaussianBlur(image, (5, 5), 1)\n",
        "dog_sobel_x = cv2.Sobel(gaussian_blur_dog, cv2.CV_64F, 1, 0, ksize=3)\n",
        "dog_sobel_y = cv2.Sobel(gaussian_blur_dog, cv2.CV_64F, 0, 1, ksize=3)\n",
        "dog_sobel = np.sqrt(dog_sobel_x**2 + dog_sobel_y**2)\n",
        "dog_sobel = np.uint8(dog_sobel)"
      ]
    },
    {
      "cell_type": "markdown",
      "metadata": {
        "id": "o01bkvzXT8L6"
      },
      "source": [
        "## Results"
      ]
    },
    {
      "cell_type": "code",
      "execution_count": null,
      "metadata": {
        "colab": {
          "base_uri": "https://localhost:8080/",
          "height": 1000
        },
        "id": "9LUH4sMoT9L3",
        "outputId": "83b52843-c5ac-4675-b539-7f95d60d3324"
      },
      "outputs": [],
      "source": [
        "from google.colab.patches import cv2_imshow\n",
        "\n",
        "cv2_imshow(image)\n",
        "cv2_imshow(sobel_magnitude)\n",
        "cv2_imshow(log_sobel)\n",
        "cv2_imshow(dog)\n",
        "cv2_imshow(dog_sobel)\n",
        "cv2_imshow(canny_edges)\n",
        "\n",
        "cv2.waitKey(0)\n",
        "cv2.destroyAllWindows()"
      ]
    },
    {
      "cell_type": "markdown",
      "metadata": {
        "id": "fukT-8VQZkL4"
      },
      "source": [
        "## Median Filtering"
      ]
    },
    {
      "cell_type": "code",
      "execution_count": null,
      "metadata": {
        "id": "rxtbLrZoZjZm"
      },
      "outputs": [],
      "source": [
        "def median_filter(image, kernel_size=3):\n",
        "    height, width = image.shape\n",
        "    pad = kernel_size // 2\n",
        "    padded_image = np.pad(image, pad, mode='constant', constant_values=0)\n",
        "    filtered_image = np.zeros_like(image)\n",
        "\n",
        "    for i in range(height):\n",
        "        for j in range(width):\n",
        "\n",
        "            kernel = padded_image[i:i+kernel_size, j:j+kernel_size].flatten()\n",
        "\n",
        "            filtered_image[i, j] = np.median(kernel)\n",
        "\n",
        "    return filtered_image"
      ]
    },
    {
      "cell_type": "code",
      "execution_count": null,
      "metadata": {
        "id": "z47I9SpvZ7I1"
      },
      "outputs": [],
      "source": [
        "filtered_image = median_filter(image, kernel_size=3)"
      ]
    },
    {
      "cell_type": "code",
      "execution_count": null,
      "metadata": {
        "id": "4lBxSjT8Z-vT"
      },
      "outputs": [],
      "source": [
        "cv2_imshow(filtered_image)"
      ]
    }
  ],
  "metadata": {
    "accelerator": "GPU",
    "colab": {
      "collapsed_sections": [
        "BjlHuHD6DvNY",
        "wAf5VzHTJhMP",
        "DqjI-8boNOQl"
      ],
      "gpuType": "T4",
      "provenance": []
    },
    "kernelspec": {
      "display_name": "Python 3",
      "name": "python3"
    },
    "language_info": {
      "name": "python"
    }
  },
  "nbformat": 4,
  "nbformat_minor": 0
}
