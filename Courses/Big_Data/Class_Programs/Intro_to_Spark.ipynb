{
 "cells": [
  {
   "cell_type": "markdown",
   "metadata": {
    "id": "vY9NUZ_rhSq8"
   },
   "source": [
    "# INTRODUCTION TO SPARK"
   ]
  },
  {
   "cell_type": "code",
   "execution_count": 40,
   "metadata": {
    "id": "YCLqBG5eVDle"
   },
   "outputs": [],
   "source": [
    "from pyspark.sql import SparkSession\n",
    "from pyspark.sql.functions import when, avg, col\n",
    "from pyspark.ml.feature import StringIndexer\n",
    "import pyspark.sql.functions as F"
   ]
  },
  {
   "cell_type": "markdown",
   "metadata": {
    "id": "2nI8rm21XjBv"
   },
   "source": [
    "Create Spark session"
   ]
  },
  {
   "cell_type": "code",
   "execution_count": 41,
   "metadata": {
    "id": "yuD8zBYfX-FD"
   },
   "outputs": [],
   "source": [
    "spark = SparkSession.builder.appName(\"RealEstate\").getOrCreate()\n"
   ]
  },
  {
   "cell_type": "markdown",
   "metadata": {
    "id": "2ZYPVMv8bg4j"
   },
   "source": [
    "Dataframe"
   ]
  },
  {
   "cell_type": "code",
   "execution_count": 42,
   "metadata": {
    "colab": {
     "base_uri": "https://localhost:8080/"
    },
    "id": "mdSvN0eUboXn",
    "outputId": "4a636d4b-84d8-4a39-8080-97b41c48ab1f"
   },
   "outputs": [
    {
     "name": "stdout",
     "output_type": "stream",
     "text": [
      "root\n",
      " |-- Address: string (nullable = true)\n",
      " |-- Rooms: integer (nullable = true)\n",
      " |-- Price: integer (nullable = true)\n",
      " |-- Bedroom: integer (nullable = true)\n",
      " |-- Bathroom: integer (nullable = true)\n",
      " |-- Landsize: integer (nullable = true)\n",
      " |-- YearBuilt: integer (nullable = true)\n",
      " |-- Regionname: string (nullable = true)\n",
      " |-- Suburb: string (nullable = true)\n",
      " |-- Type: string (nullable = true)\n",
      "\n",
      "+----------------+-----+-------+-------+--------+--------+---------+--------------------+----------+----+\n",
      "|         Address|Rooms|  Price|Bedroom|Bathroom|Landsize|YearBuilt|          Regionname|    Suburb|Type|\n",
      "+----------------+-----+-------+-------+--------+--------+---------+--------------------+----------+----+\n",
      "|    85 Turner St|    2|1480000|      2|       1|     202|     NULL|Northern Metropol...|Abbotsford|   h|\n",
      "| 25 Bloomburg St|    2|1035000|      2|       1|     156|     1900|Northern Metropol...|Abbotsford|   h|\n",
      "|    5 Charles St|    3|1465000|      3|       2|     134|     1900|Northern Metropol...|Abbotsford|   h|\n",
      "|40 Federation La|    3| 850000|      3|       2|      94|     NULL|Northern Metropol...|Abbotsford|   h|\n",
      "|     55a Park St|    4|1600000|      3|       1|     120|     2014|Northern Metropol...|Abbotsford|   h|\n",
      "+----------------+-----+-------+-------+--------+--------+---------+--------------------+----------+----+\n",
      "only showing top 5 rows\n",
      "\n"
     ]
    }
   ],
   "source": [
    "df = spark.read.csv(\"real_estate.csv\", header=True, inferSchema=True)\n",
    "df.printSchema()\n",
    "df.show(5)"
   ]
  },
  {
   "cell_type": "markdown",
   "metadata": {
    "id": "6XzbIRifbzU1"
   },
   "source": [
    "1. Encode Address Variable"
   ]
  },
  {
   "cell_type": "code",
   "execution_count": 43,
   "metadata": {
    "id": "3TzzO3SIb28D"
   },
   "outputs": [],
   "source": [
    "address_indexer = StringIndexer(inputCol=\"Address\", outputCol=\"Address_Index\")\n",
    "df = address_indexer.fit(df).transform(df)"
   ]
  },
  {
   "cell_type": "markdown",
   "metadata": {
    "id": "SLaqVsYtb9-m"
   },
   "source": [
    "2. Map the year of built (4-digits) to a single digit\n",
    "\n",
    "1800 -> 8 <br>\n",
    "[1801 - 1850] -> 7 <br>\n",
    "[1851 - 1900] -> 6 <br>\n",
    ".... <br>\n",
    "[2001 - 2023] -> 1 <br>\n",
    "otherwise -> 0"
   ]
  },
  {
   "cell_type": "code",
   "execution_count": 44,
   "metadata": {
    "id": "eTKWG4h4cw2y"
   },
   "outputs": [],
   "source": [
    "df = df.withColumn(\"YearBuilt\", col(\"YearBuilt\").cast(\"int\"))\n",
    "\n",
    "df = df.withColumn(\n",
    "    \"YearBuilt_Category\",\n",
    "    when(col(\"YearBuilt\") < 1800, 8)\n",
    "    .when((col(\"YearBuilt\") >= 1800) & (col(\"YearBuilt\") <= 1850), 7)\n",
    "    .when((col(\"YearBuilt\") >= 1851) & (col(\"YearBuilt\") <= 1900), 6)\n",
    "    .when((col(\"YearBuilt\") >= 1901) & (col(\"YearBuilt\") <= 1920), 5)\n",
    "    .when((col(\"YearBuilt\") >= 1921) & (col(\"YearBuilt\") <= 1950), 4)\n",
    "    .when((col(\"YearBuilt\") >= 1951) & (col(\"YearBuilt\") <= 1980), 3)\n",
    "    .when((col(\"YearBuilt\") >= 1981) & (col(\"YearBuilt\") <= 2000), 2)\n",
    "    .when((col(\"YearBuilt\") >= 2001) & (col(\"YearBuilt\") <= 2023), 1)\n",
    "    .otherwise(0)\n",
    ")"
   ]
  },
  {
   "cell_type": "markdown",
   "metadata": {
    "id": "BdbBMO52c4x3"
   },
   "source": [
    "3.Find the most dominant house type (mode) in the region Western Metropolitan in Sparkdf style and SQL style."
   ]
  },
  {
   "cell_type": "code",
   "execution_count": 45,
   "metadata": {
    "colab": {
     "base_uri": "https://localhost:8080/"
    },
    "id": "v0HwV49EdEEL",
    "outputId": "b1ef04b5-6d2d-4784-d252-5abf5b3a923a"
   },
   "outputs": [
    {
     "name": "stdout",
     "output_type": "stream",
     "text": [
      "Most Dominant House Type: h\n"
     ]
    }
   ],
   "source": [
    "region_df = df.filter(col(\"Regionname\") == \"Western Metropolitan\")\n",
    "dominant_house_type = region_df.groupBy(\"Type\").count().orderBy(col(\"count\").desc()).first()[0]\n",
    "print(f\"Most Dominant House Type: {dominant_house_type}\")"
   ]
  },
  {
   "cell_type": "code",
   "execution_count": 46,
   "metadata": {
    "colab": {
     "base_uri": "https://localhost:8080/"
    },
    "id": "89yIWhfbdNF_",
    "outputId": "c3812dbf-d063-473c-9e20-a8e59a10ed0f"
   },
   "outputs": [
    {
     "name": "stdout",
     "output_type": "stream",
     "text": [
      "+----+-----------------+\n",
      "|Type|     Average_Cost|\n",
      "+----+-----------------+\n",
      "|   h|950766.2659388647|\n",
      "|   u|488414.4248210024|\n",
      "|   t|720951.0460251046|\n",
      "+----+-----------------+\n",
      "\n"
     ]
    }
   ],
   "source": [
    "average_cost = region_df.groupBy(\"Type\").agg(avg(\"Price\").alias(\"Average_Cost\"))\n",
    "average_cost.show()"
   ]
  },
  {
   "cell_type": "markdown",
   "metadata": {
    "id": "V7800B7AdoLV"
   },
   "source": [
    "4. Write SparkSQL query for the same"
   ]
  },
  {
   "cell_type": "code",
   "execution_count": 47,
   "metadata": {
    "id": "vjnec4podsjJ"
   },
   "outputs": [],
   "source": [
    "df.createOrReplaceTempView(\"real_estate\") # Creating a view out of the dataset"
   ]
  },
  {
   "cell_type": "code",
   "execution_count": 48,
   "metadata": {
    "colab": {
     "base_uri": "https://localhost:8080/"
    },
    "id": "sLqYc_Wnd742",
    "outputId": "80958239-2473-4790-baae-f640eaca2285"
   },
   "outputs": [
    {
     "name": "stdout",
     "output_type": "stream",
     "text": [
      "Most Dominant House Type: h\n"
     ]
    }
   ],
   "source": [
    "dominant_house_type_query = \"\"\"\n",
    "SELECT Type, COUNT(*) AS count\n",
    "FROM real_estate\n",
    "WHERE Regionname = 'Western Metropolitan'\n",
    "GROUP BY Type\n",
    "ORDER BY count DESC\n",
    "LIMIT 1\n",
    "\"\"\"\n",
    "\n",
    "dominant_house_type = spark.sql(dominant_house_type_query).first()[0]\n",
    "print(f\"Most Dominant House Type: {dominant_house_type}\")"
   ]
  },
  {
   "cell_type": "code",
   "execution_count": 49,
   "metadata": {
    "colab": {
     "base_uri": "https://localhost:8080/"
    },
    "id": "qknrzxIqeTXP",
    "outputId": "101121ad-304f-4782-b163-66b0e3be6652"
   },
   "outputs": [
    {
     "name": "stdout",
     "output_type": "stream",
     "text": [
      "+----+-----------------+\n",
      "|Type|     Average_Cost|\n",
      "+----+-----------------+\n",
      "|   h|950766.2659388647|\n",
      "|   u|488414.4248210024|\n",
      "|   t|720951.0460251046|\n",
      "+----+-----------------+\n",
      "\n"
     ]
    }
   ],
   "source": [
    "average_cost_query = \"\"\"\n",
    "SELECT Type, AVG(Price) AS Average_Cost\n",
    "FROM real_estate\n",
    "WHERE Regionname = 'Western Metropolitan'\n",
    "GROUP BY Type\n",
    "\"\"\"\n",
    "\n",
    "average_cost = spark.sql(average_cost_query)\n",
    "average_cost.show()"
   ]
  },
  {
   "cell_type": "markdown",
   "metadata": {
    "id": "1DVXDdmYgimN"
   },
   "source": [
    "5. Calculate the average cost of the rooms based on number of bedrooms available in map-reduce paradigm."
   ]
  },
  {
   "cell_type": "code",
   "execution_count": 50,
   "metadata": {
    "colab": {
     "base_uri": "https://localhost:8080/"
    },
    "id": "Yb-98ji0guXH",
    "outputId": "aad9b5a7-a330-4876-84b5-c26c608bb9cf"
   },
   "outputs": [
    {
     "name": "stdout",
     "output_type": "stream",
     "text": [
      "Bedroom: 2, Average Price: 787672.8067968959\n",
      "Bedroom: 3, Average Price: 1082497.8044436907\n",
      "Bedroom: 4, Average Price: 1452231.913110342\n",
      "Bedroom: 1, Average Price: 447282.4182344428\n",
      "Bedroom: 6, Average Price: 1831992.0634920634\n",
      "Bedroom: 5, Average Price: 1854027.1726618705\n",
      "Bedroom: 0, Average Price: 1030218.75\n",
      "Bedroom: 8, Average Price: 1423200.0\n",
      "Bedroom: 9, Average Price: 1487000.0\n",
      "Bedroom: 7, Average Price: 1865700.0\n",
      "Bedroom: 20, Average Price: 1650000.0\n",
      "Bedroom: 10, Average Price: 900000.0\n"
     ]
    }
   ],
   "source": [
    "rdd = df.select(\"Bedroom\", \"Price\").rdd\n",
    "bedroom_price_pairs = rdd.map(lambda row: (row[\"Bedroom\"], (row[\"Price\"], 1)))\n",
    "bedroom_totals = bedroom_price_pairs.reduceByKey(\n",
    "    lambda acc, val: (acc[0] + val[0], acc[1] + val[1])\n",
    ")\n",
    "\n",
    "average_price_by_bedroom = bedroom_totals.mapValues(lambda x: x[0] / x[1])\n",
    "for bedroom, avg_price in average_price_by_bedroom.collect():\n",
    "    print(f\"Bedroom: {bedroom}, Average Price: {avg_price}\")"
   ]
  },
  {
   "cell_type": "code",
   "execution_count": 51,
   "metadata": {
    "id": "lA85IkaodU_-"
   },
   "outputs": [],
   "source": [
    "spark.stop()"
   ]
  }
 ],
 "metadata": {
  "colab": {
   "provenance": [],
   "toc_visible": true
  },
  "kernelspec": {
   "display_name": "Python 3",
   "name": "python3"
  },
  "language_info": {
   "name": "python"
  }
 },
 "nbformat": 4,
 "nbformat_minor": 0
}
