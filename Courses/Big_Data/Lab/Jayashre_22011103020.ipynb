{
  "nbformat": 4,
  "nbformat_minor": 0,
  "metadata": {
    "colab": {
      "provenance": []
    },
    "kernelspec": {
      "name": "python3",
      "display_name": "Python 3"
    },
    "language_info": {
      "name": "python"
    }
  },
  "cells": [
    {
      "cell_type": "code",
      "source": [
        "import zipfile\n",
        "import os\n",
        "zip_file_path = '/content/PySpark, PySQL notebook - Raahul.zip'\n",
        "output_directory = 'content'\n",
        "os.makedirs(output_directory, exist_ok=True)\n",
        "with zipfile.ZipFile(zip_file_path, 'r') as zip_ref:\n",
        "    zip_ref.extractall(output_directory)"
      ],
      "metadata": {
        "id": "Uh17uW2NiX5K"
      },
      "execution_count": 1,
      "outputs": []
    },
    {
      "cell_type": "code",
      "execution_count": 2,
      "metadata": {
        "colab": {
          "base_uri": "https://localhost:8080/"
        },
        "id": "vP23dAVQh2EA",
        "outputId": "79fe66c6-75cd-4e42-dbe4-98dcfe25ac89"
      },
      "outputs": [
        {
          "output_type": "stream",
          "name": "stdout",
          "text": [
            "Requirement already satisfied: pyspark in /usr/local/lib/python3.10/dist-packages (3.5.3)\n",
            "Requirement already satisfied: py4j==0.10.9.7 in /usr/local/lib/python3.10/dist-packages (from pyspark) (0.10.9.7)\n"
          ]
        }
      ],
      "source": [
        "!pip install pyspark\n"
      ]
    },
    {
      "cell_type": "code",
      "source": [
        "from pyspark.sql import SparkSession\n",
        "\n",
        "spark = SparkSession.builder.appName(\"RealEstate\").getOrCreate()\n"
      ],
      "metadata": {
        "id": "ub79VFbnh6J-"
      },
      "execution_count": 3,
      "outputs": []
    },
    {
      "cell_type": "code",
      "source": [
        "real_estate_df = spark.read.csv('/content/content/real_estate.csv', header=True, inferSchema=True)\n"
      ],
      "metadata": {
        "id": "ndtwtwGDh8x_"
      },
      "execution_count": 4,
      "outputs": []
    },
    {
      "cell_type": "code",
      "source": [
        "df = spark.read.csv(\"/content/content/real_estate.csv\", header=True, inferSchema=True)"
      ],
      "metadata": {
        "id": "f3tDAvzUjn0M"
      },
      "execution_count": 11,
      "outputs": []
    },
    {
      "cell_type": "code",
      "source": [
        "df.printSchema()"
      ],
      "metadata": {
        "colab": {
          "base_uri": "https://localhost:8080/"
        },
        "id": "pFI07VNNj6qp",
        "outputId": "1cc8291f-53fa-437e-a55f-18b2a3e3cb2b"
      },
      "execution_count": 13,
      "outputs": [
        {
          "output_type": "stream",
          "name": "stdout",
          "text": [
            "root\n",
            " |-- Address: string (nullable = true)\n",
            " |-- Rooms: integer (nullable = true)\n",
            " |-- Price: integer (nullable = true)\n",
            " |-- Bedroom: integer (nullable = true)\n",
            " |-- Bathroom: integer (nullable = true)\n",
            " |-- Landsize: integer (nullable = true)\n",
            " |-- YearBuilt: integer (nullable = true)\n",
            " |-- Regionname: string (nullable = true)\n",
            " |-- Suburb: string (nullable = true)\n",
            " |-- Type: string (nullable = true)\n",
            "\n"
          ]
        }
      ]
    },
    {
      "cell_type": "code",
      "source": [
        "df.createOrReplaceTempView(\"real_estate\")"
      ],
      "metadata": {
        "id": "TlU307i9j9VA"
      },
      "execution_count": 14,
      "outputs": []
    },
    {
      "cell_type": "code",
      "source": [
        "print(list(real_estate_df.columns))"
      ],
      "metadata": {
        "colab": {
          "base_uri": "https://localhost:8080/"
        },
        "id": "9G8DSgYtinhP",
        "outputId": "26e3a461-f588-4b68-f435-2c02870fd998"
      },
      "execution_count": 6,
      "outputs": [
        {
          "output_type": "stream",
          "name": "stdout",
          "text": [
            "['Address', 'Rooms', 'Price', 'Bedroom', 'Bathroom', 'Landsize', 'YearBuilt', 'Regionname', 'Suburb', 'Type']\n"
          ]
        }
      ]
    },
    {
      "cell_type": "markdown",
      "source": [
        "### Number of houses built before 2000"
      ],
      "metadata": {
        "id": "6GDajrKHiAr1"
      }
    },
    {
      "cell_type": "code",
      "source": [
        "houses_before_2000 = real_estate_df.filter(real_estate_df['YearBuilt'] < 2000).count()\n",
        "print(\"Number of houses built before 2000:\", houses_before_2000)\n"
      ],
      "metadata": {
        "colab": {
          "base_uri": "https://localhost:8080/"
        },
        "id": "iBXyA-PviB4D",
        "outputId": "fda2a0c4-66aa-4f53-feef-1b9d73d3d99c"
      },
      "execution_count": 7,
      "outputs": [
        {
          "output_type": "stream",
          "name": "stdout",
          "text": [
            "Number of houses built before 2000: 6169\n"
          ]
        }
      ]
    },
    {
      "cell_type": "code",
      "source": [
        "houses_before_2000_query = \"\"\"\n",
        "SELECT COUNT(*) AS NumberOfHousesBefore2000\n",
        "FROM real_estate\n",
        "WHERE YearBuilt < 2000\n",
        "\"\"\"\n",
        "houses_before_2000_result = spark.sql(houses_before_2000_query)\n",
        "houses_before_2000_result.show()"
      ],
      "metadata": {
        "colab": {
          "base_uri": "https://localhost:8080/"
        },
        "id": "O-HcQ17Mi6ZH",
        "outputId": "71ef73a3-c3df-4e84-dcef-017e9c041d1a"
      },
      "execution_count": 15,
      "outputs": [
        {
          "output_type": "stream",
          "name": "stdout",
          "text": [
            "+------------------------+\n",
            "|NumberOfHousesBefore2000|\n",
            "+------------------------+\n",
            "|                    6169|\n",
            "+------------------------+\n",
            "\n"
          ]
        }
      ]
    },
    {
      "cell_type": "markdown",
      "source": [
        "### Number of houses whose price is greater than the average price"
      ],
      "metadata": {
        "id": "_qkMeCgTiI4H"
      }
    },
    {
      "cell_type": "code",
      "source": [
        "average_price = real_estate_df.agg({'Price': 'avg'}).collect()[0][0]\n",
        "\n",
        "# Count houses whose price is greater than the average price\n",
        "houses_above_average_price = real_estate_df.filter(real_estate_df['Price'] > average_price).count()\n",
        "print(\"Number of houses with price greater than average:\", houses_above_average_price)\n"
      ],
      "metadata": {
        "colab": {
          "base_uri": "https://localhost:8080/"
        },
        "id": "WvLmEogfiIm6",
        "outputId": "0536f70d-58a8-47fa-f47c-11808ec0bb56"
      },
      "execution_count": 8,
      "outputs": [
        {
          "output_type": "stream",
          "name": "stdout",
          "text": [
            "Number of houses with price greater than average: 5186\n"
          ]
        }
      ]
    },
    {
      "cell_type": "code",
      "source": [
        "above_average_price_query = \"\"\"\n",
        "WITH AvgPrice AS (\n",
        "    SELECT AVG(Price) AS AveragePrice\n",
        "    FROM real_estate\n",
        ")\n",
        "SELECT COUNT(*) AS NumberOfHousesAboveAverage\n",
        "FROM real_estate\n",
        "WHERE Price > (SELECT AveragePrice FROM AvgPrice)\n",
        "\"\"\"\n",
        "above_average_price_result = spark.sql(above_average_price_query)\n",
        "above_average_price_result.show()"
      ],
      "metadata": {
        "colab": {
          "base_uri": "https://localhost:8080/"
        },
        "id": "Xiy4Zj4yj0Jo",
        "outputId": "808c6d6a-69e0-4a7d-97d5-fd0aa068d630"
      },
      "execution_count": 16,
      "outputs": [
        {
          "output_type": "stream",
          "name": "stdout",
          "text": [
            "+--------------------------+\n",
            "|NumberOfHousesAboveAverage|\n",
            "+--------------------------+\n",
            "|                      5186|\n",
            "+--------------------------+\n",
            "\n"
          ]
        }
      ]
    },
    {
      "cell_type": "markdown",
      "source": [
        "### Average price of a home with Regionname = \"Southern Metropolitan\" and Suburb=\"Albert Park\""
      ],
      "metadata": {
        "id": "D2C_I9hbiLEl"
      }
    },
    {
      "cell_type": "code",
      "source": [
        "average_price_albert_park = real_estate_df.filter(\n",
        "    (real_estate_df['Regionname'] == \"Southern Metropolitan\") &\n",
        "    (real_estate_df['Suburb'] == \"Albert Park\")\n",
        ").agg({'Price': 'avg'}).collect()[0][0]\n",
        "\n",
        "print(\"Average price of home in Southern Metropolitan, Albert Park:\", average_price_albert_park)"
      ],
      "metadata": {
        "colab": {
          "base_uri": "https://localhost:8080/"
        },
        "id": "VAW5H92yiNg_",
        "outputId": "3e742ec7-ed16-43d8-d122-ba8b8ecc2847"
      },
      "execution_count": 9,
      "outputs": [
        {
          "output_type": "stream",
          "name": "stdout",
          "text": [
            "Average price of home in Southern Metropolitan, Albert Park: 1941355.072463768\n"
          ]
        }
      ]
    },
    {
      "cell_type": "code",
      "source": [
        "average_price_query = \"\"\"\n",
        "SELECT AVG(Price) AS AveragePrice\n",
        "FROM real_estate\n",
        "WHERE Regionname = 'Southern Metropolitan' AND Suburb = 'Albert Park'\n",
        "\"\"\"\n",
        "average_price_result = spark.sql(average_price_query)\n",
        "average_price_result.show()"
      ],
      "metadata": {
        "colab": {
          "base_uri": "https://localhost:8080/"
        },
        "id": "8x8efglnj3wt",
        "outputId": "54f0ed9d-2dcc-4108-c44c-ffee8368e4f4"
      },
      "execution_count": 17,
      "outputs": [
        {
          "output_type": "stream",
          "name": "stdout",
          "text": [
            "+-----------------+\n",
            "|     AveragePrice|\n",
            "+-----------------+\n",
            "|1941355.072463768|\n",
            "+-----------------+\n",
            "\n"
          ]
        }
      ]
    }
  ]
}